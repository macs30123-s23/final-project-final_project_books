{
 "cells": [
  {
   "cell_type": "code",
   "execution_count": 16,
   "metadata": {},
   "outputs": [
    {
     "name": "stdout",
     "output_type": "stream",
     "text": [
      "Starting Spark application\n"
     ]
    },
    {
     "data": {
      "text/html": [
       "<table>\n",
       "<tr><th>ID</th><th>YARN Application ID</th><th>Kind</th><th>State</th><th>Spark UI</th><th>Driver log</th><th>Current session?</th></tr><tr><td>1</td><td>application_1685132468463_0003</td><td>pyspark</td><td>idle</td><td><a target=\"_blank\" href=\"http://ip-172-31-25-255.ec2.internal:20888/proxy/application_1685132468463_0003/\">Link</a></td><td><a target=\"_blank\" href=\"http://ip-172-31-26-225.ec2.internal:8042/node/containerlogs/container_1685132468463_0003_01_000001/livy\">Link</a></td><td>✔</td></tr></table>"
      ],
      "text/plain": [
       "<IPython.core.display.HTML object>"
      ]
     },
     "metadata": {},
     "output_type": "display_data"
    },
    {
     "data": {
      "application/vnd.jupyter.widget-view+json": {
       "model_id": "",
       "version_major": 2,
       "version_minor": 0
      },
      "text/plain": [
       "FloatProgress(value=0.0, bar_style='info', description='Progress:', layout=Layout(height='25px', width='50%'),…"
      ]
     },
     "metadata": {},
     "output_type": "display_data"
    },
    {
     "name": "stdout",
     "output_type": "stream",
     "text": [
      "SparkSession available as 'spark'.\n"
     ]
    },
    {
     "data": {
      "text/html": [
       "Current session configs: <tt>{'conf': {'spark.jars.packages': 'com.johnsnowlabs.nlp:spark-nlp_2.12:4.3.1', 'spark.pyspark.python': 'python3', 'spark.pyspark.virtualenv.enabled': 'true', 'spark.pyspark.virtualenv.type': 'native', 'spark.pyspark.virtualenv.bin.path': '/usr/bin/virtualenv', 'spark.executor.memory': '4g'}, 'proxyUser': 'jovyan', 'kind': 'pyspark'}</tt><br>"
      ],
      "text/plain": [
       "<IPython.core.display.HTML object>"
      ]
     },
     "metadata": {},
     "output_type": "display_data"
    },
    {
     "data": {
      "text/html": [
       "<table>\n",
       "<tr><th>ID</th><th>YARN Application ID</th><th>Kind</th><th>State</th><th>Spark UI</th><th>Driver log</th><th>Current session?</th></tr><tr><td>1</td><td>application_1685132468463_0003</td><td>pyspark</td><td>idle</td><td><a target=\"_blank\" href=\"http://ip-172-31-25-255.ec2.internal:20888/proxy/application_1685132468463_0003/\">Link</a></td><td><a target=\"_blank\" href=\"http://ip-172-31-26-225.ec2.internal:8042/node/containerlogs/container_1685132468463_0003_01_000001/livy\">Link</a></td><td>✔</td></tr></table>"
      ],
      "text/plain": [
       "<IPython.core.display.HTML object>"
      ]
     },
     "metadata": {},
     "output_type": "display_data"
    }
   ],
   "source": [
    "%%configure -f\n",
    "{\n",
    "    \"conf\": {\n",
    "        \"spark.jars.packages\": \"com.johnsnowlabs.nlp:spark-nlp_2.12:4.3.1\",\n",
    "        \"spark.pyspark.python\": \"python3\",\n",
    "        \"spark.pyspark.virtualenv.enabled\": \"true\",\n",
    "        \"spark.pyspark.virtualenv.type\": \"native\",\n",
    "        \"spark.pyspark.virtualenv.bin.path\": \"/usr/bin/virtualenv\",\n",
    "        \"spark.executor.memory\": \"4g\"   \n",
    "    }\n",
    "}"
   ]
  },
  {
   "cell_type": "code",
   "execution_count": 17,
   "metadata": {},
   "outputs": [
    {
     "data": {
      "application/vnd.jupyter.widget-view+json": {
       "model_id": "",
       "version_major": 2,
       "version_minor": 0
      },
      "text/plain": [
       "FloatProgress(value=0.0, bar_style='info', description='Progress:', layout=Layout(height='25px', width='50%'),…"
      ]
     },
     "metadata": {},
     "output_type": "display_data"
    },
    {
     "name": "stdout",
     "output_type": "stream",
     "text": [
      "Collecting spark-nlp\n",
      "  Using cached https://files.pythonhosted.org/packages/e2/88/943fb14a2b024bf328bcc448837f75114ac97478db9def2e2042b2818aaa/spark_nlp-4.4.3-py2.py3-none-any.whl\n",
      "Installing collected packages: spark-nlp\n",
      "Successfully installed spark-nlp-4.4.3"
     ]
    }
   ],
   "source": [
    "sc.install_pypi_package('spark-nlp')"
   ]
  },
  {
   "cell_type": "code",
   "execution_count": 18,
   "metadata": {},
   "outputs": [
    {
     "data": {
      "application/vnd.jupyter.widget-view+json": {
       "model_id": "",
       "version_major": 2,
       "version_minor": 0
      },
      "text/plain": [
       "FloatProgress(value=0.0, bar_style='info', description='Progress:', layout=Layout(height='25px', width='50%'),…"
      ]
     },
     "metadata": {},
     "output_type": "display_data"
    }
   ],
   "source": [
    "# For general Spark\n",
    "from pyspark.sql import SparkSession\n",
    "\n",
    "# For SparkNLP\n",
    "import sparknlp\n",
    "from sparknlp.base import *\n",
    "from sparknlp.annotator import *\n",
    "from sparknlp.pretrained import PretrainedPipeline\n",
    "\n",
    "# For PySpark MLlib\n",
    "from pyspark.ml import Pipeline\n",
    "from pyspark.ml.feature import StringIndexer, Tokenizer, HashingTF, IDF, CountVectorizer\n",
    "from pyspark.ml.classification import LogisticRegression\n",
    "from pyspark.ml.evaluation import MulticlassClassificationEvaluator\n",
    "\n",
    "# In case you need to handle data types\n",
    "from pyspark.sql.types import StructType, StructField, IntegerType, StringType"
   ]
  },
  {
   "cell_type": "code",
   "execution_count": 19,
   "metadata": {},
   "outputs": [
    {
     "data": {
      "application/vnd.jupyter.widget-view+json": {
       "model_id": "",
       "version_major": 2,
       "version_minor": 0
      },
      "text/plain": [
       "FloatProgress(value=0.0, bar_style='info', description='Progress:', layout=Layout(height='25px', width='50%'),…"
      ]
     },
     "metadata": {},
     "output_type": "display_data"
    }
   ],
   "source": [
    "data = spark.read.parquet('s3://newemrbuckey3/book_info.parquet')\n"
   ]
  },
  {
   "cell_type": "code",
   "execution_count": 20,
   "metadata": {},
   "outputs": [
    {
     "data": {
      "application/vnd.jupyter.widget-view+json": {
       "model_id": "",
       "version_major": 2,
       "version_minor": 0
      },
      "text/plain": [
       "FloatProgress(value=0.0, bar_style='info', description='Progress:', layout=Layout(height='25px', width='50%'),…"
      ]
     },
     "metadata": {},
     "output_type": "display_data"
    },
    {
     "name": "stdout",
     "output_type": "stream",
     "text": [
      "Total Columns: 10\n",
      "Total Rows: 7113\n",
      "root\n",
      " |-- book_id: string (nullable = true)\n",
      " |-- title: string (nullable = true)\n",
      " |-- subtitle: string (nullable = true)\n",
      " |-- authors: string (nullable = true)\n",
      " |-- publisher: string (nullable = true)\n",
      " |-- published_date: long (nullable = true)\n",
      " |-- description: string (nullable = true)\n",
      " |-- categories: string (nullable = true)\n",
      " |-- imageLinks.smallThumbnail: string (nullable = true)\n",
      " |-- imageLinks.thumbnail: string (nullable = true)"
     ]
    }
   ],
   "source": [
    "print('Total Columns: %d' % len(data.dtypes))\n",
    "print('Total Rows: %d' % data.count())\n",
    "data.printSchema()"
   ]
  },
  {
   "cell_type": "code",
   "execution_count": 21,
   "metadata": {},
   "outputs": [
    {
     "data": {
      "application/vnd.jupyter.widget-view+json": {
       "model_id": "",
       "version_major": 2,
       "version_minor": 0
      },
      "text/plain": [
       "FloatProgress(value=0.0, bar_style='info', description='Progress:', layout=Layout(height='25px', width='50%'),…"
      ]
     },
     "metadata": {},
     "output_type": "display_data"
    },
    {
     "name": "stdout",
     "output_type": "stream",
     "text": [
      "+--------------------+--------------------+\n",
      "|         description|          categories|\n",
      "+--------------------+--------------------+\n",
      "|Worth a read for ...|                 Law|\n",
      "|Examines the impa...|   Political Science|\n",
      "|When the reporter...|Blomkvist, Mikael...|\n",
      "|The classic intro...|Business & Economics|\n",
      "|Article abstracts...|              Canada|\n",
      "|A brilliantly res...|          True Crime|\n",
      "|Business has rece...|            Religion|\n",
      "|The basis for the...|          Psychology|\n",
      "|A riveting true s...|             History|\n",
      "|This writing is a...|             Fiction|\n",
      "|\"Discover the tru...| Juvenile Nonfiction|\n",
      "|Law | Book | Cult...|             History|\n",
      "|Personal reinvent...|             History|\n",
      "|The Russian Revol...|             History|\n",
      "|Scott Bukatman's ...|    American fiction|\n",
      "|Discharged batter...|       Accumulateurs|\n",
      "|_________________...|             Fiction|\n",
      "|As we struggle to...|   Political Science|\n",
      "|A math curriculum...|         Mathematics|\n",
      "|In short, Culture...|      Social Science|\n",
      "+--------------------+--------------------+\n",
      "only showing top 20 rows"
     ]
    }
   ],
   "source": [
    "data.select(\"description\", \"categories\").show()"
   ]
  },
  {
   "cell_type": "code",
   "execution_count": 22,
   "metadata": {},
   "outputs": [
    {
     "data": {
      "application/vnd.jupyter.widget-view+json": {
       "model_id": "",
       "version_major": 2,
       "version_minor": 0
      },
      "text/plain": [
       "FloatProgress(value=0.0, bar_style='info', description='Progress:', layout=Layout(height='25px', width='50%'),…"
      ]
     },
     "metadata": {},
     "output_type": "display_data"
    },
    {
     "name": "stdout",
     "output_type": "stream",
     "text": [
      "+--------------------+-----+\n",
      "|          categories|count|\n",
      "+--------------------+-----+\n",
      "|Business & Economics|  761|\n",
      "|      Social Science|  537|\n",
      "|             Fiction|  513|\n",
      "|             History|  498|\n",
      "|   Political Science|  478|\n",
      "|           Education|  371|\n",
      "|          Psychology|  316|\n",
      "|                 Law|  249|\n",
      "|            Religion|  244|\n",
      "|             Science|  195|\n",
      "|Language Arts & D...|  166|\n",
      "|             Medical|  150|\n",
      "|Biography & Autob...|  119|\n",
      "|          Philosophy|  105|\n",
      "|  Literary Criticism|  101|\n",
      "| Juvenile Nonfiction|   88|\n",
      "|Technology & Engi...|   75|\n",
      "|              Nature|   68|\n",
      "|    Juvenile Fiction|   64|\n",
      "|           Self-Help|   55|\n",
      "+--------------------+-----+\n",
      "only showing top 20 rows"
     ]
    }
   ],
   "source": [
    "data.groupBy('categories').count().orderBy('count', ascending=False).show()"
   ]
  },
  {
   "cell_type": "code",
   "execution_count": 23,
   "metadata": {},
   "outputs": [
    {
     "data": {
      "application/vnd.jupyter.widget-view+json": {
       "model_id": "",
       "version_major": 2,
       "version_minor": 0
      },
      "text/plain": [
       "FloatProgress(value=0.0, bar_style='info', description='Progress:', layout=Layout(height='25px', width='50%'),…"
      ]
     },
     "metadata": {},
     "output_type": "display_data"
    },
    {
     "name": "stdout",
     "output_type": "stream",
     "text": [
      "Total number of categories: 963"
     ]
    }
   ],
   "source": [
    "total_categories = data.select('categories').distinct().count()\n",
    "print(\"Total number of categories:\", total_categories)"
   ]
  },
  {
   "cell_type": "code",
   "execution_count": 24,
   "metadata": {},
   "outputs": [
    {
     "data": {
      "application/vnd.jupyter.widget-view+json": {
       "model_id": "",
       "version_major": 2,
       "version_minor": 0
      },
      "text/plain": [
       "FloatProgress(value=0.0, bar_style='info', description='Progress:', layout=Layout(height='25px', width='50%'),…"
      ]
     },
     "metadata": {},
     "output_type": "display_data"
    }
   ],
   "source": [
    "from pyspark.sql.functions import col\n",
    "\n",
    "# First we get the categories count\n",
    "categories_count = data.groupBy('categories').count()\n",
    "\n",
    "# We filter those categories which have more than 100 books\n",
    "major_categories = categories_count.filter(col(\"count\") > 100)\n",
    "\n",
    "# Now we will only keep rows in the data that belong to the major_categories\n",
    "data = data.join(major_categories, \"categories\", \"inner\")"
   ]
  },
  {
   "cell_type": "code",
   "execution_count": 25,
   "metadata": {},
   "outputs": [
    {
     "data": {
      "application/vnd.jupyter.widget-view+json": {
       "model_id": "",
       "version_major": 2,
       "version_minor": 0
      },
      "text/plain": [
       "FloatProgress(value=0.0, bar_style='info', description='Progress:', layout=Layout(height='25px', width='50%'),…"
      ]
     },
     "metadata": {},
     "output_type": "display_data"
    },
    {
     "name": "stdout",
     "output_type": "stream",
     "text": [
      "+--------------------+-----+\n",
      "|          categories|count|\n",
      "+--------------------+-----+\n",
      "|Business & Economics|  761|\n",
      "|      Social Science|  537|\n",
      "|             Fiction|  513|\n",
      "|             History|  498|\n",
      "|   Political Science|  478|\n",
      "|           Education|  371|\n",
      "|          Psychology|  316|\n",
      "|                 Law|  249|\n",
      "|            Religion|  244|\n",
      "|             Science|  195|\n",
      "|Language Arts & D...|  166|\n",
      "|             Medical|  150|\n",
      "|Biography & Autob...|  119|\n",
      "|          Philosophy|  105|\n",
      "|  Literary Criticism|  101|\n",
      "+--------------------+-----+"
     ]
    }
   ],
   "source": [
    "data.groupBy('categories').count().orderBy('count', ascending=False).show()"
   ]
  },
  {
   "cell_type": "code",
   "execution_count": 26,
   "metadata": {},
   "outputs": [
    {
     "data": {
      "application/vnd.jupyter.widget-view+json": {
       "model_id": "",
       "version_major": 2,
       "version_minor": 0
      },
      "text/plain": [
       "FloatProgress(value=0.0, bar_style='info', description='Progress:', layout=Layout(height='25px', width='50%'),…"
      ]
     },
     "metadata": {},
     "output_type": "display_data"
    }
   ],
   "source": [
    "from pyspark.sql.functions import col\n",
    "\n",
    "# Target number of instances per category\n",
    "target = 300\n",
    "\n",
    "# Define a dictionary with sample fractions for each category\n",
    "sample_fractions = {\n",
    "    \"Business & Economics\": target/761,\n",
    "    \"Social Science\": target/537,\n",
    "    \"Fiction\": target/513,\n",
    "    \"History\": target/498,\n",
    "    \"Political Science\": target/478,\n",
    "    \"Education\": target/371,\n",
    "    \"Psychology\": target/316,\n",
    "    \"Law\": target/249,\n",
    "    \"Religion\": target/244,\n",
    "    \"Science\": target/195,\n",
    "    \"Language Arts & Disciplines\": target/166,\n",
    "    \"Medical\": target/150,\n",
    "    \"Biography & Autobiography\": target/119,\n",
    "    \"Philosophy\": target/105,\n",
    "    \"Literary Criticism\": target/101\n",
    "}\n",
    "\n",
    "# Create an empty DataFrame to store the sampled data\n",
    "sampled_data = spark.createDataFrame([], data.schema)\n",
    "\n",
    "# Loop through each category and sample the data accordingly\n",
    "for category, fraction in sample_fractions.items():\n",
    "    category_data = data.filter(col(\"categories\") == category)\n",
    "    # Oversample when fraction > 1, undersample when fraction < 1\n",
    "    sampled_category_data = category_data.sample(withReplacement=fraction>1, fraction=abs(fraction))\n",
    "    sampled_data = sampled_data.union(sampled_category_data)"
   ]
  },
  {
   "cell_type": "code",
   "execution_count": 27,
   "metadata": {},
   "outputs": [
    {
     "data": {
      "application/vnd.jupyter.widget-view+json": {
       "model_id": "",
       "version_major": 2,
       "version_minor": 0
      },
      "text/plain": [
       "FloatProgress(value=0.0, bar_style='info', description='Progress:', layout=Layout(height='25px', width='50%'),…"
      ]
     },
     "metadata": {},
     "output_type": "display_data"
    },
    {
     "name": "stdout",
     "output_type": "stream",
     "text": [
      "Total Rows: 4803"
     ]
    }
   ],
   "source": [
    "\n",
    "print('Total Rows: %d' % data.count())\n"
   ]
  },
  {
   "cell_type": "code",
   "execution_count": 28,
   "metadata": {},
   "outputs": [
    {
     "data": {
      "application/vnd.jupyter.widget-view+json": {
       "model_id": "",
       "version_major": 2,
       "version_minor": 0
      },
      "text/plain": [
       "FloatProgress(value=0.0, bar_style='info', description='Progress:', layout=Layout(height='25px', width='50%'),…"
      ]
     },
     "metadata": {},
     "output_type": "display_data"
    },
    {
     "name": "stdout",
     "output_type": "stream",
     "text": [
      "lemma_antbnc download started this may take some time.\n",
      "Approximate size to download 907.6 KB\n",
      "[OK!]"
     ]
    }
   ],
   "source": [
    "from sparknlp.training import CoNLL\n",
    "from sparknlp.annotator import *\n",
    "from sparknlp.common import *\n",
    "from sparknlp.base import *\n",
    "\n",
    "from sparknlp.annotator import *\n",
    "from sparknlp.base import *\n",
    "from sparknlp.common import *\n",
    "\n",
    "from pyspark.ml import Pipeline\n",
    "from sparknlp.training import CoNLL\n",
    "from sparknlp import DocumentAssembler\n",
    "\n",
    "from sparknlp.annotator import Lemmatizer\n",
    "from sparknlp.annotator import LemmatizerModel\n",
    "from sparknlp.base import Finisher, DocumentAssembler\n",
    "from sparknlp.annotator import Tokenizer\n",
    "\n",
    "from pyspark.ml.feature import CountVectorizer, StringIndexer, IndexToString\n",
    "from pyspark.ml import Pipeline\n",
    "from pyspark.ml.classification import LogisticRegression\n",
    "from pyspark.ml.evaluation import MulticlassClassificationEvaluator\n",
    "from pyspark.ml.tuning import CrossValidator, ParamGridBuilder\n",
    "\n",
    "# Define your document assembler, tokenizer, stopwords cleaner, lemmatizer and finisher\n",
    "documentAssembler = DocumentAssembler().setInputCol(\"description\").setOutputCol(\"document\")\n",
    "tokenizer = Tokenizer().setInputCols([\"document\"]).setOutputCol(\"token\")\n",
    "stopwords_cleaner = StopWordsCleaner().setInputCols([\"token\"]).setOutputCol(\"cleaned_token\")\n",
    "lemmatizer = LemmatizerModel.pretrained(\"lemma_antbnc\").setInputCols([\"cleaned_token\"]).setOutputCol(\"lemma\")\n",
    "finisher = Finisher().setInputCols([\"lemma\"])\n",
    "\n",
    "# Define count vectors and string indexer\n",
    "countVectors = CountVectorizer(inputCol=\"finished_lemma\", outputCol=\"features\")\n",
    "label_stringIdx = StringIndexer(inputCol = \"categories\", outputCol = \"label\")\n",
    "\n",
    "# Define your pipeline\n",
    "pipeline = Pipeline(stages=[documentAssembler, \n",
    "                            tokenizer, \n",
    "                            stopwords_cleaner, \n",
    "                            lemmatizer, \n",
    "                            finisher, \n",
    "                            countVectors,\n",
    "                            label_stringIdx])\n",
    "\n",
    "# Fit and transform your data with the pipeline\n",
    "pipeline_model = pipeline.fit(sampled_data)\n",
    "dataset = pipeline_model.transform(sampled_data)"
   ]
  },
  {
   "cell_type": "code",
   "execution_count": 29,
   "metadata": {},
   "outputs": [
    {
     "data": {
      "application/vnd.jupyter.widget-view+json": {
       "model_id": "",
       "version_major": 2,
       "version_minor": 0
      },
      "text/plain": [
       "FloatProgress(value=0.0, bar_style='info', description='Progress:', layout=Layout(height='25px', width='50%'),…"
      ]
     },
     "metadata": {},
     "output_type": "display_data"
    },
    {
     "name": "stdout",
     "output_type": "stream",
     "text": [
      "Test Error = 0.263481"
     ]
    }
   ],
   "source": [
    "\n",
    "# Split your data into training and test datasets\n",
    "(trainingData, testData) = dataset.randomSplit([0.7, 0.3], seed = 100)\n",
    "\n",
    "# Define your logistic regression model\n",
    "lr = LogisticRegression()\n",
    "\n",
    "# Define your parameter grid\n",
    "paramGrid = (ParamGridBuilder()\n",
    "             .addGrid(lr.regParam, [0.1, 0.3, 0.5]) \n",
    "             .addGrid(lr.elasticNetParam, [0.0, 0.1, 0.2]) \n",
    "             .addGrid(lr.maxIter, [1, 5, 10])\n",
    "             .build())\n",
    "\n",
    "# Define your evaluator\n",
    "evaluator = MulticlassClassificationEvaluator(predictionCol=\"prediction\")\n",
    "\n",
    "# Define your cross-validator\n",
    "crossval = CrossValidator(estimator=lr,\n",
    "                          estimatorParamMaps=paramGrid,\n",
    "                          evaluator=evaluator,\n",
    "                          numFolds=5)\n",
    "\n",
    "# Fit the model using the cross-validator\n",
    "cross_val_Model = crossval.fit(trainingData)\n",
    "predictions = cross_val_Model.transform(testData)\n",
    "accuracy = evaluator.evaluate(predictions)\n",
    "print(\"Test Error = %g\" % (1.0 - accuracy))"
   ]
  },
  {
   "cell_type": "code",
   "execution_count": 30,
   "metadata": {},
   "outputs": [
    {
     "data": {
      "application/vnd.jupyter.widget-view+json": {
       "model_id": "",
       "version_major": 2,
       "version_minor": 0
      },
      "text/plain": [
       "FloatProgress(value=0.0, bar_style='info', description='Progress:', layout=Layout(height='25px', width='50%'),…"
      ]
     },
     "metadata": {},
     "output_type": "display_data"
    },
    {
     "name": "stdout",
     "output_type": "stream",
     "text": [
      "Best RegParam:  0.1\n",
      "Best ElasticNetParam:  0.1\n",
      "Best MaxIter:  5"
     ]
    }
   ],
   "source": [
    "best_model = cross_val_Model.bestModel\n",
    "bestRegParam = best_model._java_obj.getRegParam()\n",
    "bestElasticNetParam = best_model._java_obj.getElasticNetParam()\n",
    "bestMaxIter = best_model._java_obj.getMaxIter()\n",
    "\n",
    "print(\"Best RegParam: \", bestRegParam)\n",
    "print(\"Best ElasticNetParam: \", bestElasticNetParam)\n",
    "print(\"Best MaxIter: \", bestMaxIter)"
   ]
  },
  {
   "cell_type": "code",
   "execution_count": 32,
   "metadata": {},
   "outputs": [
    {
     "data": {
      "application/vnd.jupyter.widget-view+json": {
       "model_id": "",
       "version_major": 2,
       "version_minor": 0
      },
      "text/plain": [
       "FloatProgress(value=0.0, bar_style='info', description='Progress:', layout=Layout(height='25px', width='50%'),…"
      ]
     },
     "metadata": {},
     "output_type": "display_data"
    },
    {
     "name": "stdout",
     "output_type": "stream",
     "text": [
      "Index:  0  Label:  Medical\n",
      "Index:  1  Label:  Religion\n",
      "Index:  2  Label:  Psychology\n",
      "Index:  3  Label:  Political Science\n",
      "Index:  4  Label:  Social Science\n",
      "Index:  5  Label:  Science\n",
      "Index:  6  Label:  Literary Criticism\n",
      "Index:  7  Label:  Education\n",
      "Index:  8  Label:  Fiction\n",
      "Index:  9  Label:  History\n",
      "Index:  10  Label:  Law\n",
      "Index:  11  Label:  Language Arts & Disciplines\n",
      "Index:  12  Label:  Philosophy\n",
      "Index:  13  Label:  Biography & Autobiography\n",
      "Index:  14  Label:  Business & Economics"
     ]
    }
   ],
   "source": [
    "# Get the StringIndexerModel\n",
    "string_indexer = pipeline_model.stages[-1]\n",
    "\n",
    "# Get the label to index mapping\n",
    "label_to_index = string_indexer.labels\n",
    "\n",
    "# Print all labels with their corresponding index\n",
    "for i, label in enumerate(label_to_index):\n",
    "    print(\"Index: \", i, \" Label: \", label)\n"
   ]
  },
  {
   "cell_type": "code",
   "execution_count": 47,
   "metadata": {},
   "outputs": [
    {
     "data": {
      "application/vnd.jupyter.widget-view+json": {
       "model_id": "",
       "version_major": 2,
       "version_minor": 0
      },
      "text/plain": [
       "FloatProgress(value=0.0, bar_style='info', description='Progress:', layout=Layout(height='25px', width='50%'),…"
      ]
     },
     "metadata": {},
     "output_type": "display_data"
    },
    {
     "name": "stdout",
     "output_type": "stream",
     "text": [
      "Top 20 words for category Medical\n",
      "+---------------------+-------------------+\n",
      "|word                 |coefficient        |\n",
      "+---------------------+-------------------+\n",
      "|Pocket               |0.7748131571758332 |\n",
      "|repository           |0.6270174014926888 |\n",
      "|capstone             |0.602352476022574  |\n",
      "|psychology/psychiatry|0.6014496849538802 |\n",
      "|Thought-provoking    |0.5557682776045978 |\n",
      "|caregiving           |0.522641671958786  |\n",
      "|Disparities          |0.508823056469649  |\n",
      "|SEP                  |0.508823056469649  |\n",
      "|re-position          |0.5003454554333434 |\n",
      "|standardized         |0.4938412076574927 |\n",
      "|Pathways             |0.45749015649320507|\n",
      "|community-wide       |0.45749015649320507|\n",
      "|continuum            |0.4484814144004059 |\n",
      "|bioethicists         |0.423566505641134  |\n",
      "|12-13                |0.4210543543290499 |\n",
      "|well-reasoned        |0.41228546389779613|\n",
      "|Geriatric            |0.4019872179041669 |\n",
      "|contextual-behavioral|0.39602824533820385|\n",
      "|herb                 |0.38510210550602997|\n",
      "|homeopathic          |0.38510210550602997|\n",
      "+---------------------+-------------------+\n",
      "only showing top 20 rows\n",
      "\n",
      "Top 20 words for category Religion\n",
      "+------------------+-------------------+\n",
      "|word              |coefficient        |\n",
      "+------------------+-------------------+\n",
      "|Bayly             |0.7742447188063231 |\n",
      "|God-centered      |0.6523833503651001 |\n",
      "|potentialwith     |0.6523833503651001 |\n",
      "|post-structuralism|0.5790483388599295 |\n",
      "|homiletical       |0.5772575113591181 |\n",
      "|pull-out          |0.5543232801422443 |\n",
      "|17-foot           |0.5543232801422443 |\n",
      "|skeptic           |0.5504740406259512 |\n",
      "|Brede             |0.54959634144242   |\n",
      "|Kristensen        |0.54959634144242   |\n",
      "|Aronov            |0.5409476571313715 |\n",
      "|Alabama's         |0.5409476571313715 |\n",
      "|Hebrew            |0.5405683551643652 |\n",
      "|Laudato           |0.5160940345397297 |\n",
      "|education's       |0.5158230839698825 |\n",
      "|communal          |0.5022568609970721 |\n",
      "|adherent          |0.49874583371015735|\n",
      "|Christ            |0.49171742199091306|\n",
      "|debate’s          |0.4763884622696984 |\n",
      "|TimesÐbestselling |0.4757696571369643 |\n",
      "+------------------+-------------------+\n",
      "only showing top 20 rows\n",
      "\n",
      "Top 20 words for category Psychology\n",
      "+-----------------+-------------------+\n",
      "|word             |coefficient        |\n",
      "+-----------------+-------------------+\n",
      "|abundant         |0.6002094455415368 |\n",
      "|lecturer         |0.5681153988327436 |\n",
      "|neuroanatomy     |0.5220064563566961 |\n",
      "|subconscious     |0.517954111233881  |\n",
      "|psychopathy      |0.5146689844977943 |\n",
      "|maxim            |0.5073432400871477 |\n",
      "|posttraumatic    |0.5017869843172683 |\n",
      "|vocational       |0.49745204723878184|\n",
      "|INTRODUCTION     |0.49149968997647203|\n",
      "|internship       |0.49061172068541625|\n",
      "|psychotherapist  |0.46955042561804294|\n",
      "|psychology's     |0.44200966055243573|\n",
      "|gratitude        |0.4375821904211087 |\n",
      "|iteratively      |0.4366283421982926 |\n",
      "|978-1-4625-4274-1|0.43559675318809626|\n",
      "|Lifton           |0.43018668405511595|\n",
      "|topics.\"--Jacket |0.42975054316562794|\n",
      "|PTSD-related     |0.426556186620122  |\n",
      "|interrogator     |0.4190470472136064 |\n",
      "|statistic        |0.41640985017884763|\n",
      "+-----------------+-------------------+\n",
      "only showing top 20 rows\n",
      "\n",
      "Top 20 words for category Political Science\n",
      "+---------------+-------------------+\n",
      "|word           |coefficient        |\n",
      "+---------------+-------------------+\n",
      "|homelessness   |0.6169069737007227 |\n",
      "|nongovernmental|0.5729848418779686 |\n",
      "|nomination     |0.5566320304376339 |\n",
      "|peacebuilding  |0.5265116767737067 |\n",
      "|Actionable     |0.5186171072415464 |\n",
      "|Multifaceted   |0.5186171072415464 |\n",
      "|interwar       |0.5134430098743186 |\n",
      "|intimidation   |0.49208475471040913|\n",
      "|CIA            |0.4908911611001603 |\n",
      "|Bush           |0.4876370069750943 |\n",
      "|Organisation   |0.4847601574270361 |\n",
      "|Agriculture    |0.48109537234078253|\n",
      "|bureaucracy    |0.47148322290265493|\n",
      "|Kraft          |0.4641746225590793 |\n",
      "|Alternatives   |0.4641746225590793 |\n",
      "|dictator       |0.4347576376215528 |\n",
      "|McKnight       |0.4332330444772073 |\n",
      "|altruism       |0.43224471658361996|\n",
      "|Foreward       |0.4286675883403209 |\n",
      "|non-living     |0.42769096703456083|\n",
      "+---------------+-------------------+\n",
      "only showing top 20 rows\n",
      "\n",
      "Top 20 words for category Social Science\n",
      "+---------------+-------------------+\n",
      "|word           |coefficient        |\n",
      "+---------------+-------------------+\n",
      "|1996           |0.615679698639197  |\n",
      "|Hispanics      |0.6094541623125512 |\n",
      "|inter-religious|0.5383986989504935 |\n",
      "|pig            |0.5360632987042768 |\n",
      "|judicious      |0.5332442453343258 |\n",
      "|Contributing   |0.5319817303591968 |\n",
      "|non-human      |0.5198678627651737 |\n",
      "|​              |0.5112412333469677 |\n",
      "|decipher       |0.5077950483757127 |\n",
      "|User’s         |0.49512928522302446|\n",
      "|countercultures|0.49512928522302446|\n",
      "|localised      |0.48690703305811495|\n",
      "|competitively  |0.4801583685197716 |\n",
      "|coerce         |0.47897351466708515|\n",
      "|housework      |0.4743801196959432 |\n",
      "|Differences    |0.4621537806116029 |\n",
      "|Adolescence    |0.43600822828589614|\n",
      "|>              |0.4330349382629958 |\n",
      "|interlinkage   |0.4329175044433384 |\n",
      "|commodifying   |0.4327526946723516 |\n",
      "+---------------+-------------------+\n",
      "only showing top 20 rows\n",
      "\n",
      "Top 20 words for category Science\n",
      "+----------------------------------+------------------+\n",
      "|word                              |coefficient       |\n",
      "+----------------------------------+------------------+\n",
      "|wastewater                        |0.6251381974489371|\n",
      "|Solving                           |0.6079362576930868|\n",
      "|www.whfreeman.com/SABiologyPreview|0.5904134726164046|\n",
      "|hydropower                        |0.5704603405148678|\n",
      "|meteor                            |0.5510128726921667|\n",
      "|Graves                            |0.5505080573190051|\n",
      "|millennium.\"--\"American           |0.5505080573190051|\n",
      "|another.\"--\"Choice                |0.5505080573190051|\n",
      "|science¦environment¦health        |0.5469287060048934|\n",
      "|well-founded                      |0.5469287060048934|\n",
      "|bioreactor                        |0.5453426415577781|\n",
      "|Wastewater                        |0.5453426415577781|\n",
      "|biosphere                         |0.5365105701714158|\n",
      "|high-school                       |0.5340349795568464|\n",
      "|​As                               |0.533144673507758 |\n",
      "|detractions                       |0.5254489425640053|\n",
      "|DDT                               |0.5254489425640053|\n",
      "|Documents                         |0.5254489425640053|\n",
      "|identifiable                      |0.5120270391094273|\n",
      "|definable                         |0.4892678883779   |\n",
      "+----------------------------------+------------------+\n",
      "only showing top 20 rows\n",
      "\n",
      "Top 20 words for category Literary Criticism\n",
      "+------------+------------------+\n",
      "|word        |coefficient       |\n",
      "+------------+------------------+\n",
      "|Chartier    |0.7068637706482868|\n",
      "|Seventeenth |0.6885110286225816|\n",
      "|Palahniuk's |0.677683783039306 |\n",
      "|Twain's     |0.6639258133506202|\n",
      "|Huckleberry |0.6639258133506202|\n",
      "|Sellouts    |0.6591729539799278|\n",
      "|Mortgaged   |0.6591729539799278|\n",
      "|Status      |0.6591729539799278|\n",
      "|Australasian|0.6283555601447818|\n",
      "|Kafka's     |0.5982546291955717|\n",
      "|Juxtaposes  |0.5982546291955717|\n",
      "|Morrison's  |0.5982546291955717|\n",
      "|witchcraft  |0.581733098352339 |\n",
      "|3,000       |0.581733098352339 |\n",
      "|Tong        |0.5765324653638063|\n",
      "|Hua         |0.5765324653638063|\n",
      "|Absentees   |0.5748138274745623|\n",
      "|infamy      |0.5748138274745623|\n",
      "|taint       |0.5748138274745623|\n",
      "|nonpersons  |0.5748138274745623|\n",
      "+------------+------------------+\n",
      "only showing top 20 rows\n",
      "\n",
      "Top 20 words for category Education\n",
      "+-----------------+-------------------+\n",
      "|word             |coefficient        |\n",
      "+-----------------+-------------------+\n",
      "|enrollments      |0.5679356224854188 |\n",
      "|rankings         |0.5458877926999922 |\n",
      "|Secondary        |0.521135069198503  |\n",
      "|Cultivating      |0.5172246423166009 |\n",
      "|teacher's        |0.49188684474938715|\n",
      "|Charter          |0.48825760069228996|\n",
      "|do—to            |0.4864625317357348 |\n",
      "|Grades           |0.4858373099339294 |\n",
      "|Higher           |0.46699044219856845|\n",
      "|toolkit          |0.4640068202155329 |\n",
      "|0455             |0.43346176509092654|\n",
      "|questions\"--Cover|0.43270555894167856|\n",
      "|Center's         |0.42829096774812414|\n",
      "|Develop          |0.42820726966488604|\n",
      "|550+             |0.42595035153374394|\n",
      "|professionalize  |0.424622712219004  |\n",
      "|nature/nurture   |0.41422636382588673|\n",
      "|non-academic     |0.4123458396544091 |\n",
      "|Missionary       |0.4115514860275601 |\n",
      "|issues—including |0.41104792972073695|\n",
      "+-----------------+-------------------+\n",
      "only showing top 20 rows\n",
      "\n",
      "Top 20 words for category Fiction\n",
      "+------------+-------------------+\n",
      "|word        |coefficient        |\n",
      "+------------+-------------------+\n",
      "|thirty-six  |0.4842357082837401 |\n",
      "|respectable |0.44689727822699093|\n",
      "|02          |0.43432230007975686|\n",
      "|Encompassing|0.4262760885808934 |\n",
      "|blackmail   |0.426197384619082  |\n",
      "|Morelli     |0.4202647957060159 |\n",
      "|upscale     |0.42011437189620976|\n",
      "|now\"--Page  |0.40463564744626185|\n",
      "|nameless    |0.40449942275487855|\n",
      "|actress     |0.3990422001004425 |\n",
      "|Marry       |0.398269956022778  |\n",
      "|Drogin      |0.39760164022670685|\n",
      "|Izzac       |0.39760164022670685|\n",
      "|glaciologist|0.3943787106274733 |\n",
      "|Poul        |0.3941580729101682 |\n",
      "|sixty-seven |0.3941580729101682 |\n",
      "|Delany      |0.3941580729101682 |\n",
      "|Nigerian    |0.39244364695679274|\n",
      "|two-color   |0.3876602999916278 |\n",
      "|Kruger's    |0.3876602999916278 |\n",
      "+------------+-------------------+\n",
      "only showing top 20 rows\n",
      "\n",
      "Top 20 words for category History\n",
      "+------------------+-------------------+\n",
      "|word              |coefficient        |\n",
      "+------------------+-------------------+\n",
      "|inscription       |0.6034677167575964 |\n",
      "|1898              |0.5305109005753286 |\n",
      "|Islam's           |0.5222748027354803 |\n",
      "|1955              |0.5000817859064877 |\n",
      "|Genealogical      |0.4984700849554169 |\n",
      "|24                |0.49218159896299807|\n",
      "|1929              |0.4685596165015274 |\n",
      "|coursework        |0.4375761962126466 |\n",
      "|DK's              |0.4317235296525773 |\n",
      "|vocation.\"—Journal|0.429684131951506  |\n",
      "|readership.\"—JAMA |0.429684131951506  |\n",
      "|infiltration      |0.42871189977199814|\n",
      "|Gilbert           |0.4278873462234073 |\n",
      "|EastIncludes      |0.4260175012519709 |\n",
      "|feudalism         |0.4243614826372147 |\n",
      "|re-unification    |0.4240363113148357 |\n",
      "|one-quarter       |0.419739496853214  |\n",
      "|Stravinsky's      |0.4188640941331742 |\n",
      "|undeniably        |0.4168122962445746 |\n",
      "|victimisation     |0.4168122962445746 |\n",
      "+------------------+-------------------+\n",
      "only showing top 20 rows\n",
      "\n",
      "Top 20 words for category Law\n",
      "+------------------+-------------------+\n",
      "|word              |coefficient        |\n",
      "+------------------+-------------------+\n",
      "|conditional       |0.638720425179889  |\n",
      "|oddly             |0.6183323017038341 |\n",
      "|Institute's       |0.6171124678054755 |\n",
      "|Groundbreaking    |0.6108535025213759 |\n",
      "|that]             |0.610296807419797  |\n",
      "|[posits           |0.610296807419797  |\n",
      "|Guiora            |0.5995086158994379 |\n",
      "|usable            |0.591319805796887  |\n",
      "|region-specific   |0.5798795847657531 |\n",
      "|disenfranchisement|0.5757399729380208 |\n",
      "|felon             |0.5757399729380208 |\n",
      "|AttorneyJobs      |0.5480996596175357 |\n",
      "|non-traditional   |0.5480996596175357 |\n",
      "|internet-era      |0.5439732747649411 |\n",
      "|idMAPPING         |0.5439732747649411 |\n",
      "|backslide         |0.5346141811177735 |\n",
      "|Recently          |0.5328093163857524 |\n",
      "|digitization      |0.5145083925571335 |\n",
      "|Boyd              |0.48941135589255813|\n",
      "|193               |0.48941135589255813|\n",
      "+------------------+-------------------+\n",
      "only showing top 20 rows\n",
      "\n",
      "Top 20 words for category Language Arts & Disciplines\n",
      "+-----------------+------------------+\n",
      "|word             |coefficient       |\n",
      "+-----------------+------------------+\n",
      "|annotation       |0.626472394795275 |\n",
      "|primacy          |0.604587750304704 |\n",
      "|Excerpts         |0.6026859930912727|\n",
      "|Topical          |0.6000488270706911|\n",
      "|allocator        |0.5942775063443487|\n",
      "|less-noted       |0.5824265072079745|\n",
      "|online-in        |0.5765034891151467|\n",
      "|commonsense      |0.5765034891151467|\n",
      "|processes-both   |0.5765034891151467|\n",
      "|transdisciplinary|0.5683676468460043|\n",
      "|Accessibly       |0.5654282861098661|\n",
      "|Directions       |0.5523208810392091|\n",
      "|Secondly         |0.5509505343901935|\n",
      "|‘operating       |0.5509505343901935|\n",
      "|rules’           |0.5509505343901935|\n",
      "|Broadview        |0.5469667725271075|\n",
      "|intermediality   |0.5469667725271075|\n",
      "|1630             |0.5288618943242943|\n",
      "|1700             |0.5288618943242943|\n",
      "|neoclassicism    |0.5288618943242943|\n",
      "+-----------------+------------------+\n",
      "only showing top 20 rows\n",
      "\n",
      "Top 20 words for category Philosophy\n",
      "+-------------+------------------+\n",
      "|word         |coefficient       |\n",
      "+-------------+------------------+\n",
      "|sojourn      |0.7448260047945591|\n",
      "|1985         |0.622821859506144 |\n",
      "|Yang-ming    |0.6216000885004936|\n",
      "|Whitehead    |0.6216000885004936|\n",
      "|Conservatism |0.6039910981041486|\n",
      "|ineffability |0.5889332095657397|\n",
      "|Ineffability |0.5889332095657397|\n",
      "|Levinas      |0.5842480181485507|\n",
      "|Janicaud     |0.5842480181485507|\n",
      "|Pierre       |0.5553072458565331|\n",
      "|axiom        |0.5553072458565331|\n",
      "|inclusiveness|0.5383719392425473|\n",
      "|truth-telling|0.5379080141791294|\n",
      "|spiritualism |0.5379080141791294|\n",
      "|Sharp        |0.5379080141791294|\n",
      "|materialist  |0.5214328584243396|\n",
      "|conserve     |0.5186066349444644|\n",
      "|unnecessarily|0.5186066349444644|\n",
      "|Twenty-three |0.5063658738114944|\n",
      "|Bodin        |0.5063658738114944|\n",
      "+-------------+------------------+\n",
      "only showing top 20 rows\n",
      "\n",
      "Top 20 words for category Biography & Autobiography\n",
      "+-------------+------------------+\n",
      "|word         |coefficient       |\n",
      "+-------------+------------------+\n",
      "|ninety-seven |0.685637204184776 |\n",
      "|Ling's       |0.6778788496857004|\n",
      "|Ding         |0.6778788496857004|\n",
      "|Rodham       |0.6581633226060093|\n",
      "|ALS          |0.638462787754609 |\n",
      "|Barkan       |0.638462787754609 |\n",
      "|Catholicism's|0.6287259167140865|\n",
      "|Assisi       |0.6287259167140865|\n",
      "|profligate   |0.6287259167140865|\n",
      "|Trenton      |0.5823436336139564|\n",
      "|50,000       |0.5395829949652624|\n",
      "|Parish       |0.5395829949652624|\n",
      "|Confessions  |0.5395829949652624|\n",
      "|Pocket-Sized |0.5385270862370168|\n",
      "|Quotations   |0.5385270862370168|\n",
      "|Perennial    |0.5275711629872131|\n",
      "|Johnny       |0.5275711629872131|\n",
      "|Melvin       |0.5122130427723879|\n",
      "|Purvis       |0.5122130427723879|\n",
      "|G-man        |0.5122130427723879|\n",
      "+-------------+------------------+\n",
      "only showing top 20 rows\n",
      "\n",
      "Top 20 words for category Business & Economics\n",
      "+----------------+-------------------+\n",
      "|word            |coefficient        |\n",
      "+----------------+-------------------+\n",
      "|neoclassical    |0.5630115468254605 |\n",
      "|specificity     |0.5294539567857639 |\n",
      "|Nowhere         |0.5197911509215289 |\n",
      "|immunization    |0.5165578875362736 |\n",
      "|depletion       |0.48613456217922557|\n",
      "|Economies       |0.4832759146202695 |\n",
      "|sub-discipline  |0.47948677338692197|\n",
      "|Hynes           |0.476720832981876  |\n",
      "|Geraldine       |0.476720832981876  |\n",
      "|pref            |0.4347933197328703 |\n",
      "|commander's     |0.42804200632115824|\n",
      "|shale           |0.427767193209924  |\n",
      "|bottleneck      |0.4273705207563117 |\n",
      "|science-based   |0.42669962713469684|\n",
      "|vector          |0.4176137373000298 |\n",
      "|product-oriented|0.4062561894609862 |\n",
      "|franchisee      |0.4062561894609862 |\n",
      "|erect           |0.4059671006402674 |\n",
      "|emitter         |0.4059671006402674 |\n",
      "|Registration    |0.39739931273702583|\n",
      "+----------------+-------------------+\n",
      "only showing top 20 rows"
     ]
    }
   ],
   "source": [
    "import numpy as np\n",
    "from pyspark.sql import functions as F\n",
    "\n",
    "# Get the CountVectorizerModel\n",
    "count_vectorizer = pipeline_model.stages[5]\n",
    "\n",
    "# Get the vocabulary\n",
    "vocab = count_vectorizer.vocabulary\n",
    "\n",
    "# Number of classes\n",
    "num_classes = best_model.numClasses\n",
    "\n",
    "spark.conf.set('spark.sql.repl.eagerEval.maxNumRows', 20)  # number of rows to display\n",
    "spark.conf.set('spark.sql.repl.eagerEval.maxColumnWidth', 30)  # adjust column width\n",
    "\n",
    "# Get the StringIndexerModel\n",
    "string_indexer = pipeline_model.stages[-1]\n",
    "\n",
    "# Get the label to index mapping\n",
    "label_to_index = string_indexer.labels\n",
    "\n",
    "# Loop through each class and extract top words\n",
    "for i, label in enumerate(label_to_index):\n",
    "    coefficients = best_model.coefficientMatrix.toArray()[i]  # take the coefficients of class i\n",
    "    coefficients = coefficients.tolist()  # convert numpy array to Python list\n",
    "\n",
    "    # Zip together the vocabulary (words) and coefficients and make a DataFrame\n",
    "    coeff_df = spark.createDataFrame(zip(vocab, coefficients), [\"word\", \"coefficient\"])\n",
    "\n",
    "    # Show the top 20 words with the highest coefficients\n",
    "    print(f\"Top 20 words for category {label}\")\n",
    "    coeff_df.sort(F.col(\"coefficient\").desc()).show(20, truncate=False)"
   ]
  }
 ],
 "metadata": {
  "kernelspec": {
   "display_name": "PySpark",
   "language": "",
   "name": "pysparkkernel"
  },
  "language_info": {
   "codemirror_mode": {
    "name": "python",
    "version": 3
   },
   "mimetype": "text/x-python",
   "name": "pyspark",
   "pygments_lexer": "python3"
  },
  "vscode": {
   "interpreter": {
    "hash": "8da593020269d3b8f2f89629b67a40e1602e1b19a7674d304503744e42ece518"
   }
  }
 },
 "nbformat": 4,
 "nbformat_minor": 2
}
