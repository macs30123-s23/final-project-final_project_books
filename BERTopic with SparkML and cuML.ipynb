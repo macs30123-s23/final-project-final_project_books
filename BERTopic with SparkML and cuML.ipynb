{
 "cells": [
  {
   "attachments": {},
   "cell_type": "markdown",
   "metadata": {},
   "source": [
    "# Author: Violet Huang, Ryan Liang"
   ]
  },
  {
   "attachments": {},
   "cell_type": "markdown",
   "metadata": {},
   "source": [
    "# Prepare Dependencies"
   ]
  },
  {
   "cell_type": "code",
   "execution_count": 12,
   "metadata": {},
   "outputs": [
    {
     "name": "stdout",
     "output_type": "stream",
     "text": [
      "Starting Spark application\n"
     ]
    },
    {
     "data": {
      "text/html": [
       "<table>\n",
       "<tr><th>ID</th><th>YARN Application ID</th><th>Kind</th><th>State</th><th>Spark UI</th><th>Driver log</th><th>Current session?</th></tr><tr><td>3</td><td>application_1685118627020_0005</td><td>pyspark</td><td>idle</td><td><a target=\"_blank\" href=\"http://ip-172-31-21-228.ec2.internal:20888/proxy/application_1685118627020_0005/\">Link</a></td><td><a target=\"_blank\" href=\"http://ip-172-31-16-187.ec2.internal:8042/node/containerlogs/container_1685118627020_0005_01_000001/livy\">Link</a></td><td>✔</td></tr></table>"
      ],
      "text/plain": [
       "<IPython.core.display.HTML object>"
      ]
     },
     "metadata": {},
     "output_type": "display_data"
    },
    {
     "data": {
      "application/vnd.jupyter.widget-view+json": {
       "model_id": "",
       "version_major": 2,
       "version_minor": 0
      },
      "text/plain": [
       "FloatProgress(value=0.0, bar_style='info', description='Progress:', layout=Layout(height='25px', width='50%'),…"
      ]
     },
     "metadata": {},
     "output_type": "display_data"
    },
    {
     "name": "stdout",
     "output_type": "stream",
     "text": [
      "SparkSession available as 'spark'.\n"
     ]
    },
    {
     "data": {
      "text/html": [
       "Current session configs: <tt>{'conf': {'spark.jars.packages': 'com.johnsnowlabs.nlp:spark-nlp_2.12:4.3.1', 'spark.pyspark.python': 'python3', 'spark.pyspark.virtualenv.enabled': 'true', 'spark.pyspark.virtualenv.type': 'native', 'spark.pyspark.virtualenv.bin.path': '/usr/bin/virtualenv', 'spark.executor.memory': '4g'}, 'proxyUser': 'jovyan', 'kind': 'pyspark'}</tt><br>"
      ],
      "text/plain": [
       "<IPython.core.display.HTML object>"
      ]
     },
     "metadata": {},
     "output_type": "display_data"
    },
    {
     "data": {
      "text/html": [
       "<table>\n",
       "<tr><th>ID</th><th>YARN Application ID</th><th>Kind</th><th>State</th><th>Spark UI</th><th>Driver log</th><th>Current session?</th></tr><tr><td>1</td><td>application_1685118627020_0003</td><td>pyspark</td><td>idle</td><td><a target=\"_blank\" href=\"http://ip-172-31-21-228.ec2.internal:20888/proxy/application_1685118627020_0003/\">Link</a></td><td><a target=\"_blank\" href=\"http://ip-172-31-16-187.ec2.internal:8042/node/containerlogs/container_1685118627020_0003_01_000001/livy\">Link</a></td><td></td></tr><tr><td>3</td><td>application_1685118627020_0005</td><td>pyspark</td><td>idle</td><td><a target=\"_blank\" href=\"http://ip-172-31-21-228.ec2.internal:20888/proxy/application_1685118627020_0005/\">Link</a></td><td><a target=\"_blank\" href=\"http://ip-172-31-16-187.ec2.internal:8042/node/containerlogs/container_1685118627020_0005_01_000001/livy\">Link</a></td><td>✔</td></tr></table>"
      ],
      "text/plain": [
       "<IPython.core.display.HTML object>"
      ]
     },
     "metadata": {},
     "output_type": "display_data"
    }
   ],
   "source": [
    "%%configure -f\n",
    "{\n",
    "    \"conf\": {\n",
    "        \"spark.jars.packages\": \"com.johnsnowlabs.nlp:spark-nlp_2.12:4.3.1\",\n",
    "        \"spark.pyspark.python\": \"python3\",\n",
    "        \"spark.pyspark.virtualenv.enabled\": \"true\",\n",
    "        \"spark.pyspark.virtualenv.type\": \"native\",\n",
    "        \"spark.pyspark.virtualenv.bin.path\": \"/usr/bin/virtualenv\",\n",
    "        \"spark.executor.memory\": \"4g\"   \n",
    "    }\n",
    "}"
   ]
  },
  {
   "cell_type": "code",
   "execution_count": null,
   "metadata": {},
   "outputs": [],
   "source": [
    "sc.install_pypi_package('spark-nlp')\n",
    "sc.install_pypi_package('pickle')\n",
    "sc.install_pypi_package('numpy')"
   ]
  },
  {
   "attachments": {},
   "cell_type": "markdown",
   "metadata": {},
   "source": [
    "# 1. Generating RoBerta Embeddings with Spark NLP in Spark Sessoin"
   ]
  },
  {
   "cell_type": "code",
   "execution_count": 14,
   "metadata": {},
   "outputs": [
    {
     "data": {
      "application/vnd.jupyter.widget-view+json": {
       "model_id": "",
       "version_major": 2,
       "version_minor": 0
      },
      "text/plain": [
       "FloatProgress(value=0.0, bar_style='info', description='Progress:', layout=Layout(height='25px', width='50%'),…"
      ]
     },
     "metadata": {},
     "output_type": "display_data"
    }
   ],
   "source": [
    "# For general Spark\n",
    "from pyspark.sql import SparkSession\n",
    "\n",
    "# For SparkNLP\n",
    "import sparknlp\n",
    "from sparknlp.base import *\n",
    "from sparknlp.annotator import *\n",
    "from sparknlp.pretrained import PretrainedPipeline\n",
    "\n",
    "# For PySpark MLlib\n",
    "from pyspark.ml import Pipeline\n",
    "from pyspark.ml.feature import StringIndexer, Tokenizer, HashingTF, IDF, CountVectorizer\n",
    "from pyspark.ml.classification import LogisticRegression\n",
    "from pyspark.ml.evaluation import MulticlassClassificationEvaluator\n",
    "\n",
    "# In case you need to handle data types\n",
    "from pyspark.sql.types import StructType, StructField, IntegerType, StringType"
   ]
  },
  {
   "cell_type": "code",
   "execution_count": 15,
   "metadata": {},
   "outputs": [
    {
     "data": {
      "application/vnd.jupyter.widget-view+json": {
       "model_id": "",
       "version_major": 2,
       "version_minor": 0
      },
      "text/plain": [
       "FloatProgress(value=0.0, bar_style='info', description='Progress:', layout=Layout(height='25px', width='50%'),…"
      ]
     },
     "metadata": {},
     "output_type": "display_data"
    }
   ],
   "source": [
    "data = spark.read.parquet('s3://newemrbuckey2/book_info.parquet')"
   ]
  },
  {
   "cell_type": "code",
   "execution_count": 16,
   "metadata": {},
   "outputs": [
    {
     "data": {
      "application/vnd.jupyter.widget-view+json": {
       "model_id": "",
       "version_major": 2,
       "version_minor": 0
      },
      "text/plain": [
       "FloatProgress(value=0.0, bar_style='info', description='Progress:', layout=Layout(height='25px', width='50%'),…"
      ]
     },
     "metadata": {},
     "output_type": "display_data"
    }
   ],
   "source": [
    "data = data.withColumnRenamed('imageLinks.smallThumbnail', 'imageLinks_smallThumbnail')\n",
    "data = data.withColumnRenamed('imageLinks.thumbnail', 'imageLinks_thumbnail')"
   ]
  },
  {
   "cell_type": "code",
   "execution_count": 17,
   "metadata": {},
   "outputs": [
    {
     "data": {
      "application/vnd.jupyter.widget-view+json": {
       "model_id": "",
       "version_major": 2,
       "version_minor": 0
      },
      "text/plain": [
       "FloatProgress(value=0.0, bar_style='info', description='Progress:', layout=Layout(height='25px', width='50%'),…"
      ]
     },
     "metadata": {},
     "output_type": "display_data"
    },
    {
     "name": "stdout",
     "output_type": "stream",
     "text": [
      "roberta_embeddings_distilroberta_base download started this may take some time.\n",
      "Approximate size to download 294.5 MB\n",
      "[OK!]"
     ]
    }
   ],
   "source": [
    "from sparknlp.base import *\n",
    "from sparknlp.annotator import *\n",
    "from pyspark.ml import Pipeline\n",
    "import sparknlp\n",
    "\n",
    "documentAssembler = DocumentAssembler() \\\n",
    ".setInputCol(\"description\") \\\n",
    ".setOutputCol(\"document\")\n",
    "\n",
    "tokenizer = Tokenizer() \\\n",
    ".setInputCols(\"document\") \\\n",
    ".setOutputCol(\"token\")\n",
    "\n",
    "embeddings = RoBertaEmbeddings.pretrained(\"roberta_embeddings_distilroberta_base\",\"en\") \\\n",
    ".setInputCols([\"document\", \"token\"]) \\\n",
    ".setOutputCol(\"embeddings\")\n",
    "\n",
    "pipeline = Pipeline(stages=[documentAssembler, tokenizer, embeddings])\n",
    "result = pipeline.fit(data).transform(data)"
   ]
  },
  {
   "cell_type": "code",
   "execution_count": 18,
   "metadata": {},
   "outputs": [
    {
     "data": {
      "application/vnd.jupyter.widget-view+json": {
       "model_id": "",
       "version_major": 2,
       "version_minor": 0
      },
      "text/plain": [
       "FloatProgress(value=0.0, bar_style='info', description='Progress:', layout=Layout(height='25px', width='50%'),…"
      ]
     },
     "metadata": {},
     "output_type": "display_data"
    },
    {
     "name": "stdout",
     "output_type": "stream",
     "text": [
      "Collecting pandas==1.0.5\n",
      "  Using cached https://files.pythonhosted.org/packages/af/f3/683bf2547a3eaeec15b39cef86f61e921b3b187f250fcd2b5c5fb4386369/pandas-1.0.5-cp37-cp37m-manylinux1_x86_64.whl\n",
      "Requirement already satisfied: numpy>=1.13.3 in /usr/local/lib64/python3.7/site-packages (from pandas==1.0.5)\n",
      "Collecting python-dateutil>=2.6.1 (from pandas==1.0.5)\n",
      "  Using cached https://files.pythonhosted.org/packages/36/7a/87837f39d0296e723bb9b62bbb257d0355c7f6128853c78955f57342a56d/python_dateutil-2.8.2-py2.py3-none-any.whl\n",
      "Requirement already satisfied: pytz>=2017.2 in /usr/local/lib/python3.7/site-packages (from pandas==1.0.5)\n",
      "Requirement already satisfied: six>=1.5 in /usr/local/lib/python3.7/site-packages (from python-dateutil>=2.6.1->pandas==1.0.5)\n",
      "Installing collected packages: python-dateutil, pandas\n",
      "Successfully installed pandas-1.0.5 python-dateutil-2.8.2"
     ]
    }
   ],
   "source": [
    "sc.install_pypi_package(\"pandas==1.0.5\")"
   ]
  },
  {
   "cell_type": "code",
   "execution_count": 20,
   "metadata": {},
   "outputs": [],
   "source": [
    "listValues = result.select(\"embeddings\").rdd.map(lambda row: row[0]).collect()"
   ]
  },
  {
   "cell_type": "code",
   "execution_count": 21,
   "metadata": {},
   "outputs": [],
   "source": [
    "import boto3\n",
    "s3 = boto3.client('s3')"
   ]
  },
  {
   "cell_type": "code",
   "execution_count": 24,
   "metadata": {},
   "outputs": [],
   "source": [
    "import pickle as pkl\n",
    "pickle_object = pkl.dumps(listValues)\n",
    "response = s3.put_object(\n",
    "    Body=pickle_object,\n",
    "    Bucket='hleung-assignment3',\n",
    "    Key='embeddings.pickle'\n",
    ")"
   ]
  },
  {
   "attachments": {},
   "cell_type": "markdown",
   "metadata": {},
   "source": [
    "# 2. Dimension Reduction and Clustering with cuML"
   ]
  },
  {
   "attachments": {},
   "cell_type": "markdown",
   "metadata": {},
   "source": [
    "This session is run with another python session (not a Spark runtime), so the resources are reloaded from the Buckets."
   ]
  },
  {
   "cell_type": "code",
   "execution_count": 1,
   "metadata": {},
   "outputs": [],
   "source": [
    "import boto3\n",
    "import os\n",
    "import json\n",
    "import pandas as pd\n",
    "import numpy as np\n",
    "import pickle as pkl"
   ]
  },
  {
   "cell_type": "code",
   "execution_count": 26,
   "metadata": {},
   "outputs": [],
   "source": [
    "book_info = pd.read_parquet('s3://hleung-assignment3/book_info.parquet', engine = 'pyarrow')"
   ]
  },
  {
   "cell_type": "code",
   "execution_count": 41,
   "metadata": {},
   "outputs": [],
   "source": [
    "book_info = book_info[book_info['description'] != 'None']\n",
    "raw_text = list(book_info['description'])"
   ]
  },
  {
   "cell_type": "code",
   "execution_count": 43,
   "metadata": {},
   "outputs": [],
   "source": [
    "response = s3.get_object(Bucket='hleung-assignment3', Key='embeddings.pickle')\n",
    "body = response['Body'].read()\n",
    "embeddings = pkl.loads(body)"
   ]
  },
  {
   "cell_type": "code",
   "execution_count": 46,
   "metadata": {},
   "outputs": [
    {
     "data": {
      "text/plain": [
       "array([[ 0.02784006,  0.07538308,  0.10991567, ..., -0.0511117 ,\n",
       "         0.03425498,  0.06233433],\n",
       "       [-0.03425867,  0.11978679,  0.11524409, ..., -0.0742497 ,\n",
       "         0.01568413,  0.04208694],\n",
       "       [ 0.05607674,  0.08796979,  0.0205799 , ..., -0.07605164,\n",
       "         0.06563022,  0.0646955 ],\n",
       "       ...,\n",
       "       [ 0.01026644,  0.09844184,  0.04236247, ..., -0.10537211,\n",
       "         0.04477907,  0.02297609],\n",
       "       [ 0.00757203,  0.07890654,  0.12018888, ..., -0.0350088 ,\n",
       "         0.04538227,  0.00372668],\n",
       "       [ 0.04130852,  0.13839261,  0.11578551, ..., -0.1324808 ,\n",
       "         0.02066202,  0.02001444]], dtype=float32)"
      ]
     },
     "execution_count": 46,
     "metadata": {},
     "output_type": "execute_result"
    }
   ],
   "source": [
    "embeddings = np.array(embeddings)\n",
    "embeddings"
   ]
  },
  {
   "cell_type": "code",
   "execution_count": 50,
   "metadata": {},
   "outputs": [],
   "source": [
    "import cuml\n",
    "import pickle as pkl"
   ]
  },
  {
   "cell_type": "code",
   "execution_count": 60,
   "metadata": {},
   "outputs": [],
   "source": [
    "embedding_cluster = cuml.manifold.UMAP(n_components=20, min_dist=0.0).fit_transform(embeddings)\n",
    "embedding_vis = cuml.manifold.UMAP(n_components=2, min_dist=0.0).fit_transform(embeddings)"
   ]
  },
  {
   "cell_type": "code",
   "execution_count": 82,
   "metadata": {},
   "outputs": [],
   "source": [
    "clusterer = cuml.cluster.hdbscan.HDBSCAN(min_cluster_size=100, metric='euclidean', prediction_data=True).fit(embedding_cluster)\n",
    "list_labels = clusterer.labels_\n",
    "\n",
    "with open('list_labels.pickle', 'wb') as f:\n",
    "    pkl.dump(list_labels, f)"
   ]
  },
  {
   "cell_type": "code",
   "execution_count": 91,
   "metadata": {},
   "outputs": [
    {
     "data": {
      "text/plain": [
       "Counter({-1: 3960,\n",
       "         3: 1317,\n",
       "         7: 347,\n",
       "         1: 192,\n",
       "         6: 259,\n",
       "         4: 686,\n",
       "         5: 289,\n",
       "         0: 337,\n",
       "         2: 181})"
      ]
     },
     "execution_count": 91,
     "metadata": {},
     "output_type": "execute_result"
    }
   ],
   "source": [
    "from collections import Counter\n",
    "Counter(list_labels)"
   ]
  },
  {
   "attachments": {},
   "cell_type": "markdown",
   "metadata": {},
   "source": [
    "Under BERTopic with HDBSCAN, we found 8 valid text clusters."
   ]
  },
  {
   "cell_type": "code",
   "execution_count": 101,
   "metadata": {},
   "outputs": [
    {
     "data": {
      "text/plain": [
       "<matplotlib.colorbar.Colorbar at 0x19c421e5280>"
      ]
     },
     "execution_count": 101,
     "metadata": {},
     "output_type": "execute_result"
    },
    {
     "data": {
      "image/png": "[encoded data removed]",
      "text/plain": [
       "<Figure size 1080x576 with 2 Axes>"
      ]
     },
     "metadata": {
      "needs_background": "light"
     },
     "output_type": "display_data"
    }
   ],
   "source": [
    "import matplotlib.pyplot as plt\n",
    "\n",
    "result = pd.DataFrame(embedding_vis.embedding_, columns=['x', 'y'])\n",
    "result['labels'] = list_labels\n",
    "# Visualize clusters\n",
    "fig, ax = plt.subplots(figsize=(15, 8))\n",
    "outliers = result.loc[result['labels'] == -1, :]\n",
    "clustered = result.loc[result['labels'] != -1, :]\n",
    "plt.scatter(outliers.x, outliers.y, color='#BDBDBD', s=0.05)\n",
    "plt.scatter(clustered.x, clustered.y, c=clustered.labels, s=0.1, cmap='hsv_r')\n",
    "plt.colorbar()"
   ]
  },
  {
   "attachments": {},
   "cell_type": "markdown",
   "metadata": {},
   "source": [
    "# 3. Visualization of BERTopics"
   ]
  },
  {
   "cell_type": "code",
   "execution_count": 2,
   "metadata": {},
   "outputs": [],
   "source": [
    "import pandas as pd\n",
    "import pickle as pkl\n",
    "\n",
    "book_info = pd.read_parquet('book_info.parquet', engine = 'pyarrow')\n",
    "book_info = book_info[book_info['description'] != 'None']\n",
    "raw_text = list(book_info['description'])\n",
    "\n",
    "with open('list_labels.pickle', 'rb') as f:\n",
    "    list_labels = pkl.load(f)"
   ]
  },
  {
   "cell_type": "code",
   "execution_count": 13,
   "metadata": {},
   "outputs": [],
   "source": [
    "from stop_words import get_stop_words\n",
    "sw = get_stop_words('en')\n",
    "\n",
    "def c_tf_idf(documents,m,ngram_range=(1, 1)):\n",
    "    count = CountVectorizer(ngram_range=ngram_range,stop_words= sw).fit(documents)  \n",
    "    t = count.transform(documents).toarray()  \n",
    "    w = t.sum(axis=1)  \n",
    "    tf = np.divide(t.T, w)  \n",
    "    sum_t = t.sum(axis=0)  \n",
    "    idf = np.log(np.divide(m, sum_t)).reshape(-1, 1)  \n",
    "    tf_idf = np.multiply(tf, idf)  \n",
    "    return tf_idf, count\n",
    "\n",
    "def extract_topic_sizes(df):      \n",
    "    topic_sizes = (df.groupby(['Topic']).Doc.count().reset_index().rename({\"Topic\": \"Topic\", \"Doc\": \"Size\"}, axis='columns').sort_values(\"Size\", ascending=False))  \n",
    "    return topic_sizes\n",
    "\n",
    "def extract_top_n_words_per_topic(tf_idf, count, docs_per_topic, n=20):      \n",
    "    words = count.get_feature_names()      \n",
    "    labels = list(docs_per_topic.Topic)      \n",
    "    tf_idf_transposed = tf_idf.T      \n",
    "    indices = tf_idf_transposed.argsort()[:, -n:]     \n",
    "    top_n_words = {label: [(words[j], tf_idf_transposed[i][j]) for j in indices[i]][::-1] for i, label in enumerate(labels)}      \n",
    "    return top_n_words"
   ]
  },
  {
   "attachments": {},
   "cell_type": "markdown",
   "metadata": {},
   "source": [
    "Now clean the data"
   ]
  },
  {
   "cell_type": "code",
   "execution_count": 16,
   "metadata": {},
   "outputs": [],
   "source": [
    "import nltk\n",
    "import string\n",
    "from nltk import word_tokenize\n",
    "from nltk.stem.porter import PorterStemmer\n",
    "\n",
    "stemmer = PorterStemmer()\n",
    "\n",
    "processed_text = [text.lower() for text in raw_text]\n",
    "processed_text = [\"\".join([char for char in text if char not in string.punctuation]) for text in processed_text]\n",
    "processed_text = [word_tokenize(text) for text in processed_text]\n",
    "processed_text = [[word for word in text if word not in sw] for text in processed_text]\n",
    "processed_text = [[stemmer.stem(word) for word in text] for text in processed_text]"
   ]
  },
  {
   "cell_type": "code",
   "execution_count": 29,
   "metadata": {},
   "outputs": [
    {
     "data": {
      "text/plain": [
       "9"
      ]
     },
     "execution_count": 29,
     "metadata": {},
     "output_type": "execute_result"
    }
   ],
   "source": [
    "finished_text = [\" \".join(text) for text in processed_text]\n",
    "docs_df = pd.DataFrame(pd.Series(finished_text), columns=[\"Doc\"])\n",
    "docs_df['Topic'] = list_labels\n",
    "docs_df['Doc_ID'] = range(len(docs_df))\n",
    "docs_per_topic = docs_df.groupby(['Topic'], as_index = False).agg({'Doc': ' '.join})\n",
    "len(docs_per_topic.Doc.tolist())"
   ]
  },
  {
   "cell_type": "code",
   "execution_count": 34,
   "metadata": {},
   "outputs": [
    {
     "name": "stderr",
     "output_type": "stream",
     "text": [
      "c:\\Users\\aruba\\anaconda3\\lib\\site-packages\\sklearn\\feature_extraction\\text.py:388: UserWarning: Your stop_words may be inconsistent with your preprocessing. Tokenizing the stop words generated tokens ['aren', 'can', 'couldn', 'didn', 'doesn', 'don', 'hadn', 'hasn', 'haven', 'isn', 'let', 'll', 'mustn', 're', 'shan', 'shouldn', 've', 'wasn', 'weren', 'won', 'wouldn'] not in stop_words.\n",
      "  warnings.warn('Your stop_words may be inconsistent with '\n"
     ]
    },
    {
     "data": {
      "text/html": [
       "<div>\n",
       "<style scoped>\n",
       "    .dataframe tbody tr th:only-of-type {\n",
       "        vertical-align: middle;\n",
       "    }\n",
       "\n",
       "    .dataframe tbody tr th {\n",
       "        vertical-align: top;\n",
       "    }\n",
       "\n",
       "    .dataframe thead th {\n",
       "        text-align: right;\n",
       "    }\n",
       "</style>\n",
       "<table border=\"1\" class=\"dataframe\">\n",
       "  <thead>\n",
       "    <tr style=\"text-align: right;\">\n",
       "      <th></th>\n",
       "      <th>Topic</th>\n",
       "      <th>Size</th>\n",
       "    </tr>\n",
       "  </thead>\n",
       "  <tbody>\n",
       "    <tr>\n",
       "      <th>0</th>\n",
       "      <td>-1</td>\n",
       "      <td>3960</td>\n",
       "    </tr>\n",
       "    <tr>\n",
       "      <th>4</th>\n",
       "      <td>3</td>\n",
       "      <td>1317</td>\n",
       "    </tr>\n",
       "    <tr>\n",
       "      <th>5</th>\n",
       "      <td>4</td>\n",
       "      <td>686</td>\n",
       "    </tr>\n",
       "    <tr>\n",
       "      <th>8</th>\n",
       "      <td>7</td>\n",
       "      <td>347</td>\n",
       "    </tr>\n",
       "    <tr>\n",
       "      <th>1</th>\n",
       "      <td>0</td>\n",
       "      <td>337</td>\n",
       "    </tr>\n",
       "    <tr>\n",
       "      <th>6</th>\n",
       "      <td>5</td>\n",
       "      <td>289</td>\n",
       "    </tr>\n",
       "    <tr>\n",
       "      <th>7</th>\n",
       "      <td>6</td>\n",
       "      <td>259</td>\n",
       "    </tr>\n",
       "    <tr>\n",
       "      <th>2</th>\n",
       "      <td>1</td>\n",
       "      <td>192</td>\n",
       "    </tr>\n",
       "    <tr>\n",
       "      <th>3</th>\n",
       "      <td>2</td>\n",
       "      <td>181</td>\n",
       "    </tr>\n",
       "  </tbody>\n",
       "</table>\n",
       "</div>"
      ],
      "text/plain": [
       "   Topic  Size\n",
       "0     -1  3960\n",
       "4      3  1317\n",
       "5      4   686\n",
       "8      7   347\n",
       "1      0   337\n",
       "6      5   289\n",
       "7      6   259\n",
       "2      1   192\n",
       "3      2   181"
      ]
     },
     "execution_count": 34,
     "metadata": {},
     "output_type": "execute_result"
    }
   ],
   "source": [
    "from sklearn.feature_extraction.text import CountVectorizer\n",
    "from sklearn.metrics.pairwise import cosine_similarity\n",
    "import numpy as np\n",
    "from tqdm import tqdm\n",
    "\n",
    "tf_idf, count = c_tf_idf(docs_per_topic.Doc.values, m = len(finished_text))   \n",
    "top_n_words = extract_top_n_words_per_topic(tf_idf, count, docs_per_topic, n=30)   \n",
    "topic_sizes = extract_topic_sizes(docs_df)\n",
    "topic_sizes"
   ]
  },
  {
   "cell_type": "code",
   "execution_count": 35,
   "metadata": {},
   "outputs": [
    {
     "name": "stdout",
     "output_type": "stream",
     "text": [
      "Most 20 Important words in TOPIC 0 :\n",
      "[('york', 0.012568924250010912),\n",
      " ('love', 0.010686453956835526),\n",
      " ('novel', 0.01025327379302722),\n",
      " ('stori', 0.010109169117590654),\n",
      " ('time', 0.009861628347936057),\n",
      " ('bestsel', 0.00984597457634269),\n",
      " ('murder', 0.009625113934753548),\n",
      " ('one', 0.009462978907869948),\n",
      " ('famili', 0.008716895714196505),\n",
      " ('year', 0.008489680252085312),\n",
      " ('secret', 0.0079159735800635),\n",
      " ('best', 0.0071450828728773196),\n",
      " ('mysteri', 0.007074560467434552),\n",
      " ('life', 0.006871594438962023),\n",
      " ('mother', 0.006698413833664063),\n",
      " ('author', 0.006307538546278646),\n",
      " ('young', 0.006207280186106829),\n",
      " ('thriller', 0.00590280704273566),\n",
      " ('man', 0.0058966983845604995),\n",
      " ('father', 0.005866089888665662),\n",
      " ('woman', 0.005823895710132186),\n",
      " ('home', 0.005799464972234205),\n",
      " ('name', 0.005655482295242052),\n",
      " ('never', 0.005637683389274398),\n",
      " ('friend', 0.00562510593561291),\n",
      " ('new', 0.005525502672309004),\n",
      " ('two', 0.005474581664253973),\n",
      " ('come', 0.005437561282430163),\n",
      " ('killer', 0.005329207110888355),\n",
      " ('death', 0.005252350709644026)]\n",
      "'************************************************************'\n",
      "Most 20 Important words in TOPIC 1 :\n",
      "[('novel', 0.011833577066652706),\n",
      " ('murder', 0.011312090249873409),\n",
      " ('stori', 0.010122956163991581),\n",
      " ('one', 0.009297685157916152),\n",
      " ('man', 0.00901464298449268),\n",
      " ('young', 0.00889218231474663),\n",
      " ('friend', 0.008414010285643023),\n",
      " ('find', 0.008170653398182192),\n",
      " ('girl', 0.00795842608733251),\n",
      " ('detect', 0.007629237245859473),\n",
      " ('woman', 0.007622439310015778),\n",
      " ('life', 0.007419254913314505),\n",
      " ('love', 0.007313286054741749),\n",
      " ('time', 0.007287190117869981),\n",
      " ('secret', 0.007261272120824911),\n",
      " ('bestsel', 0.0070827236431747695),\n",
      " ('mysteri', 0.007027598683188266),\n",
      " ('investig', 0.006548546885317205),\n",
      " ('york', 0.006536197155543937),\n",
      " ('back', 0.0065354718439958924),\n",
      " ('surviv', 0.006358205461204597),\n",
      " ('boy', 0.006357391645189529),\n",
      " ('now', 0.006309984965119646),\n",
      " ('dark', 0.006184908446467242),\n",
      " ('day', 0.006115531196024593),\n",
      " ('year', 0.006083103395599174),\n",
      " ('two', 0.006040382469500675),\n",
      " ('even', 0.006010275866555631),\n",
      " ('seri', 0.005969696020148942),\n",
      " ('famili', 0.005960547062719029)]\n",
      "'************************************************************'\n",
      "Most 20 Important words in TOPIC 2 :\n",
      "[('vol', 0.08579842437181212),\n",
      " ('proceed', 0.05123458001289604),\n",
      " ('includ', 0.037349347786600776),\n",
      " ('index', 0.033116739873300945),\n",
      " ('annual', 0.03068788448657203),\n",
      " ('held', 0.030441733674957776),\n",
      " ('contain', 0.029723572313732332),\n",
      " ('list', 0.02921461587607385),\n",
      " ('paper', 0.02921461587607385),\n",
      " ('directori', 0.028531828986608485),\n",
      " ('meet', 0.02682006888441789),\n",
      " ('hardbound', 0.026359440173316415),\n",
      " ('abstract', 0.024466397731128728),\n",
      " ('member', 0.0241705742327353),\n",
      " ('confer', 0.023401446246692388),\n",
      " ('bibliograph', 0.021741952522723162),\n",
      " ('section', 0.021106637321859825),\n",
      " ('report', 0.019059279521700032),\n",
      " ('separ', 0.01712248391543868),\n",
      " ('refer', 0.0171207016146201),\n",
      " ('societi', 0.01701988116549473),\n",
      " ('edit', 0.01663204887940557),\n",
      " ('librari', 0.016447181671690327),\n",
      " ('1985', 0.01630646439204237),\n",
      " ('19', 0.016137367830109866),\n",
      " ('27', 0.01530299124202637),\n",
      " ('ed', 0.014968056644183877),\n",
      " ('india', 0.014477527922968273),\n",
      " ('publish', 0.014424289062239255),\n",
      " ('18081916', 0.014390457519950689)]\n",
      "'************************************************************'\n",
      "Most 20 Important words in TOPIC 3 :\n",
      "[('examin', 0.009081094174327226),\n",
      " ('explor', 0.007603566793512604),\n",
      " ('present', 0.007207838287739905),\n",
      " ('collect', 0.0070836499492873805),\n",
      " ('provid', 0.007041535868415058),\n",
      " ('theori', 0.006427943006342494),\n",
      " ('text', 0.0063750619355430775),\n",
      " ('studi', 0.006360496787433283),\n",
      " ('develop', 0.006314560691992575),\n",
      " ('psycholog', 0.005937935305517609),\n",
      " ('polit', 0.0059141991432792715),\n",
      " ('discuss', 0.005912726772926576),\n",
      " ('social', 0.005908245386297936),\n",
      " ('cultur', 0.005902937930021494),\n",
      " ('law', 0.005691675278706568),\n",
      " ('cover', 0.00564207376740477),\n",
      " ('commun', 0.005537278755747209),\n",
      " ('american', 0.005465040928327895),\n",
      " ('use', 0.00539848828062268),\n",
      " ('essay', 0.00538146063645432),\n",
      " ('comprehens', 0.005325103492854152),\n",
      " ('critic', 0.005300973093166591),\n",
      " ('histori', 0.005296903646118955),\n",
      " ('polici', 0.005283199015671356),\n",
      " ('educ', 0.005215032880430991),\n",
      " ('field', 0.005211951491588815),\n",
      " ('intern', 0.005126599352052408),\n",
      " ('human', 0.005046196247127233),\n",
      " ('contemporari', 0.005014097945456425),\n",
      " ('issu', 0.0048954782599090725)]\n",
      "'************************************************************'\n",
      "Most 20 Important words in TOPIC 4 :\n",
      "[('polici', 0.010983673369743619),\n",
      " ('research', 0.009846807154203647),\n",
      " ('field', 0.008788465627358912),\n",
      " ('commun', 0.008775437135050074),\n",
      " ('issu', 0.008551864072349372),\n",
      " ('environment', 0.008551605038121936),\n",
      " ('health', 0.00827960835539908),\n",
      " ('studi', 0.008049598521633283),\n",
      " ('provid', 0.00803572474230963),\n",
      " ('educ', 0.007930577560262981),\n",
      " ('develop', 0.007831308687082433),\n",
      " ('social', 0.007582909641128119),\n",
      " ('approach', 0.007455354398077119),\n",
      " ('psycholog', 0.007432980806074782),\n",
      " ('practic', 0.007274438216014307),\n",
      " ('media', 0.006874739883021743),\n",
      " ('intern', 0.006613700438702711),\n",
      " ('volum', 0.006445171173985439),\n",
      " ('econom', 0.006435373007976724),\n",
      " ('student', 0.006407421097621735),\n",
      " ('cultur', 0.006391507604854399),\n",
      " ('theori', 0.006258363953992558),\n",
      " ('environ', 0.006257639847954412),\n",
      " ('includ', 0.006237998744491391),\n",
      " ('use', 0.0062363429967991066),\n",
      " ('present', 0.006082253345501615),\n",
      " ('topic', 0.0060266359394417135),\n",
      " ('global', 0.005967856253638723),\n",
      " ('examin', 0.005849017382865804),\n",
      " ('discuss', 0.005789824631776126)]\n",
      "'************************************************************'\n",
      "Most 20 Important words in TOPIC 5 :\n",
      "[('social', 0.008806989580684802),\n",
      " ('polici', 0.0081428283230871),\n",
      " ('polit', 0.008061805688833463),\n",
      " ('studi', 0.007318190435353846),\n",
      " ('law', 0.007126776538225874),\n",
      " ('religi', 0.007002912966317847),\n",
      " ('environment', 0.006842064073249429),\n",
      " ('commun', 0.006837294358758882),\n",
      " ('examin', 0.0066963625045223804),\n",
      " ('legal', 0.006409103290619273),\n",
      " ('perspect', 0.006343517961373587),\n",
      " ('research', 0.006273704362391865),\n",
      " ('societi', 0.006226498001736481),\n",
      " ('part', 0.00615250981622049),\n",
      " ('educ', 0.0061036901903803635),\n",
      " ('issu', 0.006010926061797611),\n",
      " ('contemporari', 0.005881162999656349),\n",
      " ('religion', 0.005878593748347864),\n",
      " ('provid', 0.00575680485983867),\n",
      " ('volum', 0.005631050350724219),\n",
      " ('field', 0.005621969053370662),\n",
      " ('state', 0.005477629683906566),\n",
      " ('race', 0.005471227422255894),\n",
      " ('divers', 0.005465137429714552),\n",
      " ('scienc', 0.0054648812850763),\n",
      " ('explor', 0.0053951627199832234),\n",
      " ('develop', 0.005343003881377704),\n",
      " ('chang', 0.005315740167967998),\n",
      " ('includ', 0.005298609570556523),\n",
      " ('challeng', 0.005199969735577369)]\n",
      "'************************************************************'\n",
      "Most 20 Important words in TOPIC 6 :\n",
      "[('polit', 0.008651892944229933),\n",
      " ('american', 0.007493382891608014),\n",
      " ('argu', 0.007481269414098806),\n",
      " ('law', 0.007359991630979826),\n",
      " ('race', 0.006579740357120461),\n",
      " ('cultur', 0.006292401865269239),\n",
      " ('racial', 0.006285371589958527),\n",
      " ('histori', 0.006100032420767674),\n",
      " ('state', 0.005964044618639937),\n",
      " ('centuri', 0.005864019055221516),\n",
      " ('show', 0.005616959920845833),\n",
      " ('religion', 0.005330856064800575),\n",
      " ('black', 0.005318145766240515),\n",
      " ('modern', 0.004926707540247498),\n",
      " ('unit', 0.00491430173469956),\n",
      " ('religi', 0.004908043944511102),\n",
      " ('power', 0.00482260160013179),\n",
      " ('also', 0.00473901262743472),\n",
      " ('justic', 0.004734999110913408),\n",
      " ('econom', 0.004553013181999821),\n",
      " ('societi', 0.004519206181167988),\n",
      " ('debat', 0.00445242012300689),\n",
      " ('white', 0.004435488385623134),\n",
      " ('nation', 0.004432811437154404),\n",
      " ('human', 0.004367729256397549),\n",
      " ('parti', 0.004364983942899047),\n",
      " ('system', 0.004345411677353544),\n",
      " ('world', 0.004330078078122173),\n",
      " ('peopl', 0.004326632813677495),\n",
      " ('idea', 0.00431172038169871)]\n",
      "'************************************************************'\n",
      "Most 20 Important words in TOPIC 7 :\n",
      "[('health', 0.01082832480055149),\n",
      " ('research', 0.00976691372661886),\n",
      " ('field', 0.007953695834600111),\n",
      " ('polici', 0.00784095941151453),\n",
      " ('environment', 0.007658873205542501),\n",
      " ('educ', 0.0075851535486478805),\n",
      " ('includ', 0.007577201426982464),\n",
      " ('issu', 0.00716734816888348),\n",
      " ('public', 0.006872677879394868),\n",
      " ('studi', 0.006786344153661685),\n",
      " ('chapter', 0.006762741419022257),\n",
      " ('provid', 0.006704414362759251),\n",
      " ('intern', 0.00667461323493071),\n",
      " ('social', 0.006636257366122693),\n",
      " ('develop', 0.00656153081978796),\n",
      " ('commun', 0.006482250289438715),\n",
      " ('psycholog', 0.006409589373500551),\n",
      " ('sustain', 0.006389020069108569),\n",
      " ('resourc', 0.0063886347254233315),\n",
      " ('econom', 0.0060854461805556915),\n",
      " ('practic', 0.006026316743471419),\n",
      " ('approach', 0.005982688399501043),\n",
      " ('discuss', 0.005915395580448221),\n",
      " ('system', 0.005843801690437812),\n",
      " ('inform', 0.005823423615879441),\n",
      " ('energi', 0.005785686734332719),\n",
      " ('chang', 0.005724309546933623),\n",
      " ('scienc', 0.005671402086924715),\n",
      " ('use', 0.005536962416739294),\n",
      " ('theori', 0.005532288029305931)]\n",
      "'************************************************************'\n"
     ]
    }
   ],
   "source": [
    "from pprint import pprint\n",
    "for i in top_n_words.keys():\n",
    "    if i == -1:\n",
    "        continue    \n",
    "    print('Most 20 Important words in TOPIC {} :'.format(i))    \n",
    "    pprint(top_n_words[i])    \n",
    "    pprint('***'*20)"
   ]
  }
 ],
 "metadata": {
  "kernelspec": {
   "display_name": "base",
   "language": "python",
   "name": "python3"
  },
  "language_info": {
   "codemirror_mode": {
    "name": "ipython",
    "version": 3
   },
   "file_extension": ".py",
   "mimetype": "text/x-python",
   "name": "python",
   "nbconvert_exporter": "python",
   "pygments_lexer": "ipython3",
   "version": "3.8.5"
  }
 },
 "nbformat": 4,
 "nbformat_minor": 4
}
