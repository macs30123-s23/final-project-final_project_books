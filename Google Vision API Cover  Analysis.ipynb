{
 "cells": [
  {
   "cell_type": "markdown",
   "metadata": {},
   "source": [
    "# Author: Ryan Liang\n",
    "# Prepare Dependencies"
   ]
  },
  {
   "cell_type": "code",
   "execution_count": 1,
   "metadata": {},
   "outputs": [
    {
     "name": "stdout",
     "output_type": "stream",
     "text": [
      "Collecting google.cloud\n",
      "  Downloading google_cloud-0.34.0-py2.py3-none-any.whl (1.8 kB)\n",
      "Installing collected packages: google.cloud\n",
      "Successfully installed google.cloud\n",
      "\u001b[33mWARNING: You are using pip version 20.2.4; however, version 23.1.2 is available.\n",
      "You should consider upgrading via the '/opt/conda/bin/python3.7 -m pip install --upgrade pip' command.\u001b[0m\n",
      "Collecting google-cloud-vision\n",
      "  Downloading google_cloud_vision-3.4.1-py2.py3-none-any.whl (444 kB)\n",
      "\u001b[K     |████████████████████████████████| 444 kB 24.4 MB/s eta 0:00:01\n",
      "\u001b[?25hCollecting proto-plus<2.0.0dev,>=1.22.0\n",
      "  Downloading proto_plus-1.22.2-py3-none-any.whl (47 kB)\n",
      "\u001b[K     |████████████████████████████████| 47 kB 11.2 MB/s eta 0:00:01\n",
      "\u001b[?25hCollecting protobuf!=3.20.0,!=3.20.1,!=4.21.0,!=4.21.1,!=4.21.2,!=4.21.3,!=4.21.4,!=4.21.5,<5.0.0dev,>=3.19.5\n",
      "  Downloading protobuf-4.23.1-cp37-abi3-manylinux2014_x86_64.whl (304 kB)\n",
      "\u001b[K     |████████████████████████████████| 304 kB 76.4 MB/s eta 0:00:01\n",
      "\u001b[?25hCollecting google-api-core[grpc]!=2.0.*,!=2.1.*,!=2.10.*,!=2.2.*,!=2.3.*,!=2.4.*,!=2.5.*,!=2.6.*,!=2.7.*,!=2.8.*,!=2.9.*,<3.0.0dev,>=1.34.0\n",
      "  Downloading google_api_core-2.11.0-py3-none-any.whl (120 kB)\n",
      "\u001b[K     |████████████████████████████████| 120 kB 89.0 MB/s eta 0:00:01\n",
      "\u001b[?25hRequirement already satisfied: requests<3.0.0dev,>=2.18.0 in /opt/conda/lib/python3.7/site-packages (from google-api-core[grpc]!=2.0.*,!=2.1.*,!=2.10.*,!=2.2.*,!=2.3.*,!=2.4.*,!=2.5.*,!=2.6.*,!=2.7.*,!=2.8.*,!=2.9.*,<3.0.0dev,>=1.34.0->google-cloud-vision) (2.24.0)\n",
      "Collecting google-auth<3.0dev,>=2.14.1\n",
      "  Downloading google_auth-2.18.1-py2.py3-none-any.whl (178 kB)\n",
      "\u001b[K     |████████████████████████████████| 178 kB 102.9 MB/s eta 0:00:01\n",
      "\u001b[?25hCollecting googleapis-common-protos<2.0dev,>=1.56.2\n",
      "  Downloading googleapis_common_protos-1.59.0-py2.py3-none-any.whl (223 kB)\n",
      "\u001b[K     |████████████████████████████████| 223 kB 76.0 MB/s eta 0:00:01\n",
      "\u001b[?25hCollecting grpcio-status<2.0dev,>=1.33.2; extra == \"grpc\"\n",
      "  Downloading grpcio_status-1.54.2-py3-none-any.whl (5.1 kB)\n",
      "Collecting grpcio<2.0dev,>=1.33.2; extra == \"grpc\"\n",
      "  Downloading grpcio-1.54.2-cp37-cp37m-manylinux_2_17_x86_64.manylinux2014_x86_64.whl (5.1 MB)\n",
      "\u001b[K     |████████████████████████████████| 5.1 MB 68.8 MB/s eta 0:00:01\n",
      "\u001b[?25hRequirement already satisfied: urllib3!=1.25.0,!=1.25.1,<1.26,>=1.21.1 in /opt/conda/lib/python3.7/site-packages (from requests<3.0.0dev,>=2.18.0->google-api-core[grpc]!=2.0.*,!=2.1.*,!=2.10.*,!=2.2.*,!=2.3.*,!=2.4.*,!=2.5.*,!=2.6.*,!=2.7.*,!=2.8.*,!=2.9.*,<3.0.0dev,>=1.34.0->google-cloud-vision) (1.25.7)\n",
      "Requirement already satisfied: chardet<4,>=3.0.2 in /opt/conda/lib/python3.7/site-packages (from requests<3.0.0dev,>=2.18.0->google-api-core[grpc]!=2.0.*,!=2.1.*,!=2.10.*,!=2.2.*,!=2.3.*,!=2.4.*,!=2.5.*,!=2.6.*,!=2.7.*,!=2.8.*,!=2.9.*,<3.0.0dev,>=1.34.0->google-cloud-vision) (3.0.4)\n",
      "Requirement already satisfied: idna<3,>=2.5 in /opt/conda/lib/python3.7/site-packages (from requests<3.0.0dev,>=2.18.0->google-api-core[grpc]!=2.0.*,!=2.1.*,!=2.10.*,!=2.2.*,!=2.3.*,!=2.4.*,!=2.5.*,!=2.6.*,!=2.7.*,!=2.8.*,!=2.9.*,<3.0.0dev,>=1.34.0->google-cloud-vision) (2.9)\n",
      "Requirement already satisfied: certifi>=2017.4.17 in /opt/conda/lib/python3.7/site-packages (from requests<3.0.0dev,>=2.18.0->google-api-core[grpc]!=2.0.*,!=2.1.*,!=2.10.*,!=2.2.*,!=2.3.*,!=2.4.*,!=2.5.*,!=2.6.*,!=2.7.*,!=2.8.*,!=2.9.*,<3.0.0dev,>=1.34.0->google-cloud-vision) (2020.6.20)\n",
      "Requirement already satisfied: cachetools<6.0,>=2.0.0 in /opt/conda/lib/python3.7/site-packages (from google-auth<3.0dev,>=2.14.1->google-api-core[grpc]!=2.0.*,!=2.1.*,!=2.10.*,!=2.2.*,!=2.3.*,!=2.4.*,!=2.5.*,!=2.6.*,!=2.7.*,!=2.8.*,!=2.9.*,<3.0.0dev,>=1.34.0->google-cloud-vision) (4.1.1)\n",
      "Requirement already satisfied: six>=1.9.0 in /opt/conda/lib/python3.7/site-packages (from google-auth<3.0dev,>=2.14.1->google-api-core[grpc]!=2.0.*,!=2.1.*,!=2.10.*,!=2.2.*,!=2.3.*,!=2.4.*,!=2.5.*,!=2.6.*,!=2.7.*,!=2.8.*,!=2.9.*,<3.0.0dev,>=1.34.0->google-cloud-vision) (1.14.0)\n",
      "Requirement already satisfied: pyasn1-modules>=0.2.1 in /opt/conda/lib/python3.7/site-packages (from google-auth<3.0dev,>=2.14.1->google-api-core[grpc]!=2.0.*,!=2.1.*,!=2.10.*,!=2.2.*,!=2.3.*,!=2.4.*,!=2.5.*,!=2.6.*,!=2.7.*,!=2.8.*,!=2.9.*,<3.0.0dev,>=1.34.0->google-cloud-vision) (0.2.8)\n",
      "Requirement already satisfied: rsa<5,>=3.1.4; python_version >= \"3.6\" in /opt/conda/lib/python3.7/site-packages (from google-auth<3.0dev,>=2.14.1->google-api-core[grpc]!=2.0.*,!=2.1.*,!=2.10.*,!=2.2.*,!=2.3.*,!=2.4.*,!=2.5.*,!=2.6.*,!=2.7.*,!=2.8.*,!=2.9.*,<3.0.0dev,>=1.34.0->google-cloud-vision) (4.6)\n",
      "Requirement already satisfied: pyasn1<0.5.0,>=0.4.6 in /opt/conda/lib/python3.7/site-packages (from pyasn1-modules>=0.2.1->google-auth<3.0dev,>=2.14.1->google-api-core[grpc]!=2.0.*,!=2.1.*,!=2.10.*,!=2.2.*,!=2.3.*,!=2.4.*,!=2.5.*,!=2.6.*,!=2.7.*,!=2.8.*,!=2.9.*,<3.0.0dev,>=1.34.0->google-cloud-vision) (0.4.8)\n",
      "Installing collected packages: protobuf, proto-plus, google-auth, googleapis-common-protos, grpcio, grpcio-status, google-api-core, google-cloud-vision\n",
      "  Attempting uninstall: google-auth\n",
      "    Found existing installation: google-auth 1.22.1\n",
      "    Uninstalling google-auth-1.22.1:\n",
      "      Successfully uninstalled google-auth-1.22.1\n",
      "Successfully installed google-api-core-2.11.0 google-auth-2.18.1 google-cloud-vision-3.4.1 googleapis-common-protos-1.59.0 grpcio-1.54.2 grpcio-status-1.54.2 proto-plus-1.22.2 protobuf-4.23.1\n",
      "\u001b[33mWARNING: You are using pip version 20.2.4; however, version 23.1.2 is available.\n",
      "You should consider upgrading via the '/opt/conda/bin/python3.7 -m pip install --upgrade pip' command.\u001b[0m\n",
      "Collecting pyarrow\n",
      "  Downloading pyarrow-12.0.0-cp37-cp37m-manylinux_2_17_x86_64.manylinux2014_x86_64.whl (39.1 MB)\n",
      "\u001b[K     |████████████████████████████████| 39.1 MB 28.5 MB/s eta 0:00:01\n",
      "\u001b[?25hRequirement already satisfied: numpy>=1.16.6 in /opt/conda/lib/python3.7/site-packages (from pyarrow) (1.19.2)\n",
      "Installing collected packages: pyarrow\n",
      "Successfully installed pyarrow-12.0.0\n",
      "\u001b[33mWARNING: You are using pip version 20.2.4; however, version 23.1.2 is available.\n",
      "You should consider upgrading via the '/opt/conda/bin/python3.7 -m pip install --upgrade pip' command.\u001b[0m\n",
      "Collecting pyldavis\n",
      "  Downloading pyLDAvis-3.3.1.tar.gz (1.7 MB)\n",
      "\u001b[K     |████████████████████████████████| 1.7 MB 26.1 MB/s eta 0:00:01\n",
      "\u001b[?25h  Installing build dependencies ... \u001b[?25ldone\n",
      "\u001b[?25h  Getting requirements to build wheel ... \u001b[?25ldone\n",
      "\u001b[?25h  Installing backend dependencies ... \u001b[?25ldone\n",
      "\u001b[?25h    Preparing wheel metadata ... \u001b[?25ldone\n",
      "\u001b[?25hRequirement already satisfied: setuptools in /opt/conda/lib/python3.7/site-packages (from pyldavis) (50.3.2)\n",
      "Collecting numpy>=1.20.0\n",
      "  Downloading numpy-1.21.6-cp37-cp37m-manylinux_2_12_x86_64.manylinux2010_x86_64.whl (15.7 MB)\n",
      "\u001b[K     |████████████████████████████████| 15.7 MB 92.2 MB/s eta 0:00:01\n",
      "\u001b[?25hRequirement already satisfied: joblib in /opt/conda/lib/python3.7/site-packages (from pyldavis) (0.17.0)\n",
      "Requirement already satisfied: scipy in /opt/conda/lib/python3.7/site-packages (from pyldavis) (1.5.2)\n",
      "Collecting numexpr\n",
      "  Downloading numexpr-2.8.4-cp37-cp37m-manylinux_2_17_x86_64.manylinux2014_x86_64.whl (379 kB)\n",
      "\u001b[K     |████████████████████████████████| 379 kB 78.7 MB/s eta 0:00:01\n",
      "\u001b[?25hCollecting future\n",
      "  Downloading future-0.18.3.tar.gz (840 kB)\n",
      "\u001b[K     |████████████████████████████████| 840 kB 99.5 MB/s eta 0:00:01\n",
      "\u001b[?25hCollecting pandas>=1.2.0\n",
      "  Downloading pandas-1.3.5-cp37-cp37m-manylinux_2_17_x86_64.manylinux2014_x86_64.whl (11.3 MB)\n",
      "\u001b[K     |████████████████████████████████| 11.3 MB 65.5 MB/s eta 0:00:01\n",
      "\u001b[?25hCollecting gensim\n",
      "  Downloading gensim-4.2.0-cp37-cp37m-manylinux_2_12_x86_64.manylinux2010_x86_64.whl (24.1 MB)\n",
      "\u001b[K     |████████████████████████████████| 24.1 MB 67.9 MB/s eta 0:00:01\n",
      "\u001b[?25hRequirement already satisfied: jinja2 in /opt/conda/lib/python3.7/site-packages (from pyldavis) (2.11.1)\n",
      "Collecting sklearn\n",
      "  Downloading sklearn-0.0.post5.tar.gz (3.7 kB)\n",
      "Collecting funcy\n",
      "  Downloading funcy-2.0-py2.py3-none-any.whl (30 kB)\n",
      "Requirement already satisfied: scikit-learn in /opt/conda/lib/python3.7/site-packages (from pyldavis) (0.23.2)\n",
      "Requirement already satisfied: python-dateutil>=2.7.3 in /opt/conda/lib/python3.7/site-packages (from pandas>=1.2.0->pyldavis) (2.8.1)\n",
      "Requirement already satisfied: pytz>=2017.3 in /opt/conda/lib/python3.7/site-packages (from pandas>=1.2.0->pyldavis) (2020.1)\n",
      "Collecting smart-open>=1.8.1\n",
      "  Downloading smart_open-6.3.0-py3-none-any.whl (56 kB)\n",
      "\u001b[K     |████████████████████████████████| 56 kB 8.9 MB/s  eta 0:00:01\n",
      "\u001b[?25hRequirement already satisfied: MarkupSafe>=0.23 in /opt/conda/lib/python3.7/site-packages (from jinja2->pyldavis) (1.1.1)\n",
      "Requirement already satisfied: threadpoolctl>=2.0.0 in /opt/conda/lib/python3.7/site-packages (from scikit-learn->pyldavis) (2.1.0)\n",
      "Requirement already satisfied: six>=1.5 in /opt/conda/lib/python3.7/site-packages (from python-dateutil>=2.7.3->pandas>=1.2.0->pyldavis) (1.14.0)\n",
      "Building wheels for collected packages: pyldavis, future, sklearn\n",
      "  Building wheel for pyldavis (PEP 517) ... \u001b[?25ldone\n",
      "\u001b[?25h  Created wheel for pyldavis: filename=pyLDAvis-3.3.1-py2.py3-none-any.whl size=136880 sha256=dfe508010f055fc59449e57715b028beddbf3711b03c4be5a24a7722634a9f0c\n",
      "  Stored in directory: /home/jovyan/.cache/pip/wheels/c9/21/f6/17bcf2667e8a68532ba2fbf6d5c72fdf4c7f7d9abfa4852d2f\n",
      "  Building wheel for future (setup.py) ... \u001b[?25ldone\n",
      "\u001b[?25h  Created wheel for future: filename=future-0.18.3-py3-none-any.whl size=492025 sha256=f80b177f17c0d5a99c73001dd085e4ae324acdd29bad1eaad6aae232fd0e97ba\n",
      "  Stored in directory: /home/jovyan/.cache/pip/wheels/fa/cd/1f/c6b7b50b564983bf3011e8fc75d06047ddc50c07f6e3660b00\n",
      "  Building wheel for sklearn (setup.py) ... \u001b[?25ldone\n",
      "\u001b[?25h  Created wheel for sklearn: filename=sklearn-0.0.post5-py3-none-any.whl size=2360 sha256=adc30f1ebcab877113a322a6e51fb0209208695d3923531b919f45a7951879e7\n",
      "  Stored in directory: /home/jovyan/.cache/pip/wheels/d7/16/66/2658c4919dbc6cdf8b4642da29d3bbf83de902fc01e2c9a999\n",
      "Successfully built pyldavis future sklearn\n",
      "Installing collected packages: numpy, numexpr, future, pandas, smart-open, gensim, sklearn, funcy, pyldavis\n",
      "  Attempting uninstall: numpy\n",
      "    Found existing installation: numpy 1.19.2\n",
      "    Uninstalling numpy-1.19.2:\n",
      "      Successfully uninstalled numpy-1.19.2\n",
      "  Attempting uninstall: pandas\n",
      "    Found existing installation: pandas 1.1.3\n",
      "    Uninstalling pandas-1.1.3:\n",
      "      Successfully uninstalled pandas-1.1.3\n",
      "Successfully installed funcy-2.0 future-0.18.3 gensim-4.2.0 numexpr-2.8.4 numpy-1.21.6 pandas-1.3.5 pyldavis-3.3.1 sklearn-0.0.post5 smart-open-6.3.0\n",
      "\u001b[33mWARNING: You are using pip version 20.2.4; however, version 23.1.2 is available.\n",
      "You should consider upgrading via the '/opt/conda/bin/python3.7 -m pip install --upgrade pip' command.\u001b[0m\n",
      "Collecting dask[complete]\n",
      "  Downloading dask-2022.2.0-py3-none-any.whl (1.1 MB)\n",
      "\u001b[K     |████████████████████████████████| 1.1 MB 24.7 MB/s eta 0:00:01\n",
      "\u001b[?25hRequirement already satisfied: fsspec>=0.6.0 in /opt/conda/lib/python3.7/site-packages (from dask[complete]) (0.8.4)\n",
      "Collecting pyyaml>=5.3.1\n",
      "  Downloading PyYAML-6.0-cp37-cp37m-manylinux_2_5_x86_64.manylinux1_x86_64.manylinux_2_12_x86_64.manylinux2010_x86_64.whl (596 kB)\n",
      "\u001b[K     |████████████████████████████████| 596 kB 67.0 MB/s eta 0:00:01\n",
      "\u001b[?25hCollecting partd>=0.3.10\n",
      "  Downloading partd-1.4.0-py3-none-any.whl (18 kB)\n",
      "Collecting cloudpickle>=1.1.1\n",
      "  Downloading cloudpickle-2.2.1-py3-none-any.whl (25 kB)\n",
      "Collecting packaging>=20.0\n",
      "  Downloading packaging-23.1-py3-none-any.whl (48 kB)\n",
      "\u001b[K     |████████████████████████████████| 48 kB 9.2 MB/s  eta 0:00:01\n",
      "\u001b[?25hCollecting toolz>=0.8.2\n",
      "  Downloading toolz-0.12.0-py3-none-any.whl (55 kB)\n",
      "\u001b[K     |████████████████████████████████| 55 kB 9.4 MB/s  eta 0:00:01\n",
      "\u001b[?25hRequirement already satisfied: jinja2; extra == \"complete\" in /opt/conda/lib/python3.7/site-packages (from dask[complete]) (2.11.1)\n",
      "Requirement already satisfied: pandas>=1.0; extra == \"complete\" in /opt/conda/lib/python3.7/site-packages (from dask[complete]) (1.3.5)\n",
      "Collecting distributed==2022.02.0; extra == \"complete\"\n",
      "  Downloading distributed-2022.2.0-py3-none-any.whl (837 kB)\n",
      "\u001b[K     |████████████████████████████████| 837 kB 83.4 MB/s eta 0:00:01\n",
      "\u001b[?25hCollecting bokeh>=2.1.1; extra == \"complete\"\n",
      "  Downloading bokeh-2.4.3-py3-none-any.whl (18.5 MB)\n",
      "\u001b[K     |████████████████████████████████| 18.5 MB 65.3 MB/s eta 0:00:01\n",
      "\u001b[?25hRequirement already satisfied: numpy>=1.18; extra == \"complete\" in /opt/conda/lib/python3.7/site-packages (from dask[complete]) (1.21.6)\n",
      "Collecting locket\n",
      "  Downloading locket-1.0.0-py2.py3-none-any.whl (4.4 kB)\n",
      "Requirement already satisfied: MarkupSafe>=0.23 in /opt/conda/lib/python3.7/site-packages (from jinja2; extra == \"complete\"->dask[complete]) (1.1.1)\n",
      "Requirement already satisfied: python-dateutil>=2.7.3 in /opt/conda/lib/python3.7/site-packages (from pandas>=1.0; extra == \"complete\"->dask[complete]) (2.8.1)\n",
      "Requirement already satisfied: pytz>=2017.3 in /opt/conda/lib/python3.7/site-packages (from pandas>=1.0; extra == \"complete\"->dask[complete]) (2020.1)\n",
      "Collecting msgpack>=0.6.0\n",
      "  Downloading msgpack-1.0.5-cp37-cp37m-manylinux_2_17_x86_64.manylinux2014_x86_64.whl (299 kB)\n",
      "\u001b[K     |████████████████████████████████| 299 kB 87.8 MB/s eta 0:00:01\n",
      "\u001b[?25hCollecting sortedcontainers!=2.0.0,!=2.0.1\n",
      "  Downloading sortedcontainers-2.4.0-py2.py3-none-any.whl (29 kB)\n",
      "Collecting tblib>=1.6.0\n",
      "  Downloading tblib-1.7.0-py2.py3-none-any.whl (12 kB)\n",
      "Collecting psutil>=5.0\n",
      "  Downloading psutil-5.9.5-cp36-abi3-manylinux_2_12_x86_64.manylinux2010_x86_64.manylinux_2_17_x86_64.manylinux2014_x86_64.whl (282 kB)\n",
      "\u001b[K     |████████████████████████████████| 282 kB 94.1 MB/s eta 0:00:01\n",
      "\u001b[?25hRequirement already satisfied: tornado>=5; python_version < \"3.8\" in /opt/conda/lib/python3.7/site-packages (from distributed==2022.02.0; extra == \"complete\"->dask[complete]) (6.0.4)\n",
      "Collecting zict>=0.1.3\n",
      "  Downloading zict-2.2.0-py2.py3-none-any.whl (23 kB)\n",
      "Requirement already satisfied: setuptools in /opt/conda/lib/python3.7/site-packages (from distributed==2022.02.0; extra == \"complete\"->dask[complete]) (50.3.2)\n",
      "Collecting click>=6.6\n",
      "  Downloading click-8.1.3-py3-none-any.whl (96 kB)\n",
      "\u001b[K     |████████████████████████████████| 96 kB 14.4 MB/s eta 0:00:01\n",
      "\u001b[?25hRequirement already satisfied: pillow>=7.1.0 in /opt/conda/lib/python3.7/site-packages (from bokeh>=2.1.1; extra == \"complete\"->dask[complete]) (8.0.0)\n",
      "Collecting typing-extensions>=3.10.0\n",
      "  Downloading typing_extensions-4.6.2-py3-none-any.whl (31 kB)\n",
      "Requirement already satisfied: six>=1.5 in /opt/conda/lib/python3.7/site-packages (from python-dateutil>=2.7.3->pandas>=1.0; extra == \"complete\"->dask[complete]) (1.14.0)\n",
      "Collecting heapdict\n",
      "  Downloading HeapDict-1.0.1-py3-none-any.whl (3.9 kB)\n",
      "Requirement already satisfied: importlib-metadata; python_version < \"3.8\" in /opt/conda/lib/python3.7/site-packages (from click>=6.6->distributed==2022.02.0; extra == \"complete\"->dask[complete]) (1.5.0)\n",
      "Requirement already satisfied: zipp>=0.5 in /opt/conda/lib/python3.7/site-packages (from importlib-metadata; python_version < \"3.8\"->click>=6.6->distributed==2022.02.0; extra == \"complete\"->dask[complete]) (3.1.0)\n",
      "Installing collected packages: pyyaml, locket, toolz, partd, cloudpickle, packaging, msgpack, sortedcontainers, tblib, psutil, heapdict, zict, click, distributed, typing-extensions, bokeh, dask\n",
      "  Attempting uninstall: typing-extensions\n",
      "    Found existing installation: typing-extensions 3.7.4.3\n",
      "    Uninstalling typing-extensions-3.7.4.3:\n",
      "      Successfully uninstalled typing-extensions-3.7.4.3\n",
      "\u001b[31mERROR: After October 2020 you may experience errors when installing or updating packages. This is because pip will change the way that it resolves dependency conflicts.\n",
      "\n",
      "We recommend you use --use-feature=2020-resolver to test your packages with the new resolver before it becomes the default.\n",
      "\n",
      "aiobotocore 1.1.2 requires botocore<1.17.45,>=1.17.44, but you'll have botocore 1.19.1 which is incompatible.\u001b[0m\n",
      "Successfully installed bokeh-2.4.3 click-8.1.3 cloudpickle-2.2.1 dask-2022.2.0 distributed-2022.2.0 heapdict-1.0.1 locket-1.0.0 msgpack-1.0.5 packaging-23.1 partd-1.4.0 psutil-5.9.5 pyyaml-6.0 sortedcontainers-2.4.0 tblib-1.7.0 toolz-0.12.0 typing-extensions-4.6.2 zict-2.2.0\n",
      "\u001b[33mWARNING: You are using pip version 20.2.4; however, version 23.1.2 is available.\n",
      "You should consider upgrading via the '/opt/conda/bin/python3.7 -m pip install --upgrade pip' command.\u001b[0m\n"
     ]
    }
   ],
   "source": [
    "!pip install google.cloud\n",
    "!pip install google-cloud-vision\n",
    "!pip install pyarrow\n",
    "!pip install pyldavis\n",
    "!pip install dask[complete]"
   ]
  },
  {
   "cell_type": "markdown",
   "metadata": {},
   "source": [
    "# 1. Preprocessing of Data"
   ]
  },
  {
   "cell_type": "markdown",
   "metadata": {},
   "source": [
    "We first read the book_info parquet from s3 bucket. Then, we preprocess them into json and store in the S3 bucket of image-annotate-input. Uploading the json object into this bucket will trigger the lambda function of google_vision_lambda, and return the json output result in the bucket image-annotate-output."
   ]
  },
  {
   "cell_type": "code",
   "execution_count": 2,
   "metadata": {},
   "outputs": [],
   "source": [
    "import boto3\n",
    "s3 = boto3.client('s3')"
   ]
  },
  {
   "cell_type": "code",
   "execution_count": 3,
   "metadata": {},
   "outputs": [
    {
     "data": {
      "text/plain": [
       "['hleung-assignment2',\n",
       " 'hleung-assignment3',\n",
       " 'image-annotate-input',\n",
       " 'image-annotate-output']"
      ]
     },
     "execution_count": 3,
     "metadata": {},
     "output_type": "execute_result"
    }
   ],
   "source": [
    "response = s3.list_buckets()\n",
    "buckets = [bucket['Name'] for bucket in response['Buckets']]\n",
    "buckets"
   ]
  },
  {
   "cell_type": "code",
   "execution_count": 7,
   "metadata": {},
   "outputs": [],
   "source": [
    "import os\n",
    "import numpy as np\n",
    "import pandas as pd\n",
    "\n",
    "book_info = pd.read_parquet('s3://hleung-assignment3/book_info.parquet', engine = 'pyarrow')"
   ]
  },
  {
   "cell_type": "code",
   "execution_count": 8,
   "metadata": {},
   "outputs": [
    {
     "data": {
      "text/html": [
       "<div>\n",
       "<style scoped>\n",
       "    .dataframe tbody tr th:only-of-type {\n",
       "        vertical-align: middle;\n",
       "    }\n",
       "\n",
       "    .dataframe tbody tr th {\n",
       "        vertical-align: top;\n",
       "    }\n",
       "\n",
       "    .dataframe thead th {\n",
       "        text-align: right;\n",
       "    }\n",
       "</style>\n",
       "<table border=\"1\" class=\"dataframe\">\n",
       "  <thead>\n",
       "    <tr style=\"text-align: right;\">\n",
       "      <th></th>\n",
       "      <th>book_id</th>\n",
       "      <th>title</th>\n",
       "      <th>subtitle</th>\n",
       "      <th>authors</th>\n",
       "      <th>publisher</th>\n",
       "      <th>published_date</th>\n",
       "      <th>description</th>\n",
       "      <th>categories</th>\n",
       "      <th>imageLinks.smallThumbnail</th>\n",
       "      <th>imageLinks.thumbnail</th>\n",
       "    </tr>\n",
       "  </thead>\n",
       "  <tbody>\n",
       "    <tr>\n",
       "      <th>0</th>\n",
       "      <td>__W3AAAAIAAJ</td>\n",
       "      <td>Environmental Problems in Tropical Australia</td>\n",
       "      <td>Report of a Survey of Living Conditions in Tro...</td>\n",
       "      <td>Ronald Kenneth MacPherson</td>\n",
       "      <td>None</td>\n",
       "      <td>1956</td>\n",
       "      <td>None</td>\n",
       "      <td>Northern Territory</td>\n",
       "      <td>http://books.google.com/books/content?id=__W3A...</td>\n",
       "      <td>http://books.google.com/books/content?id=__W3A...</td>\n",
       "    </tr>\n",
       "    <tr>\n",
       "      <th>1</th>\n",
       "      <td>_0A4AAAAMAAJ</td>\n",
       "      <td>Bulletin</td>\n",
       "      <td>None</td>\n",
       "      <td>New York University</td>\n",
       "      <td>None</td>\n",
       "      <td>1941</td>\n",
       "      <td>None</td>\n",
       "      <td>None</td>\n",
       "      <td>http://books.google.com/books/content?id=_0A4A...</td>\n",
       "      <td>http://books.google.com/books/content?id=_0A4A...</td>\n",
       "    </tr>\n",
       "    <tr>\n",
       "      <th>2</th>\n",
       "      <td>_0qWEAAAQBAJ</td>\n",
       "      <td>Power to the Public</td>\n",
       "      <td>The Promise of Public Interest Technology</td>\n",
       "      <td>Tara Dawson McGuinness, Hana Schank</td>\n",
       "      <td>Princeton University Press</td>\n",
       "      <td>2023</td>\n",
       "      <td>“Worth a read for anyone who cares about makin...</td>\n",
       "      <td>Law</td>\n",
       "      <td>http://books.google.com/books/content?id=_0qWE...</td>\n",
       "      <td>http://books.google.com/books/content?id=_0qWE...</td>\n",
       "    </tr>\n",
       "    <tr>\n",
       "      <th>3</th>\n",
       "      <td>_0YS-Ens4CIC</td>\n",
       "      <td>The State of Working America, 2002/2003</td>\n",
       "      <td>None</td>\n",
       "      <td>Lawrence R. Mishel, Jared Bernstein, Heather B...</td>\n",
       "      <td>Cornell University Press</td>\n",
       "      <td>2003</td>\n",
       "      <td>Examines the impact of the economy on the livi...</td>\n",
       "      <td>Political Science</td>\n",
       "      <td>http://books.google.com/books/content?id=_0YS-...</td>\n",
       "      <td>http://books.google.com/books/content?id=_0YS-...</td>\n",
       "    </tr>\n",
       "    <tr>\n",
       "      <th>4</th>\n",
       "      <td>_1cjSaWKU8UC</td>\n",
       "      <td>The Girl who Played with Fire</td>\n",
       "      <td>None</td>\n",
       "      <td>Stieg Larsson</td>\n",
       "      <td>Vintage</td>\n",
       "      <td>2010</td>\n",
       "      <td>When the reporters to a sex-trafficking exposé...</td>\n",
       "      <td>Blomkvist, Mikael (Fictitious character)</td>\n",
       "      <td>http://books.google.com/books/content?id=_1cjS...</td>\n",
       "      <td>http://books.google.com/books/content?id=_1cjS...</td>\n",
       "    </tr>\n",
       "  </tbody>\n",
       "</table>\n",
       "</div>"
      ],
      "text/plain": [
       "        book_id                                         title  \\\n",
       "0  __W3AAAAIAAJ  Environmental Problems in Tropical Australia   \n",
       "1  _0A4AAAAMAAJ                                      Bulletin   \n",
       "2  _0qWEAAAQBAJ                           Power to the Public   \n",
       "3  _0YS-Ens4CIC       The State of Working America, 2002/2003   \n",
       "4  _1cjSaWKU8UC                 The Girl who Played with Fire   \n",
       "\n",
       "                                            subtitle  \\\n",
       "0  Report of a Survey of Living Conditions in Tro...   \n",
       "1                                               None   \n",
       "2          The Promise of Public Interest Technology   \n",
       "3                                               None   \n",
       "4                                               None   \n",
       "\n",
       "                                             authors  \\\n",
       "0                          Ronald Kenneth MacPherson   \n",
       "1                                New York University   \n",
       "2                Tara Dawson McGuinness, Hana Schank   \n",
       "3  Lawrence R. Mishel, Jared Bernstein, Heather B...   \n",
       "4                                      Stieg Larsson   \n",
       "\n",
       "                    publisher  published_date  \\\n",
       "0                        None            1956   \n",
       "1                        None            1941   \n",
       "2  Princeton University Press            2023   \n",
       "3    Cornell University Press            2003   \n",
       "4                     Vintage            2010   \n",
       "\n",
       "                                         description  \\\n",
       "0                                               None   \n",
       "1                                               None   \n",
       "2  “Worth a read for anyone who cares about makin...   \n",
       "3  Examines the impact of the economy on the livi...   \n",
       "4  When the reporters to a sex-trafficking exposé...   \n",
       "\n",
       "                                 categories  \\\n",
       "0                        Northern Territory   \n",
       "1                                      None   \n",
       "2                                       Law   \n",
       "3                         Political Science   \n",
       "4  Blomkvist, Mikael (Fictitious character)   \n",
       "\n",
       "                           imageLinks.smallThumbnail  \\\n",
       "0  http://books.google.com/books/content?id=__W3A...   \n",
       "1  http://books.google.com/books/content?id=_0A4A...   \n",
       "2  http://books.google.com/books/content?id=_0qWE...   \n",
       "3  http://books.google.com/books/content?id=_0YS-...   \n",
       "4  http://books.google.com/books/content?id=_1cjS...   \n",
       "\n",
       "                                imageLinks.thumbnail  \n",
       "0  http://books.google.com/books/content?id=__W3A...  \n",
       "1  http://books.google.com/books/content?id=_0A4A...  \n",
       "2  http://books.google.com/books/content?id=_0qWE...  \n",
       "3  http://books.google.com/books/content?id=_0YS-...  \n",
       "4  http://books.google.com/books/content?id=_1cjS...  "
      ]
     },
     "execution_count": 8,
     "metadata": {},
     "output_type": "execute_result"
    }
   ],
   "source": [
    "book_info.head()"
   ]
  },
  {
   "cell_type": "code",
   "execution_count": 11,
   "metadata": {},
   "outputs": [],
   "source": [
    "os.mkdir('temp_storage')"
   ]
  },
  {
   "cell_type": "code",
   "execution_count": 17,
   "metadata": {},
   "outputs": [],
   "source": [
    "import json\n",
    "\n",
    "for index, row in book_info.iterrows():\n",
    "    annotate_input = dict()\n",
    "    annotate_input['label'] = str(row['book_id'])\n",
    "    annotate_input['image_url'] = str(row['imageLinks.thumbnail'])\n",
    "\n",
    "    # Convert the dictionary to a JSON string\n",
    "    input_json = json.dumps(annotate_input)\n",
    "\n",
    "    name_json = str(row['book_id']) + '.json'\n",
    "    file_dir = os.path.join('temp_storage', name_json)\n",
    "    with open(file_dir , 'w') as file:\n",
    "        file.write(name_json)\n",
    "\n",
    "    # Upload the file to S3\n",
    "    s3.put_object(\n",
    "         Body=input_json,\n",
    "         Bucket='image-annotate-input',\n",
    "         Key=name_json\n",
    "    )"
   ]
  },
  {
   "cell_type": "code",
   "execution_count": 18,
   "metadata": {},
   "outputs": [
    {
     "data": {
      "text/plain": [
       "10941"
      ]
     },
     "execution_count": 18,
     "metadata": {},
     "output_type": "execute_result"
    }
   ],
   "source": [
    "len(book_info)"
   ]
  },
  {
   "cell_type": "markdown",
   "metadata": {},
   "source": [
    "We have 10941 jsons input in total. Now we wait for the lambda function to finish the parallelized API call."
   ]
  },
  {
   "cell_type": "code",
   "execution_count": 38,
   "metadata": {},
   "outputs": [],
   "source": [
    "list_of_output_keys = []\n",
    "for key in s3.list_objects(Bucket = 'image-annotate-output')['Contents']:\n",
    "    list_of_output_keys.append(key['Key'])"
   ]
  },
  {
   "cell_type": "code",
   "execution_count": 72,
   "metadata": {},
   "outputs": [],
   "source": [
    "annotate_results_list = []\n",
    "for Key in list_of_output_keys:\n",
    "    response = s3.get_object(Bucket='image-annotate-output', Key=Key)\n",
    "    body = response['Body'].read()\n",
    "    output_json = json.loads(body)\n",
    "    \n",
    "    annotate_results_list.append(output_json)"
   ]
  },
  {
   "cell_type": "code",
   "execution_count": 74,
   "metadata": {},
   "outputs": [
    {
     "data": {
      "text/plain": [
       "'{\"id\": \"__W3AAAAIAAJ\", \"response\": [\"Font\", \"Parallel\", \"Paper product\", \"Pattern\", \"Document\", \"Rectangle\", \"Monochrome photography\", \"Paper\", \"Monochrome\", \"Art\", \"Circle\"]}'"
      ]
     },
     "execution_count": 74,
     "metadata": {},
     "output_type": "execute_result"
    }
   ],
   "source": [
    "annotate_results_list[0]"
   ]
  },
  {
   "cell_type": "code",
   "execution_count": 75,
   "metadata": {},
   "outputs": [
    {
     "data": {
      "text/plain": [
       "10353"
      ]
     },
     "execution_count": 75,
     "metadata": {},
     "output_type": "execute_result"
    }
   ],
   "source": [
    "len(annotate_results_list)"
   ]
  },
  {
   "cell_type": "markdown",
   "metadata": {},
   "source": [
    "In result, we have 10353 book covers annotated by Google Cloud Vision API."
   ]
  },
  {
   "cell_type": "code",
   "execution_count": 84,
   "metadata": {},
   "outputs": [
    {
     "data": {
      "text/plain": [
       "{'ResponseMetadata': {'RequestId': 'WXY73EBT1YDCE4PF',\n",
       "  'HostId': '5mzkRaB6xDmKKiTlgtUXvXAZV8w4nTxI/moWZQt5b2pCzxHWctBvfpAgsIZx/BTpo1x+Ci89Pss=',\n",
       "  'HTTPStatusCode': 200,\n",
       "  'HTTPHeaders': {'x-amz-id-2': '5mzkRaB6xDmKKiTlgtUXvXAZV8w4nTxI/moWZQt5b2pCzxHWctBvfpAgsIZx/BTpo1x+Ci89Pss=',\n",
       "   'x-amz-request-id': 'WXY73EBT1YDCE4PF',\n",
       "   'date': 'Fri, 26 May 2023 01:06:40 GMT',\n",
       "   'x-amz-server-side-encryption': 'AES256',\n",
       "   'etag': '\"e7daa42e5a5a34aaf83fcf5668d1dd14\"',\n",
       "   'server': 'AmazonS3',\n",
       "   'content-length': '0'},\n",
       "  'RetryAttempts': 0},\n",
       " 'ETag': '\"e7daa42e5a5a34aaf83fcf5668d1dd14\"',\n",
       " 'ServerSideEncryption': 'AES256'}"
      ]
     },
     "execution_count": 84,
     "metadata": {},
     "output_type": "execute_result"
    }
   ],
   "source": [
    "import pickle as pkl\n",
    "\n",
    "pickle_object = pkl.dumps(annotate_results_list)\n",
    "s3.put_object(\n",
    "    Body=pickle_object,\n",
    "    Bucket='hleung-assignment3',\n",
    "    Key='annotate_results_list.pickle'\n",
    ")"
   ]
  },
  {
   "cell_type": "markdown",
   "metadata": {},
   "source": [
    "# 2. EDA of Cover Visual Elements"
   ]
  },
  {
   "cell_type": "code",
   "execution_count": 2,
   "metadata": {},
   "outputs": [],
   "source": [
    "import boto3\n",
    "import os\n",
    "import numpy as np\n",
    "import pandas as pd\n",
    "\n",
    "s3 = boto3.client('s3')\n",
    "\n",
    "book_info = pd.read_parquet('s3://hleung-assignment3/book_info.parquet', engine = 'pyarrow')"
   ]
  },
  {
   "cell_type": "code",
   "execution_count": 4,
   "metadata": {},
   "outputs": [],
   "source": [
    "import pickle as pkl\n",
    "\n",
    "response = s3.get_object(Bucket='hleung-assignment3', Key='annotate_results_list.pickle')\n",
    "body = response['Body'].read()\n",
    "annotate_results_list = pkl.loads(body)"
   ]
  },
  {
   "cell_type": "code",
   "execution_count": 10,
   "metadata": {},
   "outputs": [],
   "source": [
    "mapper = dict()\n",
    "\n",
    "for item in annotate_results_list:\n",
    "    eval_item = eval(item)\n",
    "    mapper[eval_item['id']] = eval_item['response']"
   ]
  },
  {
   "cell_type": "code",
   "execution_count": 12,
   "metadata": {},
   "outputs": [
    {
     "data": {
      "text/html": [
       "<div>\n",
       "    <div style=\"width: 24px; height: 24px; background-color: #e1e1e1; border: 3px solid #9D9D9D; border-radius: 5px; position: absolute;\"> </div>\n",
       "    <div style=\"margin-left: 48px;\">\n",
       "        <h3 style=\"margin-bottom: 0px;\">Client</h3>\n",
       "        <p style=\"color: #9D9D9D; margin-bottom: 0px;\">Client-6004601c-fb67-11ed-806e-0242ac110002</p>\n",
       "        <table style=\"width: 100%; text-align: left;\">\n",
       "\n",
       "        <tr>\n",
       "        \n",
       "            <td style=\"text-align: left;\"><strong>Connection method:</strong> Cluster object</td>\n",
       "            <td style=\"text-align: left;\"><strong>Cluster type:</strong> distributed.LocalCluster</td>\n",
       "        \n",
       "        </tr>\n",
       "\n",
       "        \n",
       "            <tr>\n",
       "                <td style=\"text-align: left;\">\n",
       "                    <strong>Dashboard: </strong> <a href=\"http://127.0.0.1:8787/status\" target=\"_blank\">http://127.0.0.1:8787/status</a>\n",
       "                </td>\n",
       "                <td style=\"text-align: left;\"></td>\n",
       "            </tr>\n",
       "        \n",
       "\n",
       "        </table>\n",
       "\n",
       "        \n",
       "            <details>\n",
       "            <summary style=\"margin-bottom: 20px;\"><h3 style=\"display: inline;\">Cluster Info</h3></summary>\n",
       "            <div class=\"jp-RenderedHTMLCommon jp-RenderedHTML jp-mod-trusted jp-OutputArea-output\">\n",
       "    <div style=\"width: 24px; height: 24px; background-color: #e1e1e1; border: 3px solid #9D9D9D; border-radius: 5px; position: absolute;\">\n",
       "    </div>\n",
       "    <div style=\"margin-left: 48px;\">\n",
       "        <h3 style=\"margin-bottom: 0px; margin-top: 0px;\">LocalCluster</h3>\n",
       "        <p style=\"color: #9D9D9D; margin-bottom: 0px;\">8b79d043</p>\n",
       "        <table style=\"width: 100%; text-align: left;\">\n",
       "            <tr>\n",
       "                <td style=\"text-align: left;\">\n",
       "                    <strong>Dashboard:</strong> <a href=\"http://127.0.0.1:8787/status\" target=\"_blank\">http://127.0.0.1:8787/status</a>\n",
       "                </td>\n",
       "                <td style=\"text-align: left;\">\n",
       "                    <strong>Workers:</strong> 4\n",
       "                </td>\n",
       "            </tr>\n",
       "            <tr>\n",
       "                <td style=\"text-align: left;\">\n",
       "                    <strong>Total threads:</strong> 4\n",
       "                </td>\n",
       "                <td style=\"text-align: left;\">\n",
       "                    <strong>Total memory:</strong> 15.21 GiB\n",
       "                </td>\n",
       "            </tr>\n",
       "            \n",
       "            <tr>\n",
       "    <td style=\"text-align: left;\"><strong>Status:</strong> running</td>\n",
       "    <td style=\"text-align: left;\"><strong>Using processes:</strong> True</td>\n",
       "</tr>\n",
       "\n",
       "            \n",
       "        </table>\n",
       "\n",
       "        <details>\n",
       "            <summary style=\"margin-bottom: 20px;\">\n",
       "                <h3 style=\"display: inline;\">Scheduler Info</h3>\n",
       "            </summary>\n",
       "\n",
       "            <div style=\"\">\n",
       "    <div>\n",
       "        <div style=\"width: 24px; height: 24px; background-color: #FFF7E5; border: 3px solid #FF6132; border-radius: 5px; position: absolute;\"> </div>\n",
       "        <div style=\"margin-left: 48px;\">\n",
       "            <h3 style=\"margin-bottom: 0px;\">Scheduler</h3>\n",
       "            <p style=\"color: #9D9D9D; margin-bottom: 0px;\">Scheduler-019aaf13-e5a1-4fec-82de-14a9865e94c4</p>\n",
       "            <table style=\"width: 100%; text-align: left;\">\n",
       "                <tr>\n",
       "                    <td style=\"text-align: left;\">\n",
       "                        <strong>Comm:</strong> tcp://127.0.0.1:38741\n",
       "                    </td>\n",
       "                    <td style=\"text-align: left;\">\n",
       "                        <strong>Workers:</strong> 4\n",
       "                    </td>\n",
       "                </tr>\n",
       "                <tr>\n",
       "                    <td style=\"text-align: left;\">\n",
       "                        <strong>Dashboard:</strong> <a href=\"http://127.0.0.1:8787/status\" target=\"_blank\">http://127.0.0.1:8787/status</a>\n",
       "                    </td>\n",
       "                    <td style=\"text-align: left;\">\n",
       "                        <strong>Total threads:</strong> 4\n",
       "                    </td>\n",
       "                </tr>\n",
       "                <tr>\n",
       "                    <td style=\"text-align: left;\">\n",
       "                        <strong>Started:</strong> Just now\n",
       "                    </td>\n",
       "                    <td style=\"text-align: left;\">\n",
       "                        <strong>Total memory:</strong> 15.21 GiB\n",
       "                    </td>\n",
       "                </tr>\n",
       "            </table>\n",
       "        </div>\n",
       "    </div>\n",
       "\n",
       "    <details style=\"margin-left: 48px;\">\n",
       "        <summary style=\"margin-bottom: 20px;\">\n",
       "            <h3 style=\"display: inline;\">Workers</h3>\n",
       "        </summary>\n",
       "\n",
       "        \n",
       "        <div style=\"margin-bottom: 20px;\">\n",
       "            <div style=\"width: 24px; height: 24px; background-color: #DBF5FF; border: 3px solid #4CC9FF; border-radius: 5px; position: absolute;\"> </div>\n",
       "            <div style=\"margin-left: 48px;\">\n",
       "            <details>\n",
       "                <summary>\n",
       "                    <h4 style=\"margin-bottom: 0px; display: inline;\">Worker: 0</h4>\n",
       "                </summary>\n",
       "                <table style=\"width: 100%; text-align: left;\">\n",
       "                    <tr>\n",
       "                        <td style=\"text-align: left;\">\n",
       "                            <strong>Comm: </strong> tcp://127.0.0.1:40621\n",
       "                        </td>\n",
       "                        <td style=\"text-align: left;\">\n",
       "                            <strong>Total threads: </strong> 1\n",
       "                        </td>\n",
       "                    </tr>\n",
       "                    <tr>\n",
       "                        <td style=\"text-align: left;\">\n",
       "                            <strong>Dashboard: </strong> <a href=\"http://127.0.0.1:35097/status\" target=\"_blank\">http://127.0.0.1:35097/status</a>\n",
       "                        </td>\n",
       "                        <td style=\"text-align: left;\">\n",
       "                            <strong>Memory: </strong> 3.80 GiB\n",
       "                        </td>\n",
       "                    </tr>\n",
       "                    <tr>\n",
       "                        <td style=\"text-align: left;\">\n",
       "                            <strong>Nanny: </strong> tcp://127.0.0.1:35921\n",
       "                        </td>\n",
       "                        <td style=\"text-align: left;\"></td>\n",
       "                    </tr>\n",
       "                    <tr>\n",
       "                        <td colspan=\"2\" style=\"text-align: left;\">\n",
       "                            <strong>Local directory: </strong> /home/jovyan/dask-worker-space/worker-wyvzqk1c\n",
       "                        </td>\n",
       "                    </tr>\n",
       "\n",
       "                    \n",
       "\n",
       "                    \n",
       "\n",
       "                </table>\n",
       "            </details>\n",
       "            </div>\n",
       "        </div>\n",
       "        \n",
       "        <div style=\"margin-bottom: 20px;\">\n",
       "            <div style=\"width: 24px; height: 24px; background-color: #DBF5FF; border: 3px solid #4CC9FF; border-radius: 5px; position: absolute;\"> </div>\n",
       "            <div style=\"margin-left: 48px;\">\n",
       "            <details>\n",
       "                <summary>\n",
       "                    <h4 style=\"margin-bottom: 0px; display: inline;\">Worker: 1</h4>\n",
       "                </summary>\n",
       "                <table style=\"width: 100%; text-align: left;\">\n",
       "                    <tr>\n",
       "                        <td style=\"text-align: left;\">\n",
       "                            <strong>Comm: </strong> tcp://127.0.0.1:38637\n",
       "                        </td>\n",
       "                        <td style=\"text-align: left;\">\n",
       "                            <strong>Total threads: </strong> 1\n",
       "                        </td>\n",
       "                    </tr>\n",
       "                    <tr>\n",
       "                        <td style=\"text-align: left;\">\n",
       "                            <strong>Dashboard: </strong> <a href=\"http://127.0.0.1:33923/status\" target=\"_blank\">http://127.0.0.1:33923/status</a>\n",
       "                        </td>\n",
       "                        <td style=\"text-align: left;\">\n",
       "                            <strong>Memory: </strong> 3.80 GiB\n",
       "                        </td>\n",
       "                    </tr>\n",
       "                    <tr>\n",
       "                        <td style=\"text-align: left;\">\n",
       "                            <strong>Nanny: </strong> tcp://127.0.0.1:38537\n",
       "                        </td>\n",
       "                        <td style=\"text-align: left;\"></td>\n",
       "                    </tr>\n",
       "                    <tr>\n",
       "                        <td colspan=\"2\" style=\"text-align: left;\">\n",
       "                            <strong>Local directory: </strong> /home/jovyan/dask-worker-space/worker-qgt8r6r3\n",
       "                        </td>\n",
       "                    </tr>\n",
       "\n",
       "                    \n",
       "\n",
       "                    \n",
       "\n",
       "                </table>\n",
       "            </details>\n",
       "            </div>\n",
       "        </div>\n",
       "        \n",
       "        <div style=\"margin-bottom: 20px;\">\n",
       "            <div style=\"width: 24px; height: 24px; background-color: #DBF5FF; border: 3px solid #4CC9FF; border-radius: 5px; position: absolute;\"> </div>\n",
       "            <div style=\"margin-left: 48px;\">\n",
       "            <details>\n",
       "                <summary>\n",
       "                    <h4 style=\"margin-bottom: 0px; display: inline;\">Worker: 2</h4>\n",
       "                </summary>\n",
       "                <table style=\"width: 100%; text-align: left;\">\n",
       "                    <tr>\n",
       "                        <td style=\"text-align: left;\">\n",
       "                            <strong>Comm: </strong> tcp://127.0.0.1:44061\n",
       "                        </td>\n",
       "                        <td style=\"text-align: left;\">\n",
       "                            <strong>Total threads: </strong> 1\n",
       "                        </td>\n",
       "                    </tr>\n",
       "                    <tr>\n",
       "                        <td style=\"text-align: left;\">\n",
       "                            <strong>Dashboard: </strong> <a href=\"http://127.0.0.1:43025/status\" target=\"_blank\">http://127.0.0.1:43025/status</a>\n",
       "                        </td>\n",
       "                        <td style=\"text-align: left;\">\n",
       "                            <strong>Memory: </strong> 3.80 GiB\n",
       "                        </td>\n",
       "                    </tr>\n",
       "                    <tr>\n",
       "                        <td style=\"text-align: left;\">\n",
       "                            <strong>Nanny: </strong> tcp://127.0.0.1:35081\n",
       "                        </td>\n",
       "                        <td style=\"text-align: left;\"></td>\n",
       "                    </tr>\n",
       "                    <tr>\n",
       "                        <td colspan=\"2\" style=\"text-align: left;\">\n",
       "                            <strong>Local directory: </strong> /home/jovyan/dask-worker-space/worker-31e2823_\n",
       "                        </td>\n",
       "                    </tr>\n",
       "\n",
       "                    \n",
       "\n",
       "                    \n",
       "\n",
       "                </table>\n",
       "            </details>\n",
       "            </div>\n",
       "        </div>\n",
       "        \n",
       "        <div style=\"margin-bottom: 20px;\">\n",
       "            <div style=\"width: 24px; height: 24px; background-color: #DBF5FF; border: 3px solid #4CC9FF; border-radius: 5px; position: absolute;\"> </div>\n",
       "            <div style=\"margin-left: 48px;\">\n",
       "            <details>\n",
       "                <summary>\n",
       "                    <h4 style=\"margin-bottom: 0px; display: inline;\">Worker: 3</h4>\n",
       "                </summary>\n",
       "                <table style=\"width: 100%; text-align: left;\">\n",
       "                    <tr>\n",
       "                        <td style=\"text-align: left;\">\n",
       "                            <strong>Comm: </strong> tcp://127.0.0.1:41077\n",
       "                        </td>\n",
       "                        <td style=\"text-align: left;\">\n",
       "                            <strong>Total threads: </strong> 1\n",
       "                        </td>\n",
       "                    </tr>\n",
       "                    <tr>\n",
       "                        <td style=\"text-align: left;\">\n",
       "                            <strong>Dashboard: </strong> <a href=\"http://127.0.0.1:35149/status\" target=\"_blank\">http://127.0.0.1:35149/status</a>\n",
       "                        </td>\n",
       "                        <td style=\"text-align: left;\">\n",
       "                            <strong>Memory: </strong> 3.80 GiB\n",
       "                        </td>\n",
       "                    </tr>\n",
       "                    <tr>\n",
       "                        <td style=\"text-align: left;\">\n",
       "                            <strong>Nanny: </strong> tcp://127.0.0.1:37675\n",
       "                        </td>\n",
       "                        <td style=\"text-align: left;\"></td>\n",
       "                    </tr>\n",
       "                    <tr>\n",
       "                        <td colspan=\"2\" style=\"text-align: left;\">\n",
       "                            <strong>Local directory: </strong> /home/jovyan/dask-worker-space/worker-xr2no9vu\n",
       "                        </td>\n",
       "                    </tr>\n",
       "\n",
       "                    \n",
       "\n",
       "                    \n",
       "\n",
       "                </table>\n",
       "            </details>\n",
       "            </div>\n",
       "        </div>\n",
       "        \n",
       "\n",
       "    </details>\n",
       "</div>\n",
       "\n",
       "        </details>\n",
       "    </div>\n",
       "</div>\n",
       "            </details>\n",
       "        \n",
       "\n",
       "    </div>\n",
       "</div>"
      ],
      "text/plain": [
       "<Client: 'tcp://127.0.0.1:38741' processes=4 threads=4, memory=15.21 GiB>"
      ]
     },
     "execution_count": 12,
     "metadata": {},
     "output_type": "execute_result"
    }
   ],
   "source": [
    "import dask\n",
    "from dask.distributed import Client\n",
    "\n",
    "dask_client = Client()\n",
    "dask_client"
   ]
  },
  {
   "cell_type": "code",
   "execution_count": 13,
   "metadata": {},
   "outputs": [
    {
     "data": {
      "text/plain": [
       "Index(['book_id', 'title', 'subtitle', 'authors', 'publisher',\n",
       "       'published_date', 'description', 'categories',\n",
       "       'imageLinks.smallThumbnail', 'imageLinks.thumbnail'],\n",
       "      dtype='object')"
      ]
     },
     "execution_count": 13,
     "metadata": {},
     "output_type": "execute_result"
    }
   ],
   "source": [
    "book_info.columns"
   ]
  },
  {
   "cell_type": "markdown",
   "metadata": {},
   "source": [
    "Now we map the annotated result list to the original dataframe. We parallelize such operation in Dask."
   ]
  },
  {
   "cell_type": "code",
   "execution_count": 54,
   "metadata": {},
   "outputs": [],
   "source": [
    "import dask.dataframe as dd\n",
    "\n",
    "def map_to_content(ids):\n",
    "    return ids.apply(lambda id_val: mapper.get(id_val))\n",
    "\n",
    "# Convert Pandas Dataframe into Dask dataframe\n",
    "book_dask = dd.from_pandas(book_info, npartitions = 4)\n",
    "book_dask['cover_items'] = book_dask['book_id'].map_partitions(map_to_content, meta=('cover_items', 'object'))\n",
    "book_dask = book_dask.compute()"
   ]
  },
  {
   "cell_type": "code",
   "execution_count": 57,
   "metadata": {},
   "outputs": [],
   "source": [
    "book_dask = book_dask.dropna(subset = ['cover_items'])\n",
    "cover_items_list = book_dask['cover_items']"
   ]
  },
  {
   "cell_type": "code",
   "execution_count": 84,
   "metadata": {},
   "outputs": [
    {
     "data": {
      "text/plain": [
       "Font             10314\n",
       "Rectangle         5876\n",
       "Paper product     4655\n",
       "Advertising       4573\n",
       "Publication       4449\n",
       "Brand             4313\n",
       "Circle            4180\n",
       "Paper             4045\n",
       "Logo              3571\n",
       "Pattern           3478\n",
       "Electric blue     3246\n",
       "Document          3205\n",
       "Art               3161\n",
       "Book              2762\n",
       "Book cover        2725\n",
       "Magenta           2673\n",
       "Event             2622\n",
       "Parallel          2492\n",
       "Number            2391\n",
       "Graphics          1864\n",
       "dtype: int64"
      ]
     },
     "execution_count": 84,
     "metadata": {},
     "output_type": "execute_result"
    }
   ],
   "source": [
    "words_list = [word for sublist in book_dask['cover_items'] for word in sublist]\n",
    "word_counts = pd.Series(words_list).value_counts()\n",
    "top_20_words = word_counts.head(20)\n",
    "top_20_words"
   ]
  },
  {
   "cell_type": "code",
   "execution_count": 86,
   "metadata": {},
   "outputs": [
    {
     "data": {
      "image/png": "[encoded data removed]",
      "text/plain": [
       "<Figure size 720x432 with 1 Axes>"
      ]
     },
     "metadata": {
      "needs_background": "light"
     },
     "output_type": "display_data"
    }
   ],
   "source": [
    "import matplotlib.pyplot as plt\n",
    "\n",
    "plt.figure(figsize=(10, 6))\n",
    "plt.bar(top_20_words.index, top_20_words.values)\n",
    "plt.xlabel('Words')\n",
    "plt.ylabel('Frequency')\n",
    "plt.title('Top 20 Words and Their Frequencies')\n",
    "plt.xticks(rotation=45)\n",
    "plt.tight_layout()\n",
    "plt.show()"
   ]
  },
  {
   "cell_type": "markdown",
   "metadata": {},
   "source": [
    "# 3. Provide an LDA Analysis with Cover Elements"
   ]
  },
  {
   "cell_type": "markdown",
   "metadata": {},
   "source": [
    "We can use Latent Dirichlet Analysis (LDA) to give an analysis of the patterns of cover design. Here, we treat the visual elements as \"tokens\" of \"documents\", and deploy this method of text analysis. Here, clusters of \"documents\" can be interpreted as clusters of patterns. For parallelization, I use the multicore version of LDA in gensim to finish the training"
   ]
  },
  {
   "cell_type": "code",
   "execution_count": 87,
   "metadata": {},
   "outputs": [
    {
     "name": "stderr",
     "output_type": "stream",
     "text": [
      "/opt/conda/lib/python3.7/site-packages/sklearn/linear_model/_least_angle.py:34: DeprecationWarning: `np.float` is a deprecated alias for the builtin `float`. To silence this warning, use `float` by itself. Doing this will not modify any behavior and is safe. If you specifically wanted the numpy scalar type, use `np.float64` here.\n",
      "Deprecated in NumPy 1.20; for more details and guidance: https://numpy.org/devdocs/release/1.20.0-notes.html#deprecations\n",
      "  method='lar', copy_X=True, eps=np.finfo(np.float).eps,\n",
      "/opt/conda/lib/python3.7/site-packages/sklearn/linear_model/_least_angle.py:164: DeprecationWarning: `np.float` is a deprecated alias for the builtin `float`. To silence this warning, use `float` by itself. Doing this will not modify any behavior and is safe. If you specifically wanted the numpy scalar type, use `np.float64` here.\n",
      "Deprecated in NumPy 1.20; for more details and guidance: https://numpy.org/devdocs/release/1.20.0-notes.html#deprecations\n",
      "  method='lar', copy_X=True, eps=np.finfo(np.float).eps,\n",
      "/opt/conda/lib/python3.7/site-packages/sklearn/linear_model/_least_angle.py:281: DeprecationWarning: `np.float` is a deprecated alias for the builtin `float`. To silence this warning, use `float` by itself. Doing this will not modify any behavior and is safe. If you specifically wanted the numpy scalar type, use `np.float64` here.\n",
      "Deprecated in NumPy 1.20; for more details and guidance: https://numpy.org/devdocs/release/1.20.0-notes.html#deprecations\n",
      "  eps=np.finfo(np.float).eps, copy_Gram=True, verbose=0,\n",
      "/opt/conda/lib/python3.7/site-packages/sklearn/linear_model/_least_angle.py:865: DeprecationWarning: `np.float` is a deprecated alias for the builtin `float`. To silence this warning, use `float` by itself. Doing this will not modify any behavior and is safe. If you specifically wanted the numpy scalar type, use `np.float64` here.\n",
      "Deprecated in NumPy 1.20; for more details and guidance: https://numpy.org/devdocs/release/1.20.0-notes.html#deprecations\n",
      "  eps=np.finfo(np.float).eps, copy_X=True, fit_path=True,\n",
      "/opt/conda/lib/python3.7/site-packages/sklearn/linear_model/_least_angle.py:1121: DeprecationWarning: `np.float` is a deprecated alias for the builtin `float`. To silence this warning, use `float` by itself. Doing this will not modify any behavior and is safe. If you specifically wanted the numpy scalar type, use `np.float64` here.\n",
      "Deprecated in NumPy 1.20; for more details and guidance: https://numpy.org/devdocs/release/1.20.0-notes.html#deprecations\n",
      "  eps=np.finfo(np.float).eps, copy_X=True, fit_path=True,\n",
      "/opt/conda/lib/python3.7/site-packages/sklearn/linear_model/_least_angle.py:1149: DeprecationWarning: `np.float` is a deprecated alias for the builtin `float`. To silence this warning, use `float` by itself. Doing this will not modify any behavior and is safe. If you specifically wanted the numpy scalar type, use `np.float64` here.\n",
      "Deprecated in NumPy 1.20; for more details and guidance: https://numpy.org/devdocs/release/1.20.0-notes.html#deprecations\n",
      "  eps=np.finfo(np.float).eps, positive=False):\n",
      "/opt/conda/lib/python3.7/site-packages/sklearn/linear_model/_least_angle.py:1379: DeprecationWarning: `np.float` is a deprecated alias for the builtin `float`. To silence this warning, use `float` by itself. Doing this will not modify any behavior and is safe. If you specifically wanted the numpy scalar type, use `np.float64` here.\n",
      "Deprecated in NumPy 1.20; for more details and guidance: https://numpy.org/devdocs/release/1.20.0-notes.html#deprecations\n",
      "  max_n_alphas=1000, n_jobs=None, eps=np.finfo(np.float).eps,\n",
      "/opt/conda/lib/python3.7/site-packages/sklearn/linear_model/_least_angle.py:1621: DeprecationWarning: `np.float` is a deprecated alias for the builtin `float`. To silence this warning, use `float` by itself. Doing this will not modify any behavior and is safe. If you specifically wanted the numpy scalar type, use `np.float64` here.\n",
      "Deprecated in NumPy 1.20; for more details and guidance: https://numpy.org/devdocs/release/1.20.0-notes.html#deprecations\n",
      "  max_n_alphas=1000, n_jobs=None, eps=np.finfo(np.float).eps,\n",
      "/opt/conda/lib/python3.7/site-packages/sklearn/linear_model/_least_angle.py:1755: DeprecationWarning: `np.float` is a deprecated alias for the builtin `float`. To silence this warning, use `float` by itself. Doing this will not modify any behavior and is safe. If you specifically wanted the numpy scalar type, use `np.float64` here.\n",
      "Deprecated in NumPy 1.20; for more details and guidance: https://numpy.org/devdocs/release/1.20.0-notes.html#deprecations\n",
      "  eps=np.finfo(np.float).eps, copy_X=True, positive=False):\n",
      "/opt/conda/lib/python3.7/site-packages/sklearn/decomposition/_lda.py:28: DeprecationWarning: `np.float` is a deprecated alias for the builtin `float`. To silence this warning, use `float` by itself. Doing this will not modify any behavior and is safe. If you specifically wanted the numpy scalar type, use `np.float64` here.\n",
      "Deprecated in NumPy 1.20; for more details and guidance: https://numpy.org/devdocs/release/1.20.0-notes.html#deprecations\n",
      "  EPS = np.finfo(np.float).eps\n"
     ]
    }
   ],
   "source": [
    "from gensim import corpora, models\n",
    "import pyLDAvis\n",
    "import pyLDAvis.gensim_models"
   ]
  },
  {
   "cell_type": "code",
   "execution_count": 95,
   "metadata": {},
   "outputs": [
    {
     "name": "stderr",
     "output_type": "stream",
     "text": [
      "/opt/conda/lib/python3.7/site-packages/ipykernel/ipkernel.py:287: DeprecationWarning: `should_run_async` will not call `transform_cell` automatically in the future. Please pass the result to `transformed_cell` argument and any exception that happen during thetransform in `preprocessing_exc_tuple` in IPython 7.17 and above.\n",
      "  and should_run_async(code)\n"
     ]
    }
   ],
   "source": [
    "dictionary = corpora.Dictionary(cover_items_list)\n",
    "dictionary.filter_extremes(no_below=2, no_above=0.8)\n",
    "bow_corpus = [dictionary.doc2bow(text) for text in cover_items_list]"
   ]
  },
  {
   "cell_type": "code",
   "execution_count": 96,
   "metadata": {},
   "outputs": [
    {
     "name": "stderr",
     "output_type": "stream",
     "text": [
      "/opt/conda/lib/python3.7/site-packages/ipykernel/ipkernel.py:287: DeprecationWarning: `should_run_async` will not call `transform_cell` automatically in the future. Please pass the result to `transformed_cell` argument and any exception that happen during thetransform in `preprocessing_exc_tuple` in IPython 7.17 and above.\n",
      "  and should_run_async(code)\n"
     ]
    }
   ],
   "source": [
    "ldamodel = models.ldamulticore.LdaMulticore(bow_corpus, num_topics=10, id2word=dictionary, workers=4, passes=20,\n",
    "                                            iterations=200)\n",
    "# ldamodel.save('lda' + str(tpcnum) + 'p20_i400new.model')\n",
    "# ldamodel = models.ldamodel.LdaModel.load('lda' + str(tpcnum) + 'p20_i400new.model')"
   ]
  },
  {
   "cell_type": "code",
   "execution_count": 97,
   "metadata": {},
   "outputs": [
    {
     "name": "stderr",
     "output_type": "stream",
     "text": [
      "/opt/conda/lib/python3.7/site-packages/ipykernel/ipkernel.py:287: DeprecationWarning: `should_run_async` will not call `transform_cell` automatically in the future. Please pass the result to `transformed_cell` argument and any exception that happen during thetransform in `preprocessing_exc_tuple` in IPython 7.17 and above.\n",
      "  and should_run_async(code)\n"
     ]
    },
    {
     "data": {
      "text/plain": [
       "[(0,\n",
       "  '0.065*\"Brand\" + 0.063*\"Electric blue\" + 0.060*\"Logo\" + 0.052*\"Rectangle\" + 0.049*\"Advertising\" + 0.044*\"Graphics\" + 0.037*\"Magenta\" + 0.036*\"Graphic design\" + 0.035*\"Pattern\" + 0.035*\"Circle\" + 0.031*\"Signage\" + 0.030*\"Publication\" + 0.020*\"Event\" + 0.019*\"Display device\" + 0.019*\"Multimedia\" + 0.017*\"Screenshot\" + 0.016*\"Book cover\" + 0.016*\"Banner\" + 0.015*\"Book\" + 0.014*\"Darkness\"'),\n",
       " (1,\n",
       "  '0.101*\"Monochrome photography\" + 0.087*\"Monochrome\" + 0.080*\"Paper\" + 0.078*\"Paper product\" + 0.063*\"Document\" + 0.060*\"Rectangle\" + 0.051*\"Circle\" + 0.049*\"Pattern\" + 0.047*\"Parallel\" + 0.026*\"Art\" + 0.024*\"Publication\" + 0.023*\"Number\" + 0.021*\"Newspaper\" + 0.016*\"Symmetry\" + 0.016*\"Drawing\" + 0.012*\"Material property\" + 0.011*\"Handwriting\" + 0.011*\"Illustration\" + 0.010*\"Diagram\" + 0.009*\"Event\"'),\n",
       " (2,\n",
       "  '0.110*\"Paper product\" + 0.101*\"Rectangle\" + 0.099*\"Paper\" + 0.092*\"Document\" + 0.074*\"Circle\" + 0.073*\"Brand\" + 0.072*\"Parallel\" + 0.068*\"Number\" + 0.044*\"Logo\" + 0.043*\"Magenta\" + 0.030*\"Screenshot\" + 0.027*\"Pattern\" + 0.024*\"Handwriting\" + 0.020*\"Electric blue\" + 0.016*\"Slope\" + 0.015*\"Eyelash\" + 0.010*\"Event\" + 0.009*\"Art\" + 0.008*\"Publication\" + 0.007*\"Monochrome\"'),\n",
       " (3,\n",
       "  '0.061*\"Art\" + 0.060*\"Publication\" + 0.059*\"Advertising\" + 0.057*\"Book cover\" + 0.054*\"Illustration\" + 0.047*\"Book\" + 0.040*\"Poster\" + 0.039*\"Fiction\" + 0.036*\"Event\" + 0.030*\"Photo caption\" + 0.026*\"Graphic design\" + 0.026*\"Fictional character\" + 0.026*\"Movie\" + 0.024*\"Visual arts\" + 0.024*\"History\" + 0.020*\"Pattern\" + 0.018*\"Electric blue\" + 0.015*\"Graphics\" + 0.015*\"Darkness\" + 0.012*\"Circle\"'),\n",
       " (4,\n",
       "  '0.053*\"Sky\" + 0.044*\"Landscape\" + 0.037*\"Water\" + 0.037*\"Horizon\" + 0.035*\"Ocean\" + 0.027*\"Advertising\" + 0.026*\"World\" + 0.025*\"Book cover\" + 0.025*\"Natural landscape\" + 0.024*\"Cloud\" + 0.021*\"Publication\" + 0.020*\"Travel\" + 0.015*\"Book\" + 0.015*\"Electric blue\" + 0.014*\"Cumulus\" + 0.013*\"Photo caption\" + 0.012*\"Azure\" + 0.011*\"Happy\" + 0.011*\"Liquid\" + 0.010*\"Event\"'),\n",
       " (5,\n",
       "  '0.042*\"Art\" + 0.039*\"History\" + 0.038*\"Building\" + 0.032*\"Facade\" + 0.024*\"Plant\" + 0.024*\"Paper product\" + 0.024*\"City\" + 0.022*\"Visual arts\" + 0.017*\"Landscape\" + 0.016*\"Event\" + 0.015*\"Tree\" + 0.015*\"Room\" + 0.015*\"Historic site\" + 0.014*\"Rectangle\" + 0.014*\"Pattern\" + 0.014*\"Wood\" + 0.014*\"Arch\" + 0.014*\"Illustration\" + 0.014*\"Holy places\" + 0.014*\"Metal\"'),\n",
       " (6,\n",
       "  '0.041*\"Fashion accessory\" + 0.038*\"Liquid\" + 0.037*\"Drink\" + 0.035*\"Eyelash\" + 0.026*\"Advertising\" + 0.025*\"Publication\" + 0.023*\"Liqueur\" + 0.021*\"Circle\" + 0.020*\"Jewellery\" + 0.019*\"Eyebrow\" + 0.018*\"Eyewear\" + 0.017*\"Jaw\" + 0.016*\"Metal\" + 0.015*\"Fluid\" + 0.014*\"Glass\" + 0.012*\"Logo\" + 0.012*\"Macro photography\" + 0.012*\"Chin\" + 0.012*\"Facial hair\" + 0.012*\"Bottle\"'),\n",
       " (7,\n",
       "  '0.052*\"Photo caption\" + 0.045*\"Advertising\" + 0.038*\"Event\" + 0.030*\"Happy\" + 0.029*\"News\" + 0.022*\"Gesture\" + 0.021*\"Fun\" + 0.019*\"Publication\" + 0.018*\"T-shirt\" + 0.017*\"Formal wear\" + 0.017*\"Art\" + 0.017*\"Smile\" + 0.015*\"Recreation\" + 0.015*\"Sleeve\" + 0.015*\"Leisure\" + 0.014*\"Suit\" + 0.013*\"Thigh\" + 0.012*\"History\" + 0.012*\"Hat\" + 0.012*\"Thumb\"'),\n",
       " (8,\n",
       "  '0.081*\"Publication\" + 0.078*\"Book\" + 0.052*\"Rectangle\" + 0.047*\"Book cover\" + 0.044*\"Wood\" + 0.042*\"Advertising\" + 0.042*\"Metal\" + 0.037*\"Paper product\" + 0.035*\"Paper\" + 0.035*\"Pattern\" + 0.031*\"History\" + 0.022*\"Art\" + 0.020*\"Automotive exterior\" + 0.019*\"Motor vehicle\" + 0.017*\"Electric blue\" + 0.014*\"Automotive tire\" + 0.013*\"Event\" + 0.013*\"Flooring\" + 0.012*\"Brown\" + 0.012*\"Auto part\"'),\n",
       " (9,\n",
       "  '0.043*\"Grass\" + 0.036*\"Landscape\" + 0.034*\"Soil\" + 0.031*\"Plant\" + 0.030*\"Advertising\" + 0.024*\"Terrestrial plant\" + 0.021*\"Tree\" + 0.020*\"Natural landscape\" + 0.018*\"Asphalt\" + 0.016*\"Urban design\" + 0.016*\"Recipe\" + 0.016*\"Grassland\" + 0.014*\"Road\" + 0.014*\"Travel\" + 0.013*\"Photo caption\" + 0.013*\"Signage\" + 0.012*\"Transport\" + 0.011*\"Wildlife\" + 0.011*\"Ingredient\" + 0.011*\"City\"')]"
      ]
     },
     "execution_count": 97,
     "metadata": {},
     "output_type": "execute_result"
    }
   ],
   "source": [
    "ldamodel.print_topics(num_words=20)"
   ]
  },
  {
   "cell_type": "code",
   "execution_count": 98,
   "metadata": {},
   "outputs": [
    {
     "name": "stderr",
     "output_type": "stream",
     "text": [
      "/opt/conda/lib/python3.7/site-packages/ipykernel/ipkernel.py:287: DeprecationWarning: `should_run_async` will not call `transform_cell` automatically in the future. Please pass the result to `transformed_cell` argument and any exception that happen during thetransform in `preprocessing_exc_tuple` in IPython 7.17 and above.\n",
      "  and should_run_async(code)\n",
      "/opt/conda/lib/python3.7/site-packages/pyLDAvis/_prepare.py:247: FutureWarning: In a future version of pandas all arguments of DataFrame.drop except for the argument 'labels' will be keyword-only\n",
      "  by='saliency', ascending=False).head(R).drop('saliency', 1)\n"
     ]
    },
    {
     "data": {
      "text/html": [
       "\n",
       "<link rel=\"stylesheet\" type=\"text/css\" href=\"https://cdn.jsdelivr.net/gh/bmabey/pyLDAvis@3.3.1/pyLDAvis/js/ldavis.v1.0.0.css\">\n",
       "\n",
       "\n",
       "<div id=\"ldavis_el1101404896749483046115468445\"></div>\n",
       "<script type=\"text/javascript\">\n",
       "\n",
       "var ldavis_el1101404896749483046115468445_data = {\"mdsDat\": {\"x\": [-0.0869029258995811, -0.33540155587641063, 0.06919696754560037, 0.24390407781221185, -0.06722996492216111, 0.19088940452525666, -0.2920802826826794, 0.13330115647592053, 0.11478307007350613, 0.029540052948336035], \"y\": [0.05750951161437591, -0.05786234419963992, 0.1152601455949849, -0.193358467222614, -0.004937431089538399, -0.053050456459273976, -0.09379695808348419, 0.16165813214107555, -0.1923973955352596, 0.2609752632393727], \"topics\": [1, 2, 3, 4, 5, 6, 7, 8, 9, 10], \"cluster\": [1, 1, 1, 1, 1, 1, 1, 1, 1, 1], \"Freq\": [19.92371776516574, 17.750095502902433, 15.2009375052002, 7.991455099029301, 7.968382832867194, 7.102810322271402, 6.998839793645628, 6.473816594898772, 6.232938447815054, 4.357006136204276]}, \"tinfo\": {\"Term\": [\"Paper\", \"Document\", \"Paper product\", \"Parallel\", \"Monochrome photography\", \"Rectangle\", \"Number\", \"Monochrome\", \"Book\", \"Book cover\", \"Brand\", \"Circle\", \"Advertising\", \"Graphic design\", \"Photo caption\", \"Landscape\", \"Sky\", \"Fiction\", \"Publication\", \"Illustration\", \"History\", \"Art\", \"Metal\", \"Graphics\", \"Wood\", \"Eyelash\", \"Grass\", \"Pattern\", \"Visual arts\", \"Plant\", \"Electronic device\", \"Communication Device\", \"Portable communications device\", \"Violet\", \"Gadget\", \"Output device\", \"Mobile device\", \"Electronic signage\", \"Colorfulness\", \"Neon\", \"Multimedia\", \"Electronics\", \"Purple\", \"Electronic instrument\", \"Retail\", \"Visual effect lighting\", \"Technology\", \"Flat panel display\", \"Floor\", \"Neon sign\", \"Shelf\", \"Laptop part\", \"Accessory fruit\", \"Laptop\", \"Citrus\", \"Headlamp\", \"Temperature\", \"Trademark\", \"Cellular network\", \"Wax\", \"Display device\", \"Sign\", \"Label\", \"Signage\", \"Orange\", \"Graphics\", \"Banner\", \"Graphic design\", \"Electric blue\", \"Gas\", \"Square\", \"Audio equipment\", \"Carmine\", \"Logo\", \"Brand\", \"Software\", \"Magenta\", \"Symbol\", \"Aqua\", \"Darkness\", \"Advertising\", \"Rectangle\", \"Pattern\", \"Circle\", \"Screenshot\", \"Publication\", \"Event\", \"Product\", \"Material property\", \"Book cover\", \"Book\", \"Art\", \"Number\", \"Symmetry\", \"Letter\", \"Coin\", \"Computer icon\", \"Electronics accessory\", \"Boating\", \"Motorsport\", \"Race car\", \"Water sport\", \"Open-wheel car\", \"Parallel\", \"Document\", \"Number\", \"Handwriting\", \"Auto racing\", \"Formula racing\", \"Indycar series\", \"Race track\", \"Sport utility vehicle\", \"Vintage car\", \"Vehicle registration plate\", \"Hardtop\", \"Slope\", \"Major appliance\", \"Wire fencing\", \"Sports car\", \"Software engineering\", \"Paper\", \"Web page\", \"Paper product\", \"Chain-link fencing\", \"Transparency\", \"Screenshot\", \"Eyelash\", \"Circle\", \"Rectangle\", \"Brand\", \"Magenta\", \"Diagram\", \"Logo\", \"Pattern\", \"Writing\", \"Eyewear\", \"Electric blue\", \"Monochrome\", \"Material property\", \"Symmetry\", \"Software\", \"Event\", \"Art\", \"Graphics\", \"Triangle\", \"Publication\", \"Animated cartoon\", \"Comic book\", \"Planet\", \"Hero\", \"Cg artwork\", \"Blazer\", \"Cartoon\", \"Action figure\", \"Outerwear\", \"Fictional character\", \"Fiction\", \"Action film\", \"Supernatural creature\", \"Romance\", \"Comics\", \"Outer space\", \"Video game software\", \"Pc game\", \"Necklace\", \"Toy block\", \"Woven fabric\", \"Heart\", \"Earth\", \"Vintage advertisement\", \"Costume\", \"Science book\", \"Bridle\", \"Horse supplies\", \"Clip art\", \"Astronomy\", \"Movie\", \"Modern art\", \"Animation\", \"Toy\", \"Horse\", \"Illustration\", \"Universe\", \"Visual arts\", \"Poster\", \"Painting\", \"Vintage clothing\", \"Magazine\", \"Book cover\", \"Art\", \"Mythology\", \"Book\", \"Organism\", \"Photo caption\", \"Musical instrument\", \"Entertainment\", \"Publication\", \"Advertising\", \"Graphic design\", \"History\", \"Event\", \"Science\", \"Darkness\", \"Happy\", \"Drawing\", \"Sleeve\", \"World\", \"Pattern\", \"Graphics\", \"Electric blue\", \"Circle\", \"Logo\", \"Magenta\", \"Road\", \"Prairie\", \"Superfood\", \"Dish\", \"Steppe\", \"Condominium\", \"Forest\", \"Hill\", \"Vegetable\", \"Produce\", \"Pasture\", \"Sweetness\", \"Grassland\", \"Comfort food\", \"Street\", \"Food group\", \"Apartment\", \"Vegetation\", \"Cityscape\", \"Commercial building\", \"Mixed-use\", \"Vegan nutrition\", \"Plain\", \"Finger food\", \"Local food\", \"Real estate\", \"Field\", \"Nature reserve\", \"Suburb\", \"Rainforest\", \"Biome\", \"Cuisine\", \"Natural foods\", \"Jungle\", \"Road surface\", \"Wetland\", \"Food\", \"Tower block\", \"Terrestrial plant\", \"Grass\", \"Fruit\", \"Asphalt\", \"Recipe\", \"Soil\", \"Ingredient\", \"Ecoregion\", \"Plant\", \"Tree\", \"Urban design\", \"Landscape\", \"Natural landscape\", \"Wildlife\", \"Tourism\", \"Adaptation\", \"Transport\", \"Rock\", \"Travel\", \"Advertising\", \"City\", \"Signage\", \"Photo caption\", \"Sky\", \"Water\", \"World\", \"Publication\", \"Wood stain\", \"Windshield\", \"Hood\", \"Family car\", \"Luxury vehicle\", \"Mid-size car\", \"Natural material\", \"Hardwood\", \"Car\", \"Plywood\", \"Personal luxury car\", \"Windscreen wiper\", \"Classic car\", \"Vehicle door\", \"Bookcase\", \"Tin\", \"Typesetting\", \"Compact car\", \"Automotive parking light\", \"Varnish\", \"Full-size car\", \"Kit car\", \"Tank\", \"City car\", \"Computer accessory\", \"Automotive window part\", \"Meal\", \"Trigger\", \"Dairy\", \"Sedan\", \"Automotive design\", \"Motor vehicle\", \"Brown\", \"Bumper\", \"Auto part\", \"Commemorative plaque\", \"Composite material\", \"Wood\", \"Vehicle\", \"Automotive exterior\", \"Rim\", \"Metal\", \"Tire\", \"Automotive tire\", \"Book\", \"Automotive wheel system\", \"Flooring\", \"Publication\", \"Tints and shades\", \"Automotive lighting\", \"Book cover\", \"History\", \"Rectangle\", \"Advertising\", \"Pattern\", \"Paper\", \"Paper product\", \"Art\", \"Peach\", \"Electric blue\", \"Event\", \"Material property\", \"Signage\", \"Magenta\", \"Carmine\", \"Ocean\", \"Evening\", \"Wave\", \"Wind wave\", \"Sea\", \"Atmosphere\", \"Sunrise\", \"Sunset\", \"Dusk\", \"Fin\", \"Calm\", \"Atmospheric phenomenon\", \"Meteorological phenomenon\", \"String instrument\", \"Coast\", \"Tail\", \"Seabird\", \"Island\", \"Red sky at morning\", \"Afterglow\", \"String instrument accessory\", \"Sound\", \"Marine biology\", \"Fog\", \"Aerospace engineering\", \"Marine mammal\", \"Haze\", \"Pet supply\", \"Plucked string instruments\", \"Fence\", \"Air travel\", \"Horizon\", \"Lake\", \"Cumulus\", \"Wind\", \"Cloud\", \"Lake district\", \"Aviation\", \"Water\", \"Sky\", \"Heat\", \"Aircraft\", \"Beak\", \"Natural landscape\", \"Landscape\", \"Wing\", \"World\", \"Travel\", \"Azure\", \"Aqua\", \"Night\", \"Blue\", \"Liquid\", \"Book cover\", \"Advertising\", \"Terrestrial animal\", \"Wildlife\", \"Happy\", \"Publication\", \"Photo caption\", \"Book\", \"Science\", \"Electric blue\", \"Darkness\", \"Event\", \"Logo\", \"Brand\", \"Monochrome photography\", \"Line art\", \"Artwork\", \"Newsprint\", \"Menu\", \"Currency\", \"Stationery\", \"Grey\", \"Money\", \"Schematic\", \"Fashion model\", \"Cocktail dress\", \"Ammunition\", \"Photo shoot\", \"Banknote\", \"Animal figure\", \"Ring binder\", \"Haute couture\", \"Technical drawing\", \"Wedding dress\", \"Pen\", \"Cash\", \"Carbon\", \"Money handling\", \"Newspaper\", \"Costume design\", \"Sketch pad\", \"Day dress\", \"Embellishment\", \"Handrail\", \"Monochrome\", \"Stairs\", \"Sketch\", \"Plan\", \"Calligraphy\", \"Ink\", \"Drawing\", \"Writing implement\", \"Writing\", \"Paper\", \"Document\", \"Diagram\", \"Paper product\", \"Parallel\", \"Symmetry\", \"Pattern\", \"Circle\", \"Rectangle\", \"Material property\", \"Symbol\", \"Triangle\", \"Number\", \"Art\", \"Handwriting\", \"Publication\", \"Office supplies\", \"Eyelash\", \"Slope\", \"Music\", \"Illustration\", \"Event\", \"Fashion accessory\", \"Building\", \"Fun\", \"Smile\", \"Competition event\", \"Job\", \"Sharing\", \"Team\", \"Knee\", \"Human leg\", \"Waist\", \"Shorts\", \"Abdomen\", \"Snapshot\", \"Conversation\", \"Fan\", \"Photograph\", \"Toddler\", \"Finger\", \"Play\", \"Wrist\", \"Thumb\", \"Elbow\", \"Leg\", \"Audience\", \"Organ\", \"Cool\", \"Community\", \"Sitting\", \"Black hair\", \"Collage\", \"Baby\", \"Thigh\", \"White-collar worker\", \"Suit\", \"Child\", \"Public event\", \"People\", \"Photography\", \"Uniform\", \"T-shirt\", \"Gesture\", \"Crowd\", \"Formal wear\", \"News\", \"Leisure\", \"Hat\", \"Photo caption\", \"Happy\", \"Tie\", \"Facial expression\", \"Event\", \"Recreation\", \"Sleeve\", \"Advertising\", \"Media\", \"Room\", \"Product\", \"Publication\", \"Art\", \"History\", \"Travel\", \"Pattern\", \"Entertainment\", \"Holy places\", \"Monument\", \"Medieval architecture\", \"Flowering plant\", \"Flower\", \"Place of worship\", \"Sculpture\", \"Arch\", \"Statue\", \"Classical architecture\", \"Dome\", \"Wildflower\", \"Grass family\", \"Ancient history\", \"Unesco world heritage site\", \"Boat\", \"Floral design\", \"Arthropod\", \"National historic landmark\", \"Rose\", \"Carving\", \"Cable\", \"Column\", \"Temple\", \"Conifer\", \"Pollinator\", \"Grave\", \"Wonders of the world\", \"Moths and butterflies\", \"Floristry\", \"Historic site\", \"Facade\", \"House\", \"Brickwork\", \"Building\", \"Window\", \"City\", \"Annual plant\", \"Brick\", \"Twig\", \"Petal\", \"Tourist attraction\", \"Plant\", \"History\", \"Landmark\", \"Visual arts\", \"Tree\", \"Art\", \"Room\", \"Door\", \"Urban design\", \"Landscape\", \"Rock\", \"Wood\", \"Metal\", \"Paper product\", \"Grass\", \"Soil\", \"Event\", \"Illustration\", \"Glass\", \"Pattern\", \"Rectangle\", \"Advertising\", \"Publication\", \"Drink\", \"Liqueur\", \"Jewellery\", \"Fluid\", \"Bottle\", \"Drinkware\", \"Distilled beverage\", \"Glass bottle\", \"Cosmetics\", \"Military person\", \"Alcoholic beverage\", \"Vision care\", \"Barware\", \"Portrait photography\", \"Eye shadow\", \"Sunglasses\", \"Personal care\", \"Beauty\", \"Solution\", \"Smartphone\", \"Iris\", \"Wine\", \"Official\", \"Soldier\", \"Lipstick\", \"Pianist\", \"Soft drink\", \"Goggles\", \"Body jewelry\", \"Alcohol\", \"Eye\", \"Eyebrow\", \"Jaw\", \"Nose\", \"Serveware\", \"Fashion accessory\", \"Hair coloring\", \"Forehead\", \"Moustache\", \"Portrait\", \"Chin\", \"Liquid\", \"Eyewear\", \"Facial hair\", \"Macro photography\", \"Personal protective equipment\", \"Eyelash\", \"Glass\", \"Metal\", \"Advertising\", \"Publication\", \"Fur\", \"Circle\", \"Label\", \"Logo\", \"Book cover\", \"Art\"], \"Freq\": [3818.0, 3030.0, 4416.0, 2357.0, 1044.0, 5702.0, 2276.0, 1079.0, 2693.0, 2676.0, 4191.0, 4031.0, 4545.0, 1655.0, 1540.0, 1210.0, 844.0, 902.0, 4367.0, 1724.0, 1515.0, 3123.0, 935.0, 1821.0, 826.0, 704.0, 716.0, 3332.0, 764.0, 614.0, 199.690444984009, 104.31804105538727, 55.74105298232212, 148.58401059243783, 300.53258900904825, 48.031430918993166, 41.712177154163044, 33.333350015016, 28.087325382450366, 33.97645743790747, 542.5405730227594, 41.221125912110224, 127.00083489988808, 37.278472884307206, 15.88851400941365, 15.38681602267409, 231.66516873742992, 14.36818089005386, 12.492160951521143, 11.206234931508943, 23.554979912418123, 11.040773338724632, 8.969913737442651, 8.50765020886738, 7.38332093708853, 7.34948597209242, 17.217774905989693, 37.058504532507335, 6.955900299219568, 6.296229438323207, 545.2137749574318, 324.71654505650156, 302.38551897885344, 903.3282958538975, 111.17416517926097, 1269.1294242276438, 459.05627169757184, 1051.4196391351607, 1819.3640853998456, 155.8337712089681, 120.89889669414829, 166.22816517772688, 267.9546411989896, 1738.9059870029344, 1903.6569498117342, 115.00494014722454, 1082.8425820049981, 200.39005045444097, 172.076560094564, 421.83794910926093, 1411.5763835317855, 1502.7869182136033, 1015.5085097993472, 1005.2848160960765, 487.25591219000154, 866.6779893760718, 581.2649771690857, 211.4893758069643, 253.36662578256627, 469.0074629446313, 437.0106224213408, 304.2911660042913, 269.51688200598744, 203.38103188462244, 80.09109804767077, 6.658895946547138, 5.722981841361316, 5.244809695779915, 4.259244605644922, 4.170208852305216, 4.170208852305216, 3.7328770820045816, 3.6405233900975613, 1872.9773806959386, 2377.73931541814, 1770.0272509421138, 618.5069477984249, 3.1124529422221094, 3.1124529422221094, 3.1124529422221094, 3.1124529422221094, 2.9925385525137185, 2.6594549103611658, 2.6464108540593108, 2.6343415412517315, 426.4351982356092, 2.2054191266205994, 2.182913436884374, 2.1604760376735848, 2.149996649032786, 2556.784909097271, 25.37923431194108, 2860.3471215382433, 1.654340808404749, 104.00562811496344, 778.0120278649441, 378.1549890068419, 1909.6598454557095, 2624.382393606661, 1901.3455758537223, 1103.0821971650162, 144.40482396366988, 1149.107493991825, 711.0822058627998, 55.07788887860353, 66.85061404773579, 520.9156004770798, 186.10189294445465, 105.70435229411365, 100.22415308036601, 41.51657674476172, 254.70245283837482, 246.30610783450237, 173.1409096143704, 54.83084771419097, 206.38365682166614, 51.25649266356933, 45.99727660426741, 43.555292590352416, 28.37207275894648, 23.430430734573115, 25.255707261785368, 28.821367460595066, 20.490924491647213, 19.925377086496397, 579.4738658952136, 861.006471213347, 131.77830969793098, 17.112477311556162, 16.32460119913158, 15.619176516643455, 14.56069247184476, 13.12739594901701, 13.064868827316314, 12.426178169960867, 11.231986270396778, 12.379001399123958, 9.736386864807026, 9.73483657888793, 77.0814773223042, 9.570515318567816, 9.01845003727282, 8.628895949245251, 8.190793807879595, 7.907965822679256, 51.5716369048106, 573.4123681487858, 31.702322137874578, 48.85288905036588, 44.254447629661264, 22.26606842985084, 1207.0100848797472, 32.19282769139171, 535.7472986987764, 880.7781677264528, 224.6179037927142, 88.90940797536847, 119.61938427714625, 1265.89835789391, 1364.33937088532, 45.93625776407366, 1045.0973187788545, 249.35676033368367, 658.3670129000812, 151.9565468833367, 153.1905822295985, 1330.3767693582624, 1302.9632372845165, 586.1929175111596, 530.3693691236422, 791.7178540537824, 205.44643869720184, 327.61791283071386, 260.93914224043914, 165.01280028261073, 188.2515228801437, 233.7254736219073, 451.66171360281686, 328.01476534690744, 390.8018129348598, 271.4990462844886, 254.4999821781735, 191.545495956298, 165.12912045598875, 88.91533946774116, 75.63113166473684, 81.5889627512534, 64.93534276119628, 70.98002577180071, 55.94395084459858, 52.422468972461154, 49.00312970299834, 47.33590760082435, 42.26693621706765, 41.51100974935166, 182.1242558226007, 97.33653529390389, 37.76699496194113, 32.095346346656285, 29.725011226161566, 29.495797811783206, 30.533770168290637, 55.021965868000215, 28.682233693731384, 27.838186061454703, 26.10155525864996, 25.926720780845333, 24.897358603819388, 62.46221546956226, 23.39848344838237, 22.358679254447374, 21.7910719253622, 21.78763790965044, 42.63547255460888, 106.0050726585427, 119.48067757627089, 99.68504871898925, 49.15386220111806, 44.171307883899665, 80.41840776360144, 58.61434039215631, 285.5996316580297, 502.54373596116903, 66.94901043739334, 204.4739117828945, 186.52697108322243, 392.52812432308434, 130.40972406940082, 71.46444077486362, 360.0561587241842, 246.23973990271514, 189.93116643852144, 424.800859935649, 232.79601004337042, 131.0349078969789, 118.37591110014951, 122.54087886698255, 139.323901592353, 125.86865887938339, 164.67515091711513, 351.0901787956395, 129.4588862943885, 146.14869730400858, 149.40238846140142, 123.78927879172693, 108.78373630022398, 110.7010449791557, 110.42152941773082, 71.9687341545676, 57.63849485009409, 61.070395573733094, 50.40024549959394, 53.07141308041607, 45.02338477352962, 40.35660704907251, 126.58657815950579, 36.55809306952207, 22.41931753185078, 20.410992007661715, 19.43174645922969, 18.195847783546093, 67.68330402619084, 24.14678138350063, 13.195926817570806, 12.228544350633983, 12.180287150820151, 12.129029966719585, 12.209762606190239, 11.56154919922276, 11.496382873883103, 10.309160095007284, 9.345098748886535, 9.226391376069936, 45.24242698666785, 7.689089130021055, 9.541513709267674, 7.116462048016091, 6.6287186677502605, 65.70671275312885, 226.15643061806026, 144.34492416955015, 103.08816465370826, 140.13191642606836, 49.43214216922417, 50.977071746596465, 515.1597082097954, 113.08701743094821, 236.71368697456901, 41.04875247525614, 488.21008242839207, 42.37029568880218, 162.40818999170511, 905.7602856353375, 71.79875130506332, 149.4307945498398, 941.2533897030941, 121.04468848752902, 109.87429713110564, 541.2618587552926, 362.08382706106784, 600.9543374270129, 492.4207487207232, 408.84291006046163, 412.9963842404285, 430.70256792206175, 253.19984452610802, 98.11897658909136, 196.31710723513575, 150.8962611287878, 99.60100676691971, 104.75825888714849, 115.80511701527323, 82.50200147683408, 365.2910322249155, 84.99353242319678, 67.0233163227324, 66.36201197600361, 64.02932949696314, 66.50583890763801, 38.12248773468769, 37.694444388956754, 36.6552066372062, 32.559668328943346, 31.15520099873242, 31.979993133605046, 29.694492845170604, 24.273633084897515, 27.71550528556205, 40.72523583565953, 20.097187900228366, 17.833748402071905, 16.425626215502852, 15.81454655216467, 16.70575899795801, 14.998286441520003, 13.790585900522133, 14.740995907394286, 20.52013667090359, 12.515793501962731, 12.950700875678871, 11.941763646551028, 11.88909675577241, 13.373793376660316, 90.72159336838436, 379.54196697117214, 51.17664181976596, 143.51671573650282, 81.50042701136272, 250.14206024105246, 27.03441446928309, 28.75508122626841, 386.15122272215496, 550.5819009998708, 103.47821605704885, 59.855850712563516, 30.388746458736694, 254.57102145648193, 455.748422718481, 78.86211351041685, 273.02367376494817, 210.88241938936616, 120.3823687746609, 99.33111117993145, 66.00054595749431, 71.28105730110703, 115.88696792322752, 255.8303598275786, 283.11685551325024, 70.04884168426616, 76.71078244329308, 116.78326528153498, 215.4698656120289, 138.74554594796192, 160.17027043786106, 94.14016193435832, 153.5380178378833, 97.89194324721922, 105.67039551876344, 86.19178420633291, 76.74840838026213, 1029.5552101171736, 52.57735732101547, 34.96289993880709, 70.82989038703649, 17.789859881350957, 17.311605413475757, 16.859475658985538, 17.559940743056362, 15.733738658653227, 11.473391903305261, 9.770067969458333, 8.813427523488395, 8.67675508153368, 8.168499026607074, 7.853533240955449, 7.787807289561783, 7.257733629707226, 6.187827775653427, 6.192246757057393, 6.178300723097881, 6.185182694541035, 5.926559219324399, 5.653690985577179, 5.391405456554995, 219.70616651835576, 6.162017853698918, 5.2827464765681045, 5.228616037110564, 5.120134982714811, 5.116565759652465, 892.1524568043102, 10.304637374600658, 33.800811371547034, 17.53678780359158, 9.338503199931706, 19.460794216784496, 159.02322382666293, 13.535985094997004, 70.55083165186919, 818.4407716702669, 648.9823725919953, 103.48335185701339, 801.4181078956964, 483.72487407942793, 159.23025066565637, 500.1178121765232, 520.1589318337468, 614.121695963382, 121.49498200359862, 81.26797433526558, 82.50051905634054, 235.9131194115834, 263.92753348959496, 117.13994431977135, 246.62133130142865, 32.243489964415495, 84.10565305677208, 73.66618378822135, 49.25740146609501, 110.54512454837197, 95.45845306410692, 50.68364348354976, 48.0300885904959, 194.12881584955173, 156.91933512807176, 69.81014179751041, 69.12534165843509, 101.81581959095348, 57.50022135003702, 56.22108523326736, 50.67541284956774, 50.664575996902315, 48.49220756549232, 45.22712242307901, 39.80698315428637, 34.750684278325984, 34.28637291887822, 57.518759809899464, 30.2513362199098, 30.23441161884536, 28.50044693913951, 30.51216706605273, 109.48392545716997, 26.433807175313145, 26.140230187420325, 24.586980263896077, 22.449407773063992, 24.761279215797494, 20.890838500486577, 69.08342536403353, 18.86217395705301, 20.105767751072158, 18.40714393698174, 121.61367937607527, 43.35940561769819, 128.11435545563856, 72.96504860162965, 72.18753854950354, 49.181829465505736, 56.859380699039306, 39.4161871362646, 166.21806807142363, 204.40981415266472, 89.59815550276227, 163.9153007298221, 270.49173516536473, 139.1073362999007, 112.37001578641456, 491.4508192269243, 282.758101240748, 71.56519672745644, 68.91532424639729, 360.0398940711488, 141.01945734025844, 140.85884646495617, 423.5533444956678, 80.24108585721147, 109.20126018033157, 101.57851849784498, 180.6028032591449, 158.80213810055207, 116.47620098068639, 76.93545388857171, 81.8162472715375, 73.62682758437224, 126.63706972475643, 89.70813433894091, 66.19909131720262, 65.79329458748916, 70.69845943256392, 45.620241886310765, 40.366964192007316, 128.9496989958398, 38.78265008663025, 34.178165542286166, 28.304656825233852, 31.730041050097874, 26.485884836675144, 54.23138195316742, 23.93655917815494, 21.94631055634416, 22.10367147005529, 20.287858716288465, 20.967778946250714, 19.203729483589207, 18.754699520651908, 20.50604080811474, 17.616361812511773, 17.55577275202536, 16.884199217616867, 16.027985118682953, 15.511655881982943, 23.8482908853655, 14.321624835995467, 14.319498680912185, 134.3281548655948, 286.93334084904865, 91.05137255897283, 30.37517151108095, 342.55230290862096, 75.52558187928769, 214.44341663608435, 45.86187739771971, 56.43101763446098, 57.70885591767398, 82.49036566033112, 45.95661954656532, 219.9397925008271, 353.20839716482, 52.637753465501284, 199.52012276835373, 140.59829855536162, 386.16128263838453, 138.3872329356742, 53.020478338857394, 97.43208479225305, 157.3944064831297, 81.8334748908123, 129.23858475331687, 125.61232656848598, 214.59176841808667, 104.86505512994027, 97.86979716596838, 148.47880016042893, 127.58924803475482, 81.52382361469533, 130.06463521939182, 130.43975426579, 116.68101679926785, 109.68749706776684, 236.29596584900315, 144.76722426978677, 129.99988665295373, 93.02263220410715, 74.1692630840169, 67.99665686149768, 64.9528398952913, 50.103801800861476, 41.208863827194804, 32.37369570379554, 31.179931641103856, 28.323265906769112, 24.897209960604872, 23.685262740618676, 22.97626482244883, 19.755734417540292, 19.268029865316144, 19.703592869265556, 18.910656956791673, 19.013313037881165, 18.366777399023157, 18.07138518508876, 17.76251304434252, 17.52632611520172, 17.10053854020446, 16.323855000740615, 16.27524457982574, 16.219644512349195, 16.38794577731157, 15.677000775066672, 73.54649253982839, 123.87175811353711, 110.35778548456076, 43.5281906651821, 43.14529376640436, 259.1480114492208, 56.76882766048066, 56.85832832877082, 50.5290544463678, 33.57894667345056, 76.29926637258765, 239.41077877579096, 117.61933626193212, 76.25042034560889, 77.10976308671562, 61.06472341288685, 223.10347250788914, 88.73465518632585, 104.95547772899442, 163.35236403604904, 159.58088885505396, 55.47522293507285, 136.16412367390834, 58.65191579410894, 79.28745067173631, 64.00070689179502, 53.33570056880184], \"Total\": [3818.0, 3030.0, 4416.0, 2357.0, 1044.0, 5702.0, 2276.0, 1079.0, 2693.0, 2676.0, 4191.0, 4031.0, 4545.0, 1655.0, 1540.0, 1210.0, 844.0, 902.0, 4367.0, 1724.0, 1515.0, 3123.0, 935.0, 1821.0, 826.0, 704.0, 716.0, 3332.0, 764.0, 614.0, 200.6635428506412, 105.3710966289196, 56.76702827229465, 151.32051130608212, 306.1393476228077, 49.135902446129094, 42.69887205586044, 34.246283991986054, 29.067714268401726, 35.279195320887226, 564.0778185124033, 43.12460945371497, 133.67019633143104, 39.353212508353394, 16.799948153998134, 16.31334396977806, 246.1395973575403, 15.339825777464837, 13.40392943098104, 12.11749605704222, 25.49992807883301, 11.953606586399067, 9.88121378275089, 9.512847249388457, 8.29467115971366, 8.26233084562292, 19.38580321817839, 41.83524715641109, 7.873090611420574, 7.207514732143604, 629.062884850358, 394.50031219269334, 370.18438098571545, 1177.691442260118, 137.4305019604108, 1821.6178175386813, 659.451905899517, 1655.0898431306466, 3178.1468306584234, 217.03442485040316, 163.95623632997814, 236.25459681974064, 405.73490370166036, 3488.2725278901676, 4191.475866483478, 160.3503791248987, 2596.3785630959846, 325.29945357273067, 278.5232640734431, 917.0795260783912, 4545.018116507639, 5702.095546895794, 3332.151414792154, 4031.534446685505, 1471.0647582687445, 4367.075720772248, 2593.956294037671, 417.3447243563713, 605.5199563468467, 2676.5391507027534, 2693.545909958039, 3123.161294756248, 2276.716767267137, 581.557652312043, 84.27790541229375, 7.573379460374961, 6.636562342323945, 6.283831158535039, 5.173668091506904, 5.083973555897178, 5.083973555897178, 4.647167535851805, 4.554255486816747, 2357.5769764031, 3030.5674528317877, 2276.716767267137, 796.6401913708838, 4.026118702542848, 4.026118702542848, 4.026118702542848, 4.026118702542848, 3.909268388463619, 3.5738335916217983, 3.561154800665965, 3.549335660653673, 587.8860414454532, 3.1191011008642535, 3.0971856022653443, 3.075160837829031, 3.0636769596704467, 3818.897803018555, 39.17805484231569, 4416.614877209626, 2.568511697605299, 170.08434637236542, 1471.0647582687445, 704.2370750401741, 4031.534446685505, 5702.095546895794, 4191.475866483478, 2596.3785630959846, 288.13427376267003, 3488.2725278901676, 3332.151414792154, 140.6079575349467, 202.92799464699817, 3178.1468306584234, 1079.590222175173, 605.5199563468467, 581.557652312043, 160.3503791248987, 2593.956294037671, 3123.161294756248, 1821.6178175386813, 336.05037380453564, 4367.075720772248, 52.168262165377584, 46.90739939542901, 44.465100516833765, 29.28163608854388, 24.341620364158672, 26.286562387046853, 30.009739948474877, 21.400682844679775, 20.835988676317058, 606.3826694697484, 902.9445060303456, 138.4227569080782, 18.024615496631885, 17.24051064502424, 16.52870647882237, 15.470161777837394, 14.037013621374717, 13.974341127259462, 13.350883315119871, 12.141591340404561, 13.413934607630745, 10.645883869544782, 10.644413985305095, 84.30266667530597, 10.4802002525921, 9.92863217542489, 9.539586358371585, 9.10027481520895, 8.817800265805833, 57.51622443822106, 646.0349282546271, 35.846319750058846, 55.7937988261403, 50.832925178806, 25.0537556266567, 1724.879442782636, 37.983132935042164, 764.0127099791717, 1362.6911795162168, 314.26644286438767, 114.39684302270165, 169.3972911434901, 2676.5391507027534, 3123.161294756248, 58.85176090336024, 2693.545909958039, 470.12005389333353, 1540.637642385338, 256.9831497626408, 260.5272133095777, 4367.075720772248, 4545.018116507639, 1655.0898431306466, 1515.975530982538, 2593.956294037671, 474.2128624297381, 917.0795260783912, 712.4077602516267, 360.5615122062422, 446.274524867154, 727.3626191994166, 3332.151414792154, 1821.6178175386813, 3178.1468306584234, 4031.534446685505, 3488.2725278901676, 2596.3785630959846, 166.07877307765978, 89.83119081900792, 76.54664777172971, 82.70402863884476, 65.84243441237534, 72.06894715754713, 56.872031096004555, 53.35475644989448, 49.91474026089184, 48.24398978196189, 43.17304786878648, 42.435501164660785, 186.21199523832317, 99.54657708657324, 38.7385746759833, 33.0036933520385, 30.631278674999248, 30.40619525663236, 31.500898245082986, 56.7701205529352, 29.5998882536725, 28.746728590829964, 27.007871989697033, 26.835278708230856, 25.804233734636107, 64.7493063304162, 24.304383123287888, 23.272995773208336, 22.69771200345012, 22.69809452321375, 44.68013932952975, 112.14954307466124, 127.07244659221467, 106.02363214567785, 51.60947008853722, 46.72364380543279, 87.36278342586127, 62.929845733001905, 374.8947328226423, 716.8238621545734, 76.29392749252905, 278.99920249445586, 255.26781660495647, 606.890424166844, 171.76780418322738, 83.70686509909406, 614.070808553746, 462.339226281737, 336.3516691503669, 1210.2911687436567, 520.747467755195, 221.8806342739842, 192.96238882387098, 229.64782806552518, 302.80874945764504, 264.3247493412761, 520.4716477220292, 4545.018116507639, 392.4666940915656, 1177.691442260118, 1540.637642385338, 844.2728205863824, 545.1167268189452, 727.3626191994166, 4367.075720772248, 73.08112660854304, 58.57462186215994, 62.13816197046422, 51.32810898597221, 54.092157592278305, 45.932107683888475, 41.270856872049016, 131.1840454608968, 37.89010659830972, 23.400662706007605, 21.31840381173036, 20.339257819725095, 19.103469348743584, 71.11395388935266, 25.482730882857616, 14.103698709155656, 13.135959639075734, 13.088107409786577, 13.036295246692355, 13.139432395197261, 12.46903109441182, 12.403821647365126, 11.217347131212982, 10.252854162075742, 10.133637559357245, 50.19059656539797, 8.596436720867308, 10.719723643991552, 8.024615868420913, 7.535958848305619, 75.98617312220854, 273.0868032322905, 173.67624619335425, 123.39919243627617, 170.9733413707529, 58.08091526693844, 64.01403600386658, 826.9290446255061, 155.59956875463197, 368.6976448035887, 52.37568600764254, 935.3565961805863, 57.68562600382556, 297.3301894210545, 2693.545909958039, 114.63094151280768, 310.0052530032282, 4367.075720772248, 248.35303858224214, 228.457173545943, 2676.5391507027534, 1515.975530982538, 5702.095546895794, 4545.018116507639, 3332.151414792154, 3818.897803018555, 4416.614877209626, 3123.161294756248, 342.06782104271434, 3178.1468306584234, 2593.956294037671, 605.5199563468467, 1177.691442260118, 2596.3785630959846, 405.73490370166036, 369.1046072450279, 85.90793174547136, 67.93484827009694, 67.26744268412928, 64.94056429000209, 67.61068796093173, 39.02194257017423, 38.593927383371174, 37.55485530319747, 33.46308267020147, 32.05468162592041, 32.907035497431565, 30.64486114245662, 25.21286198224312, 28.80072601112146, 42.62936620889302, 21.04918456649805, 18.786903363072593, 17.324916954384218, 16.71383784759868, 17.68479755569059, 15.917521721415975, 14.69648061500897, 15.718199552570132, 21.933718130137184, 13.417946515995107, 13.89233080957303, 12.85928912701075, 12.803857845942414, 14.476581411099247, 99.72748734838754, 434.01278792216414, 56.25381911907938, 164.0133653390944, 92.36147672023966, 297.33693316716716, 29.61404265127425, 32.218879057572224, 545.1167268189452, 844.2728205863824, 134.3099838725088, 74.69304127704551, 34.86349332043606, 520.747467755195, 1210.2911687436567, 120.88947304935655, 727.3626191994166, 520.4716477220292, 307.9314016330617, 278.5232640734431, 141.7233297665838, 170.99141364615363, 489.5604385477203, 2676.5391507027534, 4545.018116507639, 169.6520710535037, 221.8806342739842, 712.4077602516267, 4367.075720772248, 1540.637642385338, 2693.545909958039, 474.2128624297381, 3178.1468306584234, 917.0795260783912, 2593.956294037671, 3488.2725278901676, 4191.475866483478, 1044.7465736584122, 53.492123410860124, 35.891033371387756, 73.26622410367212, 18.712451902102792, 18.289997894938534, 17.858891942277825, 18.61486090167766, 16.6850440886622, 12.40703784402581, 10.683377885003495, 9.726462268069158, 9.590237717010767, 9.08144568961376, 8.772170344358212, 8.700963745305929, 8.171120139125112, 7.10079932799601, 7.105877119701372, 7.0914971117658725, 7.105324604693492, 6.839709502982179, 6.566631510381227, 6.304944672082712, 257.636409240435, 7.226868673390669, 6.19567034326382, 6.141590674381981, 6.033043708088758, 6.031257594932661, 1079.590222175173, 12.437103500208172, 43.552392356534774, 22.189175140494914, 11.418479905584126, 26.698392306921612, 360.5615122062422, 18.624098887095055, 140.6079575349467, 3818.897803018555, 3030.5674528317877, 288.13427376267003, 4416.614877209626, 2357.5769764031, 581.557652312043, 3332.151414792154, 4031.534446685505, 5702.095546895794, 605.5199563468467, 325.29945357273067, 336.05037380453564, 2276.716767267137, 3123.161294756248, 796.6401913708838, 4367.075720772248, 80.3528730314793, 704.2370750401741, 587.8860414454532, 221.73329082631676, 1724.879442782636, 2593.956294037671, 419.04319380270806, 482.24648284100476, 195.82373632968896, 158.95541236623663, 70.76647955851706, 70.07247915885945, 103.3735720087243, 58.413464674758096, 57.138560568944655, 51.590797467679856, 51.59029050197074, 49.401709670836006, 46.16261413716598, 40.73331531232494, 35.65957992639492, 35.192797773300384, 59.20761475062733, 31.15966805827135, 31.153988017390915, 29.412028575703243, 31.49055518042519, 113.15361568510892, 27.343347803560103, 27.051501380269137, 25.49249110567907, 23.355901035907728, 25.78303626420186, 21.79732867348802, 72.34924992774634, 19.769792883055548, 21.093263198113416, 19.314407270486456, 129.33114309266227, 45.98550232531063, 140.79824045014632, 80.31822047997176, 80.92083664310451, 55.52755934102888, 66.41726673002454, 43.77824361560991, 239.51619216637548, 315.43513890835675, 117.31174838537646, 245.65375605097898, 487.51326107392356, 251.34611065608732, 187.08572561405947, 1540.637642385338, 712.4077602516267, 106.58477505899087, 103.71574227387913, 2593.956294037671, 422.6763380937519, 446.274524867154, 4545.018116507639, 163.90264791157554, 503.50685889099907, 417.3447243563713, 4367.075720772248, 3123.161294756248, 1515.975530982538, 520.4716477220292, 3332.151414792154, 260.5272133095777, 127.81046043886802, 90.72997926025492, 67.11987029548085, 66.816960963266, 71.82984916424724, 46.534646760928005, 41.27844225685482, 131.93194241926238, 39.69089681290464, 35.08918304164045, 29.217103944000765, 32.80060472071254, 27.393884276706814, 56.12051392770554, 24.845841999407792, 22.85497119387038, 23.020469915049528, 21.1968080248107, 21.94112716781781, 20.124336097858542, 19.661847826193444, 21.522467408927522, 18.52481491538905, 18.47021948740858, 17.791379047404728, 16.935323592787157, 16.418630920049104, 25.336486053850525, 15.228947274387899, 15.229671417549367, 158.16733280293445, 365.50667238004723, 110.37868185486701, 33.844973011907946, 482.24648284100476, 98.43013018577567, 392.4666940915656, 61.50516522660525, 80.94459597056898, 88.1759826366126, 145.13342278466723, 65.04833547956727, 614.070808553746, 1515.975530982538, 87.45770483884853, 764.0127099791717, 462.339226281737, 3123.161294756248, 503.50685889099907, 93.6372237110559, 336.3516691503669, 1210.2911687436567, 264.3247493412761, 826.9290446255061, 935.3565961805863, 4416.614877209626, 716.8238621545734, 606.890424166844, 2593.956294037671, 1724.879442782636, 339.778447975183, 3332.151414792154, 5702.095546895794, 4545.018116507639, 4367.075720772248, 237.60317424660803, 145.67512929318775, 131.15349543813454, 93.93349951351972, 75.0731631304087, 68.90649793597929, 65.85489192628417, 51.005861868102386, 42.14402044457064, 33.27634699980375, 32.081639993275786, 29.22555330518041, 25.799046244594283, 24.600877542835526, 23.878348113018927, 20.657958412695873, 20.169978257966125, 20.6408357938815, 19.812276958742338, 19.923266948727054, 19.26848638928888, 18.97302902414237, 18.66546772452074, 18.428195873763947, 18.00874020736526, 17.226968031016476, 17.176964436137077, 17.121447229982753, 17.299277128124093, 16.578645786562465, 78.16494310792655, 136.36584003356185, 139.48004650642423, 52.50804057324494, 52.08478885702286, 419.04319380270806, 73.41777508693548, 74.67765715616399, 65.03820480605444, 40.36271680818492, 112.32832811455035, 489.5604385477203, 202.92799464699817, 117.00449292617361, 124.22908540738901, 95.43850038947807, 704.2370750401741, 339.778447975183, 935.3565961805863, 4545.018116507639, 4367.075720772248, 188.25475200014415, 4031.534446685505, 370.18438098571545, 3488.2725278901676, 2676.5391507027534, 3123.161294756248], \"Category\": [\"Default\", \"Default\", \"Default\", \"Default\", \"Default\", \"Default\", \"Default\", \"Default\", \"Default\", \"Default\", \"Default\", \"Default\", \"Default\", \"Default\", \"Default\", \"Default\", \"Default\", \"Default\", \"Default\", \"Default\", \"Default\", \"Default\", \"Default\", \"Default\", \"Default\", \"Default\", \"Default\", \"Default\", \"Default\", \"Default\", \"Topic1\", \"Topic1\", \"Topic1\", \"Topic1\", \"Topic1\", \"Topic1\", \"Topic1\", \"Topic1\", \"Topic1\", \"Topic1\", \"Topic1\", \"Topic1\", \"Topic1\", \"Topic1\", \"Topic1\", \"Topic1\", \"Topic1\", \"Topic1\", \"Topic1\", \"Topic1\", \"Topic1\", \"Topic1\", \"Topic1\", \"Topic1\", \"Topic1\", \"Topic1\", \"Topic1\", \"Topic1\", \"Topic1\", \"Topic1\", \"Topic1\", \"Topic1\", \"Topic1\", \"Topic1\", \"Topic1\", \"Topic1\", \"Topic1\", \"Topic1\", \"Topic1\", \"Topic1\", \"Topic1\", \"Topic1\", \"Topic1\", \"Topic1\", \"Topic1\", \"Topic1\", \"Topic1\", \"Topic1\", \"Topic1\", \"Topic1\", \"Topic1\", \"Topic1\", \"Topic1\", \"Topic1\", \"Topic1\", \"Topic1\", \"Topic1\", \"Topic1\", \"Topic1\", \"Topic1\", \"Topic1\", \"Topic1\", \"Topic1\", \"Topic1\", \"Topic2\", \"Topic2\", \"Topic2\", \"Topic2\", \"Topic2\", \"Topic2\", \"Topic2\", \"Topic2\", \"Topic2\", \"Topic2\", \"Topic2\", \"Topic2\", \"Topic2\", \"Topic2\", \"Topic2\", \"Topic2\", \"Topic2\", \"Topic2\", \"Topic2\", \"Topic2\", \"Topic2\", \"Topic2\", \"Topic2\", \"Topic2\", \"Topic2\", \"Topic2\", \"Topic2\", \"Topic2\", \"Topic2\", \"Topic2\", \"Topic2\", \"Topic2\", \"Topic2\", \"Topic2\", \"Topic2\", \"Topic2\", \"Topic2\", \"Topic2\", \"Topic2\", \"Topic2\", \"Topic2\", \"Topic2\", \"Topic2\", \"Topic2\", \"Topic2\", \"Topic2\", \"Topic2\", \"Topic2\", \"Topic2\", \"Topic2\", \"Topic2\", \"Topic2\", \"Topic3\", \"Topic3\", \"Topic3\", \"Topic3\", \"Topic3\", \"Topic3\", \"Topic3\", \"Topic3\", \"Topic3\", \"Topic3\", \"Topic3\", \"Topic3\", \"Topic3\", \"Topic3\", \"Topic3\", \"Topic3\", \"Topic3\", \"Topic3\", \"Topic3\", \"Topic3\", \"Topic3\", \"Topic3\", \"Topic3\", \"Topic3\", \"Topic3\", \"Topic3\", \"Topic3\", \"Topic3\", \"Topic3\", \"Topic3\", \"Topic3\", \"Topic3\", \"Topic3\", \"Topic3\", \"Topic3\", \"Topic3\", \"Topic3\", \"Topic3\", \"Topic3\", \"Topic3\", \"Topic3\", \"Topic3\", \"Topic3\", \"Topic3\", \"Topic3\", \"Topic3\", \"Topic3\", \"Topic3\", \"Topic3\", \"Topic3\", \"Topic3\", \"Topic3\", \"Topic3\", \"Topic3\", \"Topic3\", \"Topic3\", \"Topic3\", \"Topic3\", \"Topic3\", \"Topic3\", \"Topic3\", \"Topic3\", \"Topic3\", \"Topic3\", \"Topic3\", \"Topic3\", \"Topic3\", \"Topic4\", \"Topic4\", \"Topic4\", \"Topic4\", \"Topic4\", \"Topic4\", \"Topic4\", \"Topic4\", \"Topic4\", \"Topic4\", \"Topic4\", \"Topic4\", \"Topic4\", \"Topic4\", \"Topic4\", \"Topic4\", \"Topic4\", \"Topic4\", \"Topic4\", \"Topic4\", \"Topic4\", \"Topic4\", \"Topic4\", \"Topic4\", \"Topic4\", \"Topic4\", \"Topic4\", \"Topic4\", \"Topic4\", \"Topic4\", \"Topic4\", \"Topic4\", \"Topic4\", \"Topic4\", \"Topic4\", \"Topic4\", \"Topic4\", \"Topic4\", \"Topic4\", \"Topic4\", \"Topic4\", \"Topic4\", \"Topic4\", \"Topic4\", \"Topic4\", \"Topic4\", \"Topic4\", \"Topic4\", \"Topic4\", \"Topic4\", \"Topic4\", \"Topic4\", \"Topic4\", \"Topic4\", \"Topic4\", \"Topic4\", \"Topic4\", \"Topic4\", \"Topic4\", \"Topic4\", \"Topic4\", \"Topic4\", \"Topic4\", \"Topic4\", \"Topic4\", \"Topic5\", \"Topic5\", \"Topic5\", \"Topic5\", \"Topic5\", \"Topic5\", \"Topic5\", \"Topic5\", \"Topic5\", \"Topic5\", \"Topic5\", \"Topic5\", \"Topic5\", \"Topic5\", \"Topic5\", \"Topic5\", \"Topic5\", \"Topic5\", \"Topic5\", \"Topic5\", \"Topic5\", \"Topic5\", \"Topic5\", \"Topic5\", \"Topic5\", \"Topic5\", \"Topic5\", \"Topic5\", \"Topic5\", \"Topic5\", \"Topic5\", \"Topic5\", \"Topic5\", \"Topic5\", \"Topic5\", \"Topic5\", \"Topic5\", \"Topic5\", \"Topic5\", \"Topic5\", \"Topic5\", \"Topic5\", \"Topic5\", \"Topic5\", \"Topic5\", \"Topic5\", \"Topic5\", \"Topic5\", \"Topic5\", \"Topic5\", \"Topic5\", \"Topic5\", \"Topic5\", \"Topic5\", \"Topic5\", \"Topic5\", \"Topic5\", \"Topic5\", \"Topic5\", \"Topic5\", \"Topic5\", \"Topic5\", \"Topic5\", \"Topic5\", \"Topic5\", \"Topic6\", \"Topic6\", \"Topic6\", \"Topic6\", \"Topic6\", \"Topic6\", \"Topic6\", \"Topic6\", \"Topic6\", \"Topic6\", \"Topic6\", \"Topic6\", \"Topic6\", \"Topic6\", \"Topic6\", \"Topic6\", \"Topic6\", \"Topic6\", \"Topic6\", \"Topic6\", \"Topic6\", \"Topic6\", \"Topic6\", \"Topic6\", \"Topic6\", \"Topic6\", \"Topic6\", \"Topic6\", \"Topic6\", \"Topic6\", \"Topic6\", \"Topic6\", \"Topic6\", \"Topic6\", \"Topic6\", \"Topic6\", \"Topic6\", \"Topic6\", \"Topic6\", \"Topic6\", \"Topic6\", \"Topic6\", \"Topic6\", \"Topic6\", \"Topic6\", \"Topic6\", \"Topic6\", \"Topic6\", \"Topic6\", \"Topic6\", \"Topic6\", \"Topic6\", \"Topic6\", \"Topic6\", \"Topic6\", \"Topic6\", \"Topic6\", \"Topic6\", \"Topic6\", \"Topic6\", \"Topic6\", \"Topic6\", \"Topic6\", \"Topic6\", \"Topic6\", \"Topic6\", \"Topic6\", \"Topic7\", \"Topic7\", \"Topic7\", \"Topic7\", \"Topic7\", \"Topic7\", \"Topic7\", \"Topic7\", \"Topic7\", \"Topic7\", \"Topic7\", \"Topic7\", \"Topic7\", \"Topic7\", \"Topic7\", \"Topic7\", \"Topic7\", \"Topic7\", \"Topic7\", \"Topic7\", \"Topic7\", \"Topic7\", \"Topic7\", \"Topic7\", \"Topic7\", \"Topic7\", \"Topic7\", \"Topic7\", \"Topic7\", \"Topic7\", \"Topic7\", \"Topic7\", \"Topic7\", \"Topic7\", \"Topic7\", \"Topic7\", \"Topic7\", \"Topic7\", \"Topic7\", \"Topic7\", \"Topic7\", \"Topic7\", \"Topic7\", \"Topic7\", \"Topic7\", \"Topic7\", \"Topic7\", \"Topic7\", \"Topic7\", \"Topic7\", \"Topic7\", \"Topic7\", \"Topic7\", \"Topic7\", \"Topic7\", \"Topic7\", \"Topic7\", \"Topic7\", \"Topic7\", \"Topic7\", \"Topic7\", \"Topic7\", \"Topic7\", \"Topic8\", \"Topic8\", \"Topic8\", \"Topic8\", \"Topic8\", \"Topic8\", \"Topic8\", \"Topic8\", \"Topic8\", \"Topic8\", \"Topic8\", \"Topic8\", \"Topic8\", \"Topic8\", \"Topic8\", \"Topic8\", \"Topic8\", \"Topic8\", \"Topic8\", \"Topic8\", \"Topic8\", \"Topic8\", \"Topic8\", \"Topic8\", \"Topic8\", \"Topic8\", \"Topic8\", \"Topic8\", \"Topic8\", \"Topic8\", \"Topic8\", \"Topic8\", \"Topic8\", \"Topic8\", \"Topic8\", \"Topic8\", \"Topic8\", \"Topic8\", \"Topic8\", \"Topic8\", \"Topic8\", \"Topic8\", \"Topic8\", \"Topic8\", \"Topic8\", \"Topic8\", \"Topic8\", \"Topic8\", \"Topic8\", \"Topic8\", \"Topic8\", \"Topic8\", \"Topic8\", \"Topic8\", \"Topic8\", \"Topic8\", \"Topic8\", \"Topic8\", \"Topic8\", \"Topic8\", \"Topic8\", \"Topic8\", \"Topic9\", \"Topic9\", \"Topic9\", \"Topic9\", \"Topic9\", \"Topic9\", \"Topic9\", \"Topic9\", \"Topic9\", \"Topic9\", \"Topic9\", \"Topic9\", \"Topic9\", \"Topic9\", \"Topic9\", \"Topic9\", \"Topic9\", \"Topic9\", \"Topic9\", \"Topic9\", \"Topic9\", \"Topic9\", \"Topic9\", \"Topic9\", \"Topic9\", \"Topic9\", \"Topic9\", \"Topic9\", \"Topic9\", \"Topic9\", \"Topic9\", \"Topic9\", \"Topic9\", \"Topic9\", \"Topic9\", \"Topic9\", \"Topic9\", \"Topic9\", \"Topic9\", \"Topic9\", \"Topic9\", \"Topic9\", \"Topic9\", \"Topic9\", \"Topic9\", \"Topic9\", \"Topic9\", \"Topic9\", \"Topic9\", \"Topic9\", \"Topic9\", \"Topic9\", \"Topic9\", \"Topic9\", \"Topic9\", \"Topic9\", \"Topic9\", \"Topic9\", \"Topic9\", \"Topic9\", \"Topic9\", \"Topic9\", \"Topic9\", \"Topic9\", \"Topic9\", \"Topic10\", \"Topic10\", \"Topic10\", \"Topic10\", \"Topic10\", \"Topic10\", \"Topic10\", \"Topic10\", \"Topic10\", \"Topic10\", \"Topic10\", \"Topic10\", \"Topic10\", \"Topic10\", \"Topic10\", \"Topic10\", \"Topic10\", \"Topic10\", \"Topic10\", \"Topic10\", \"Topic10\", \"Topic10\", \"Topic10\", \"Topic10\", \"Topic10\", \"Topic10\", \"Topic10\", \"Topic10\", \"Topic10\", \"Topic10\", \"Topic10\", \"Topic10\", \"Topic10\", \"Topic10\", \"Topic10\", \"Topic10\", \"Topic10\", \"Topic10\", \"Topic10\", \"Topic10\", \"Topic10\", \"Topic10\", \"Topic10\", \"Topic10\", \"Topic10\", \"Topic10\", \"Topic10\", \"Topic10\", \"Topic10\", \"Topic10\", \"Topic10\", \"Topic10\", \"Topic10\", \"Topic10\", \"Topic10\", \"Topic10\", \"Topic10\"], \"logprob\": [30.0, 29.0, 28.0, 27.0, 26.0, 25.0, 24.0, 23.0, 22.0, 21.0, 20.0, 19.0, 18.0, 17.0, 16.0, 15.0, 14.0, 13.0, 12.0, 11.0, 10.0, 9.0, 8.0, 7.0, 6.0, 5.0, 4.0, 3.0, 2.0, 1.0, -4.9818, -5.6311, -6.2579, -5.2774, -4.573, -6.4067, -6.5478, -6.772, -6.9433, -6.7529, -3.9823, -6.5596, -5.4344, -6.6602, -7.513, -7.5451, -4.8333, -7.6136, -7.7535, -7.8621, -7.1192, -7.877, -8.0847, -8.1376, -8.2794, -8.284, -7.4326, -6.6661, -8.339, -8.4386, -3.9774, -4.4956, -4.5669, -3.4725, -5.5675, -3.1325, -4.1494, -3.3207, -2.7723, -5.2298, -5.4836, -5.1652, -4.6878, -2.8176, -2.727, -5.5336, -3.2912, -4.9783, -5.1306, -4.234, -3.0261, -2.9635, -3.3554, -3.3656, -4.0898, -3.5139, -3.9134, -4.9244, -4.7437, -4.128, -4.1986, -4.5606, -4.682, -4.9635, -5.7799, -8.2671, -8.4186, -8.5058, -8.714, -8.7351, -8.7351, -8.8459, -8.8709, -2.6278, -2.3892, -2.6843, -3.7358, -9.0277, -9.0277, -9.0277, -9.0277, -9.0669, -9.1849, -9.1899, -9.1944, -4.1076, -9.3721, -9.3824, -9.3927, -9.3976, -2.3166, -6.9291, -2.2044, -9.6597, -5.5186, -3.5063, -4.2278, -2.6084, -2.2905, -2.6127, -3.1572, -5.1904, -3.1163, -3.5963, -6.1543, -5.9606, -3.9075, -4.9368, -5.5024, -5.5557, -6.437, -4.623, -4.6565, -5.009, -6.1588, -4.8333, -6.0712, -6.1794, -6.234, -6.6626, -6.854, -6.779, -6.6469, -6.988, -7.016, -3.6459, -3.2499, -5.1269, -7.1682, -7.2154, -7.2595, -7.3297, -7.4333, -7.4381, -7.4882, -7.5893, -7.492, -7.7322, -7.7323, -5.6632, -7.7493, -7.8088, -7.8529, -7.905, -7.9402, -6.0651, -3.6564, -6.5516, -6.1192, -6.2181, -6.905, -2.9121, -6.5363, -3.7244, -3.2272, -4.5936, -5.5204, -5.2237, -2.8645, -2.7896, -6.1808, -3.0562, -4.4891, -3.5183, -4.9844, -4.9763, -2.8148, -2.8356, -3.6344, -3.7345, -3.3338, -4.6828, -4.2162, -4.4437, -4.902, -4.7702, -4.5539, -3.8951, -4.215, -4.0398, -4.4041, -4.4687, -4.7529, -4.2583, -4.8774, -5.0392, -4.9633, -5.1917, -5.1026, -5.3407, -5.4057, -5.4732, -5.5078, -5.621, -5.6391, -4.1604, -4.7869, -5.7336, -5.8963, -5.9731, -5.9808, -5.9462, -5.3573, -6.0088, -6.0386, -6.103, -6.1098, -6.1503, -5.2305, -6.2124, -6.2578, -6.2835, -6.2837, -5.6124, -4.7016, -4.5819, -4.763, -5.4701, -5.577, -4.9778, -5.2941, -3.7105, -3.1454, -5.1611, -4.0446, -4.1365, -3.3924, -4.4944, -5.0958, -3.4788, -3.8587, -4.1184, -3.3134, -3.9149, -4.4896, -4.5912, -4.5566, -4.4282, -4.5298, -4.2611, -3.504, -4.5017, -4.3804, -4.3584, -4.5465, -4.6757, -4.6582, -4.6607, -5.0859, -5.308, -5.2501, -5.4422, -5.3905, -5.555, -5.6644, -4.5212, -5.7633, -6.2522, -6.3461, -6.3952, -6.461, -5.1473, -6.178, -6.7822, -6.8584, -6.8623, -6.8666, -6.8599, -6.9145, -6.9201, -7.0291, -7.1273, -7.1401, -5.5501, -7.3224, -7.1065, -7.3997, -7.4707, -5.177, -3.9409, -4.3899, -4.7266, -4.4196, -5.4616, -5.4308, -3.1177, -4.634, -3.8953, -5.6474, -3.1714, -5.6157, -4.272, -2.5534, -5.0883, -4.3553, -2.5149, -4.566, -4.6628, -3.0682, -3.4703, -2.9636, -3.1628, -3.3488, -3.3387, -3.2967, -3.828, -4.776, -4.0824, -4.3456, -4.761, -4.7105, -4.6102, -4.9493, -3.3465, -4.8046, -5.0421, -5.052, -5.0878, -5.0499, -5.6064, -5.6176, -5.6456, -5.7641, -5.8082, -5.7821, -5.8562, -6.0578, -5.9252, -5.5403, -6.2466, -6.3661, -6.4483, -6.4862, -6.4314, -6.5392, -6.6232, -6.5565, -6.2258, -6.7202, -6.686, -6.7671, -6.7715, -6.6539, -4.7394, -3.3082, -5.3119, -4.2807, -4.8466, -3.7251, -5.9501, -5.8883, -3.2909, -2.9362, -4.6078, -5.1552, -5.8331, -3.7076, -3.1252, -4.8795, -3.6376, -3.8959, -4.4565, -4.6487, -5.0575, -4.9805, -4.4945, -3.7026, -3.6013, -4.998, -4.9071, -4.4868, -3.8743, -4.3145, -4.1709, -4.7024, -4.2132, -4.6633, -4.5868, -4.7906, -4.9066, -2.2955, -5.2701, -5.6781, -4.9721, -6.3538, -6.381, -6.4075, -6.3668, -6.4766, -6.7924, -6.9531, -7.0561, -7.0718, -7.1321, -7.1715, -7.1799, -7.2503, -7.4098, -7.4091, -7.4114, -7.4103, -7.453, -7.5001, -7.5476, -3.8401, -7.414, -7.568, -7.5783, -7.5992, -7.5999, -2.4388, -6.8998, -5.7119, -6.3681, -6.9983, -6.264, -4.1634, -6.6271, -4.9761, -2.525, -2.757, -4.593, -2.546, -3.0509, -4.1621, -3.0176, -2.9783, -2.8122, -4.4325, -4.8347, -4.8196, -3.769, -3.6567, -4.469, -3.7246, -5.7591, -4.8003, -4.9329, -5.3354, -4.527, -4.6737, -5.3068, -5.3606, -3.8859, -4.0987, -4.9087, -4.9185, -4.5313, -5.1026, -5.1251, -5.229, -5.2292, -5.273, -5.3427, -5.4704, -5.6062, -5.6197, -5.1023, -5.7449, -5.7455, -5.8045, -5.7363, -4.4587, -5.8798, -5.891, -5.9522, -6.0432, -5.9452, -6.1151, -4.9191, -6.2173, -6.1534, -6.2417, -4.3536, -5.3849, -4.3015, -4.8645, -4.8752, -5.2589, -5.1139, -5.4803, -4.0411, -3.8343, -4.6591, -4.0551, -3.5542, -4.2192, -4.4326, -2.9571, -3.5098, -4.8838, -4.9216, -3.2682, -4.2055, -4.2067, -3.1058, -4.7694, -4.4612, -4.5336, -3.9581, -4.0868, -4.3967, -4.8115, -4.75, -4.8554, -4.2752, -4.62, -4.9239, -4.93, -4.8581, -5.2962, -5.4185, -4.2571, -5.4585, -5.5849, -5.7735, -5.6593, -5.8399, -5.1233, -5.9411, -6.0279, -6.0208, -6.1065, -6.0735, -6.1614, -6.1851, -6.0958, -6.2477, -6.2511, -6.2901, -6.3422, -6.3749, -5.9448, -6.4547, -6.4549, -4.2162, -3.4573, -4.6051, -5.7029, -3.2801, -4.792, -3.7485, -5.2909, -5.0835, -5.0611, -4.7038, -5.2888, -3.7232, -3.2495, -5.1531, -3.8206, -4.1706, -3.1603, -4.1865, -5.1458, -4.5374, -4.0578, -4.7118, -4.2549, -4.2833, -3.7478, -4.4638, -4.5329, -4.1161, -4.2677, -4.7156, -4.2485, -4.2456, -4.3571, -4.4189, -3.2934, -3.7833, -3.8909, -4.2256, -4.4521, -4.539, -4.5848, -4.8444, -5.0398, -5.2811, -5.3187, -5.4148, -5.5437, -5.5936, -5.624, -5.775, -5.8, -5.7777, -5.8187, -5.8133, -5.8479, -5.8641, -5.8814, -5.8948, -5.9193, -5.9658, -5.9688, -5.9722, -5.9619, -6.0063, -4.4605, -3.9392, -4.0547, -4.985, -4.9939, -3.2011, -4.7195, -4.7179, -4.8359, -5.2446, -4.4238, -3.2803, -3.991, -4.4244, -4.4132, -4.6465, -3.3508, -4.2728, -4.1049, -3.6625, -3.6859, -4.7425, -3.8446, -4.6868, -4.3854, -4.5996, -4.7819], \"loglift\": [30.0, 29.0, 28.0, 27.0, 26.0, 25.0, 24.0, 23.0, 22.0, 21.0, 20.0, 19.0, 18.0, 17.0, 16.0, 15.0, 14.0, 13.0, 12.0, 11.0, 10.0, 9.0, 8.0, 7.0, 6.0, 5.0, 4.0, 3.0, 2.0, 1.0, 1.6084, 1.6032, 1.595, 1.595, 1.5948, 1.5905, 1.5899, 1.5862, 1.5789, 1.5756, 1.5743, 1.5681, 1.5621, 1.5591, 1.5575, 1.5548, 1.5527, 1.5478, 1.5428, 1.5351, 1.5339, 1.5338, 1.5165, 1.5016, 1.4969, 1.4962, 1.4947, 1.492, 1.4894, 1.4781, 1.4702, 1.4186, 1.411, 1.348, 1.4012, 1.2519, 1.251, 1.1595, 1.0554, 1.282, 1.3086, 1.2617, 1.1984, 0.9171, 0.824, 1.2809, 0.7387, 1.1288, 1.1317, 0.8367, 0.4439, 0.2797, 0.425, 0.2244, 0.5083, -0.0039, 0.1175, 0.9335, 0.742, -0.1284, -0.2054, -0.7154, -0.5206, 0.5626, 1.6778, 1.6001, 1.5807, 1.548, 1.5343, 1.5307, 1.5307, 1.5097, 1.5048, 1.4987, 1.4862, 1.477, 1.4757, 1.4714, 1.4714, 1.4714, 1.4714, 1.4616, 1.4333, 1.4319, 1.4307, 1.4077, 1.3822, 1.3789, 1.3758, 1.3746, 1.3276, 1.2946, 1.2943, 1.2889, 1.2369, 1.0918, 1.107, 0.9816, 0.9528, 0.9383, 0.8728, 1.038, 0.6184, 0.1842, 0.7916, 0.6184, -0.0797, -0.0293, -0.0167, -0.0295, 0.3775, -0.5921, -0.8112, -0.6246, -0.0842, -1.3233, 1.8662, 1.8642, 1.8631, 1.8523, 1.8457, 1.8438, 1.8434, 1.8404, 1.8391, 1.8384, 1.8363, 1.8346, 1.8319, 1.8292, 1.8272, 1.8232, 1.8168, 1.8165, 1.812, 1.8059, 1.8035, 1.7945, 1.7945, 1.7943, 1.793, 1.7877, 1.7835, 1.7785, 1.7749, 1.7747, 1.7646, 1.761, 1.751, 1.7452, 1.7659, 1.5268, 1.7184, 1.5289, 1.4474, 1.548, 1.6318, 1.5359, 1.1351, 1.0556, 1.636, 0.9371, 1.2497, 1.0336, 1.3584, 1.3528, 0.6952, 0.6344, 0.8459, 0.8336, 0.6971, 1.0473, 0.8545, 0.8794, 1.1022, 1.0207, 0.7485, -0.1146, 0.1694, -0.212, -0.8141, -0.734, -0.7229, 2.5211, 2.5165, 2.5148, 2.5132, 2.5129, 2.5116, 2.5103, 2.5092, 2.5084, 2.5078, 2.5056, 2.5048, 2.5046, 2.5043, 2.5014, 2.4989, 2.4968, 2.4964, 2.4956, 2.4955, 2.4953, 2.4947, 2.4927, 2.4924, 2.491, 2.4908, 2.4888, 2.4867, 2.486, 2.4859, 2.48, 2.4705, 2.4652, 2.4652, 2.478, 2.4706, 2.444, 2.4558, 2.2547, 2.1716, 2.3961, 2.216, 2.2131, 2.0911, 2.2513, 2.3687, 1.9929, 1.8968, 1.9553, 1.4798, 1.7217, 2.0001, 2.0382, 1.8987, 1.7505, 1.7849, 1.376, -0.0339, 1.4177, 0.4401, 0.1935, 0.6069, 0.9152, 0.6442, -1.1507, 2.5144, 2.5136, 2.5124, 2.5114, 2.5106, 2.5097, 2.5073, 2.494, 2.4939, 2.4868, 2.4862, 2.484, 2.481, 2.4802, 2.4758, 2.4632, 2.4581, 2.4578, 2.4576, 2.4563, 2.4541, 2.4537, 2.4453, 2.437, 2.4359, 2.4259, 2.4181, 2.4133, 2.4096, 2.4014, 2.3843, 2.3411, 2.3447, 2.3498, 2.3308, 2.3685, 2.302, 2.0564, 2.2106, 2.0866, 2.286, 1.8795, 2.2211, 1.925, 1.4398, 2.0618, 1.7999, 0.9951, 1.811, 1.7977, 0.9313, 1.0977, 0.2796, 0.3072, 0.4316, 0.3054, 0.202, 0.0173, 1.2809, -0.2546, -0.3147, 0.7248, 0.11, -0.5803, 0.9368, 2.6343, 2.634, 2.6312, 2.6311, 2.6305, 2.6282, 2.6214, 2.6211, 2.6204, 2.6173, 2.6162, 2.6161, 2.6132, 2.6067, 2.6063, 2.599, 2.5984, 2.5926, 2.5914, 2.5894, 2.5877, 2.5852, 2.5811, 2.5805, 2.5781, 2.5751, 2.5745, 2.5707, 2.5706, 2.5654, 2.55, 2.5106, 2.5501, 2.5112, 2.5196, 2.4718, 2.5535, 2.5309, 2.2999, 2.2172, 2.3839, 2.4232, 2.5073, 1.929, 1.668, 2.2175, 1.6648, 1.7412, 1.7055, 1.6136, 1.8805, 1.7697, 1.2038, 0.2969, -0.1312, 1.7601, 1.5826, 0.8363, -0.3643, 0.2374, -0.1777, 1.0278, -0.3854, 0.4073, -0.5559, -1.0559, -1.3556, 2.6448, 2.6422, 2.6332, 2.6256, 2.6089, 2.6044, 2.6018, 2.6011, 2.6007, 2.5812, 2.5701, 2.5609, 2.5593, 2.5535, 2.5488, 2.5486, 2.5409, 2.5218, 2.5218, 2.5216, 2.5207, 2.5161, 2.5097, 2.5029, 2.5002, 2.5, 2.5, 2.4985, 2.4954, 2.495, 2.4687, 2.4713, 2.4059, 2.4241, 2.4583, 2.3432, 1.8408, 2.3403, 1.9698, 1.1191, 1.1183, 1.6354, 0.9527, 1.0756, 1.3641, 0.7629, 0.6117, 0.431, 1.0532, 1.2724, 1.255, 0.3924, 0.1885, 0.7424, -0.2146, 1.7463, 0.5344, 0.5824, 1.155, -0.0881, -0.6428, 0.5471, 0.3528, 2.7287, 2.7245, 2.7238, 2.7238, 2.7222, 2.7216, 2.7212, 2.7195, 2.7193, 2.7188, 2.7169, 2.7144, 2.7116, 2.7113, 2.7085, 2.7078, 2.7074, 2.7059, 2.7058, 2.7044, 2.7036, 2.7031, 2.7012, 2.6978, 2.697, 2.6949, 2.6912, 2.6904, 2.6895, 2.6893, 2.6759, 2.6786, 2.643, 2.6414, 2.6232, 2.616, 2.582, 2.6324, 2.3721, 2.3036, 2.4679, 2.3328, 2.1483, 2.1458, 2.2276, 1.5948, 1.8133, 2.3391, 2.3286, 0.7627, 1.6397, 1.5842, 0.3643, 2.0232, 1.209, 1.3243, -0.4481, -0.2415, 0.1713, 0.8256, -0.9695, 1.4737, 2.7661, 2.764, 2.7615, 2.7599, 2.7594, 2.7555, 2.753, 2.7525, 2.7522, 2.749, 2.7436, 2.7421, 2.7416, 2.7411, 2.738, 2.7348, 2.7347, 2.7315, 2.7299, 2.7285, 2.7281, 2.7269, 2.725, 2.7245, 2.723, 2.7203, 2.7185, 2.7148, 2.7139, 2.7137, 2.612, 2.5333, 2.5828, 2.6672, 2.4333, 2.5104, 2.1709, 2.4818, 2.4146, 2.3514, 2.2104, 2.4279, 1.7486, 1.3186, 2.2676, 1.4327, 1.5849, 0.685, 1.4838, 2.2066, 1.5363, 0.7355, 1.6028, 0.9193, 0.7676, -0.2491, 0.8532, 0.9506, -0.0852, 0.1712, 1.3479, -0.468, -1.0024, -0.887, -0.9089, 3.1279, 3.1271, 3.1246, 3.1236, 3.1213, 3.1201, 3.1196, 3.1155, 3.1109, 3.1059, 3.1049, 3.102, 3.0978, 3.0955, 3.0949, 3.0887, 3.0876, 3.0869, 3.0868, 3.0866, 3.0855, 3.0847, 3.0838, 3.0832, 3.0816, 3.0795, 3.0795, 3.0793, 3.0793, 3.0775, 3.0725, 3.0373, 2.8992, 2.9458, 2.9451, 2.6528, 2.8762, 2.8608, 2.881, 2.9494, 2.7466, 2.4181, 2.588, 2.7052, 2.6565, 2.6868, 1.9839, 1.7907, 0.946, -0.1925, -0.1759, 1.9115, -0.2547, 1.291, -0.6507, -0.6, -0.9366]}, \"token.table\": {\"Topic\": [8, 1, 3, 3, 6, 10, 3, 4, 6, 8, 9, 1, 3, 4, 5, 6, 8, 9, 10, 5, 6, 6, 4, 5, 6, 5, 6, 7, 10, 10, 7, 5, 9, 7, 3, 3, 8, 10, 4, 9, 4, 1, 6, 8, 4, 9, 1, 2, 3, 4, 5, 6, 7, 8, 9, 10, 9, 7, 1, 4, 5, 3, 6, 6, 6, 8, 1, 2, 3, 5, 7, 10, 1, 5, 10, 2, 1, 5, 10, 1, 2, 4, 5, 6, 1, 4, 5, 6, 10, 5, 1, 3, 4, 5, 8, 10, 1, 4, 5, 10, 4, 5, 9, 5, 6, 7, 1, 2, 6, 8, 8, 7, 1, 3, 4, 6, 8, 10, 6, 7, 10, 4, 6, 8, 3, 1, 3, 6, 8, 9, 2, 10, 1, 2, 3, 4, 5, 6, 7, 8, 9, 10, 1, 3, 4, 5, 6, 8, 9, 10, 1, 5, 10, 1, 2, 3, 4, 5, 6, 7, 8, 9, 10, 1, 4, 5, 9, 4, 5, 9, 3, 1, 5, 1, 4, 5, 6, 7, 9, 1, 5, 9, 3, 7, 6, 4, 5, 7, 1, 3, 5, 3, 9, 7, 1, 3, 2, 3, 8, 3, 8, 10, 1, 2, 3, 4, 5, 6, 7, 8, 9, 10, 1, 1, 4, 5, 6, 8, 9, 5, 4, 5, 9, 3, 4, 6, 9, 6, 7, 2, 8, 1, 9, 4, 5, 3, 3, 5, 9, 1, 4, 1, 8, 5, 8, 1, 4, 5, 9, 5, 2, 4, 9, 8, 8, 10, 3, 7, 8, 9, 4, 5, 2, 4, 6, 7, 5, 1, 3, 5, 6, 9, 10, 7, 1, 2, 3, 7, 10, 4, 1, 4, 6, 8, 9, 10, 2, 5, 7, 9, 1, 5, 7, 9, 3, 7, 9, 10, 10, 10, 6, 3, 4, 6, 8, 1, 2, 3, 5, 6, 7, 8, 9, 10, 1, 1, 10, 1, 1, 4, 2, 7, 1, 3, 6, 7, 8, 6, 1, 2, 3, 4, 5, 6, 7, 8, 9, 10, 3, 7, 10, 10, 8, 10, 1, 2, 3, 7, 8, 10, 2, 7, 8, 10, 1, 4, 6, 9, 3, 8, 10, 3, 8, 10, 5, 8, 1, 2, 3, 6, 7, 8, 9, 10, 7, 6, 3, 5, 6, 3, 6, 8, 9, 10, 4, 6, 8, 4, 1, 1, 1, 3, 4, 5, 8, 9, 9, 9, 9, 9, 10, 6, 4, 5, 10, 4, 8, 10, 4, 3, 8, 10, 2, 1, 3, 4, 5, 3, 8, 3, 4, 6, 8, 9, 10, 1, 10, 1, 3, 5, 6, 10, 2, 3, 6, 7, 8, 10, 1, 3, 4, 5, 6, 9, 10, 10, 10, 1, 3, 6, 8, 10, 1, 2, 3, 4, 6, 7, 8, 10, 1, 3, 4, 5, 6, 8, 9, 9, 4, 6, 8, 9, 7, 8, 10, 7, 2, 3, 5, 7, 9, 10, 3, 4, 6, 8, 9, 10, 2, 1, 5, 3, 6, 8, 10, 7, 6, 1, 3, 1, 3, 6, 3, 4, 4, 9, 3, 4, 5, 6, 7, 8, 9, 10, 9, 5, 4, 6, 3, 4, 7, 3, 4, 9, 8, 1, 3, 4, 5, 6, 7, 8, 9, 10, 2, 4, 5, 10, 3, 7, 10, 6, 8, 10, 10, 8, 3, 4, 9, 5, 8, 1, 3, 9, 10, 6, 9, 6, 9, 4, 6, 9, 3, 4, 5, 6, 8, 9, 1, 1, 8, 4, 6, 8, 2, 4, 7, 10, 10, 1, 6, 10, 4, 1, 2, 3, 4, 5, 6, 7, 8, 9, 10, 5, 3, 4, 6, 8, 9, 10, 3, 5, 6, 8, 10, 1, 2, 3, 5, 6, 7, 8, 9, 10, 2, 6, 6, 1, 2, 5, 7, 10, 5, 1, 2, 8, 9, 7, 1, 3, 4, 5, 6, 9, 10, 6, 5, 10, 4, 1, 3, 9, 7, 7, 2, 7, 9, 2, 7, 9, 9, 9, 1, 4, 5, 9, 2, 3, 8, 10, 3, 6, 10, 1, 6, 8, 1, 3, 5, 6, 7, 8, 9, 10, 1, 3, 5, 6, 9, 10, 3, 9, 9, 3, 4, 10, 4, 6, 9, 5, 4, 3, 1, 1, 3, 4, 5, 6, 7, 8, 9, 10, 5, 7, 8, 9, 5, 7, 1, 3, 6, 8, 10, 1, 2, 7, 4, 6, 1, 2, 5, 7, 9, 10, 2, 1, 5, 6, 8, 10, 8, 3, 4, 6, 8, 9, 3, 3, 1, 3, 7, 8, 9, 1, 2, 5, 7, 9, 1, 2, 3, 4, 5, 6, 7, 8, 9, 2, 7, 4, 1, 2, 3, 4, 5, 6, 7, 8, 9, 10, 3, 1, 2, 5, 6, 7, 8, 10, 7, 3, 8, 10, 5, 1, 3, 8, 10, 6, 3, 4, 8, 9, 1, 3, 4, 5, 6, 8, 9, 10, 7, 7, 8, 4, 6, 8, 10, 10, 9, 4, 4, 7, 3, 1, 3, 4, 6, 8, 9, 10, 8, 6, 5, 9, 1, 3, 10, 10, 1, 3, 4, 5, 6, 7, 8, 9, 10, 4, 4, 1, 2, 3, 4, 5, 6, 7, 8, 10, 3, 8, 1, 2, 3, 4, 5, 6, 7, 8, 9, 10, 1, 3, 2, 2, 4, 4, 9, 3, 4, 5, 8, 9, 10, 1, 3, 4, 5, 6, 8, 9, 1, 2, 3, 4, 5, 6, 7, 8, 9, 10, 6, 1, 1, 5, 10, 7, 4, 4, 9, 4, 6, 9, 3, 1, 3, 4, 5, 6, 7, 8, 9, 9, 7, 1, 3, 6, 8, 9, 10, 3, 1, 2, 3, 4, 6, 7, 8, 9, 10, 9, 6, 6, 5, 4, 7, 10, 3, 8, 1, 7, 8, 1, 4, 6, 1, 3, 4, 5, 6, 8, 9, 3, 8, 3, 7, 7, 1, 3, 4, 6, 9, 1, 2, 3, 5, 7, 8, 10, 1, 2, 4, 6, 7, 9, 10, 3, 8, 8, 10, 1, 2, 7, 2, 1, 3, 4, 5, 6, 8, 9, 10, 10, 6, 2, 2, 1, 5, 7, 6, 7, 7, 9, 4, 4, 6, 6, 4, 3, 8, 10, 6, 6, 4, 3, 4, 1, 2, 3, 7, 9, 10, 1, 2, 3, 6, 7, 9, 1, 3, 8, 4, 6, 5, 8, 7, 1, 3, 6, 8, 1, 6, 9, 3, 4, 6, 7, 9, 10, 1, 3, 4, 7, 8, 9, 3, 8, 3, 8, 10, 1, 3, 8, 10, 5, 1, 5, 6, 7, 9, 4, 5, 8, 10, 8, 4, 6, 8, 9, 4, 9, 4, 6, 3, 4, 10, 3, 1, 2, 1, 2, 5, 7, 10, 1, 4, 5, 6, 8, 9, 4, 6, 8, 9, 3, 4, 6, 8, 9, 1, 2, 3, 4, 5, 6, 7, 9, 5, 2, 7, 9, 5, 9, 8, 10, 3, 6, 1, 4, 6, 9, 5, 4, 4, 4, 4, 5, 6, 1, 5, 2, 3, 3, 5, 2, 3, 8, 10, 1, 3, 10, 1, 3, 5, 7, 8, 9, 1, 8, 4, 5, 6, 8, 9, 10, 2, 6, 1, 2, 8, 10, 7, 4, 9, 3, 8, 9, 3, 4, 6, 9, 4, 6, 9, 6, 1, 4, 9, 5, 5, 10, 3, 6, 7, 9, 2, 6, 9, 1, 3, 4, 5, 6, 7, 9, 5, 1, 3, 4, 6, 8, 9, 3, 8, 2, 6, 7, 8, 1, 7], \"Freq\": [0.9748148115331721, 0.9108192776590687, 0.9345496190544226, 0.9536004263204833, 0.007224245653943055, 0.036121228269715276, 0.013063480831806574, 0.5356027141040696, 0.13934379553927012, 0.20030670608770082, 0.10886234026505479, 0.310669828767365, 0.2866875261217256, 0.07722741494146254, 0.10825039359316117, 0.06226597842858661, 0.09328895708028524, 0.02574247164715418, 0.03586344340586437, 0.045591905306104415, 0.9574300114281926, 0.9572906082907082, 0.02005465146247202, 0.060163954387416056, 0.9124866415424768, 0.026776256071589837, 0.8032876821476951, 0.160657536429539, 0.9650969208213932, 0.9662847661932964, 0.9384543183988205, 0.017818796194350613, 0.9622149944949331, 0.9194383788021079, 0.9776058830237799, 0.8782338007255871, 0.053769416370954316, 0.053769416370954316, 0.24388195600702914, 0.7479046650882227, 0.979391043981638, 0.6175426694505697, 0.35544607136980466, 0.021542186143624523, 0.015159331116677284, 0.9777768570256848, 0.09733727185669613, 0.07876634498930016, 0.4367369697780708, 0.006403767885308956, 0.0810076637491583, 0.02337375278137769, 0.08452973608607822, 0.0509099546882062, 0.12359272018646285, 0.016969984896068734, 0.9435382901326537, 0.9751739282018532, 0.2078858988894513, 0.7311848857491046, 0.05376359454037534, 0.9040927235384494, 0.08693199264792782, 0.9909675825028639, 0.9724364263228038, 0.9806809344901819, 0.7026318312301706, 0.050792662498566545, 0.004232721874880546, 0.050792662498566545, 0.03809449687392491, 0.1481452656208191, 0.01754659513552203, 0.8188411063243612, 0.15791935621969824, 0.7451345133230265, 0.11844260120226482, 0.8685790754832753, 0.013160289022473869, 0.27936169772624886, 0.002712249492487853, 0.07051848680468417, 0.6428031297196212, 0.005424498984975706, 0.41145567259281746, 0.008754376012613137, 0.4814906806937226, 0.021885940031532845, 0.0700350081009051, 0.9205069210936068, 0.235428498317982, 0.003363264261685457, 0.07399181375708005, 0.544848810393044, 0.006726528523370914, 0.13116730620573283, 0.09596012956738188, 0.008723648142489262, 0.6281026662592268, 0.26170944427467785, 0.019924050886643827, 0.8965822898989723, 0.0796962035465753, 0.031037703025393604, 0.9000933877364145, 0.06207540605078721, 0.5423285806979865, 0.055207101029136355, 0.38969718373508017, 0.009742429593377004, 0.9319467974305923, 0.9119749943234025, 0.696032562638373, 0.09401747033459504, 0.08036977302796028, 0.06520566490947721, 0.06217284328578059, 0.9690280703783106, 0.8604989673371254, 0.08604989673371254, 0.9689530113857375, 0.9623962826718554, 0.022381308899345476, 0.9610621675396849, 0.9510562709530695, 0.5321904653546736, 0.029241234360146907, 0.41522552791408607, 0.017544740616088142, 0.9625914560723804, 0.77314584725031, 0.9248941375699561, 0.16223967016281812, 0.009652703487947988, 0.38796442865021724, 0.02450301654632951, 0.33635959077234145, 0.05940125223352608, 0.002970062611676304, 0.001113773479378614, 0.008167672182109837, 0.007796414355650298, 0.17522628050363437, 0.4729988723189789, 0.023537858575115065, 0.20212669030376587, 0.09564590151157867, 0.0003736168027796042, 0.005977868844473667, 0.02391147537789467, 0.03924226193012562, 0.941814286323015, 0.9857051030533438, 0.4542552696593237, 0.45353953131427227, 0.02505084207680094, 0.010736075175771832, 0.010258916279070862, 0.018370617522987357, 0.005248747863710674, 0.012406131314225228, 0.0004771588967009703, 0.009781757382369891, 0.02470825848247101, 0.03706238772370652, 0.2347284555834746, 0.6918312375091883, 0.05909297074328657, 0.029546485371643286, 0.8863945611492986, 0.9434371325861457, 0.1669773537580621, 0.8291289290055498, 0.008294513578274843, 0.157595757987222, 0.0020736283945687107, 0.020736283945687106, 0.09953416293929811, 0.7112545393370677, 0.15397183421448787, 0.8346894170574869, 0.9757245580164846, 0.08757733150723128, 0.7881959835650816, 0.9670974231399772, 0.026392113661791863, 0.9765082054862989, 0.913710475532937, 0.6605298128283837, 0.13555649143866083, 0.20456706889834272, 0.9663529257431571, 0.9663384727598322, 0.877230238708814, 0.889104462972383, 0.9448836871133643, 0.7786610440064028, 0.08715332533725056, 0.9088846785170417, 0.08902473817470323, 0.22256184543675808, 0.6765880101277445, 0.2492847359461986, 0.473765020554467, 0.06722006312579087, 0.009921780535172084, 0.019595516556964867, 0.008433513454896272, 0.1289831469572371, 0.0014882670802758126, 0.007689379914758365, 0.03373405381958509, 0.8439153120377163, 0.005095973824299557, 0.32869031166732143, 0.005095973824299557, 0.08917954192524224, 0.02293188220934801, 0.5452691992000526, 0.8778043516204569, 0.9840989218407075, 0.9422372277726528, 0.9689595782167993, 0.9072557507367064, 0.14125389521115086, 0.8407969953044695, 0.013452751924871512, 0.972197714362747, 0.9253107401183215, 0.9242901450567785, 0.9481700300306689, 0.9632680348188783, 0.9716696270496569, 0.9744182355526043, 0.010045548820129941, 0.980655516888079, 0.9680128339443994, 0.8436506169848946, 0.13773887624243178, 0.017614900061160725, 0.9688195033638399, 0.9869879248410204, 0.9634208078690941, 0.9168628911944176, 0.9891688895180485, 0.015621573992609964, 0.04686472197782989, 0.7967002736231081, 0.14059416593348967, 0.888131230990153, 0.904082519007719, 0.9851677150880206, 0.9555189597559517, 0.9815034297163242, 0.969629788509856, 0.9728545014808139, 0.9541802407379257, 0.8302350950546535, 0.7671865882038034, 0.230155976461141, 0.9451665793184079, 0.04458332921313245, 0.09145596134185648, 0.024388256357828392, 0.8779772288818222, 0.9294697625254774, 0.8723158983281605, 0.46015638556947547, 0.35765709589286243, 0.021808359505662345, 0.1068609615777455, 0.03925504711019222, 0.01526585165396364, 0.8141213351870185, 0.12841235274383256, 0.4997669944624834, 0.0034706041282116904, 0.35747222520580413, 0.006941208256423381, 0.9914873718918925, 0.8663680740434162, 0.03179332381810702, 0.06517631382711939, 0.03497265619991772, 0.0015896661909053508, 0.9870185509188731, 0.7846715300060313, 0.000989913620697264, 0.21415131327750814, 0.9583427588739274, 0.14951318978872072, 0.17087221690139512, 0.10679513556337195, 0.5660142184858713, 0.4576195584225849, 0.44097884720721814, 0.08875045981528919, 0.011093807476911148, 0.9932527237832938, 0.9868445217340531, 0.9852254708820505, 0.9394598907751309, 0.8481980530025657, 0.13141096595814397, 0.9508711291239473, 0.5723461176975118, 0.16393201062144236, 0.12302767015927824, 0.061671159466032056, 0.04845591100902519, 0.001887892636715267, 0.012900599684220991, 0.0003146487727858778, 0.015417789866508014, 0.9966932565765816, 0.9402027850241226, 0.025410886081733045, 0.9636081978331519, 0.95073324766001, 0.02318861579658561, 0.7956929258369283, 0.8287690661508532, 0.08828252414717883, 0.5872707041094939, 0.0038383706150947315, 0.03454533553585258, 0.2840394255170101, 0.9894313397258663, 0.22398218556552224, 0.09830543428435141, 0.3053251135419856, 0.03353950110877872, 0.05821223755661594, 0.04086421974173039, 0.03662359316475837, 0.13878414251908436, 0.057055703035623566, 0.007324718632951675, 0.03838037719617781, 0.012793459065392603, 0.9467159708390527, 0.9632157086888253, 0.08066536309454568, 0.9093186385203331, 0.0014199763622824795, 0.5367510649427772, 0.018459692709672234, 0.11927801443172828, 0.005679905449129918, 0.3166547287889929, 0.330166373134221, 0.03449499420805294, 0.05420641946979748, 0.5814870452214639, 0.030095209831251447, 0.1805712589875087, 0.0027359281664774047, 0.7852113837790151, 0.028925213610080405, 0.6652799130318493, 0.29889387397083084, 0.29058713173906064, 0.05128008207159894, 0.6495477062402532, 0.9741251136616941, 0.9661067647709066, 0.1455697190698669, 0.06681888744190612, 0.011931944186054663, 0.0023863888372109327, 0.12170583069775756, 0.021477499534898394, 0.011931944186054663, 0.6180747088376316, 0.9360335380476649, 0.8980020649096653, 0.9535469724327268, 0.011074877728603098, 0.0343321209586696, 0.9548425922302608, 0.0016491236480660808, 0.021438607424859053, 0.004947370944198243, 0.01649123648066081, 0.9463313626735065, 0.9861613864220033, 0.9629585779917893, 0.9688738575323735, 0.9126570407707547, 0.8952598610571552, 0.2161253699765607, 0.006451503581389872, 0.035483269697644294, 0.4806370168135455, 0.11935281625571263, 0.13870732699988225, 0.9556711952963914, 0.9192581780764882, 0.9884470150793483, 0.9877731499384544, 0.9900621235410764, 0.9543077723267168, 0.9157217394279848, 0.01144652174284981, 0.05723260871424905, 0.9695884535911642, 0.2276450634284099, 0.7632805067893744, 0.9846667847235402, 0.3093785384019457, 0.6676063197094617, 0.020353851210654323, 0.7451345133230265, 0.07864321836869048, 0.03932160918434524, 0.8781826051170437, 0.9623843191294933, 0.005106633234269411, 0.9906868474482659, 0.1752943798198238, 0.0053119509036310235, 0.09561511626535843, 0.3559007105432786, 0.06905536174720331, 0.29215729969970633, 0.9832123911456823, 0.016332431746606018, 0.7187799820582712, 0.013822691962659062, 0.08754371576350739, 0.050683203863083226, 0.12901179165148458, 0.05072358157487481, 0.16485164011834313, 0.025361790787437406, 0.08876626775603091, 0.6467256650796538, 0.01902134309057805, 0.24721991786287534, 0.020601659821906277, 0.02648784834245093, 0.1942442211779735, 0.005886188520544651, 0.2413337293423307, 0.261935389164237, 0.9802794849207043, 0.9345004417606185, 0.6350108450982972, 0.3540593294268336, 0.008458755310538687, 0.0006041968078956205, 0.001208393615791241, 0.6966335022538576, 0.09497052473594748, 0.1800597231987906, 0.0005489625707280201, 0.023056427970576845, 0.0027448128536401006, 0.0010979251414560403, 0.0005489625707280201, 0.04743145672886146, 0.0013950428449665136, 0.7017065510181564, 0.0013950428449665136, 0.06696205655839266, 0.036271113969129354, 0.14647949872148391, 0.9491169538928058, 0.9773806449314264, 0.010740446647598092, 0.005370223323799046, 0.9745026901397786, 0.9669693528775042, 0.21793087547333156, 0.7763787438737437, 0.8290145000937943, 0.7770132698612721, 0.042679242609504446, 0.005021087365824052, 0.14686680545035352, 0.026360708670576275, 0.001255271841456013, 0.3663632185980305, 0.018247976405265886, 0.164231787647393, 0.3972444094377112, 0.008422142956276564, 0.046321786259521096, 0.8452285967925325, 0.0304915127898866, 0.9681055310788995, 0.31001830743436104, 0.005345143231626914, 0.5986560419422144, 0.08017714847440371, 0.8449752940269785, 0.9357680995504271, 0.8472185550047713, 0.939330178925538, 0.21591842366333464, 0.007445462884942574, 0.7668826771490851, 0.9562307213753911, 0.9746085159030435, 0.14541561517419282, 0.8472040188409494, 0.3496098645183904, 0.050792376543237844, 0.2387901338785987, 0.02176816137567336, 0.02176816137567336, 0.07651838544176091, 0.23285336259432415, 0.006596412538082837, 0.9936588880433956, 0.9816833659964835, 0.1221162174822946, 0.875550238552301, 0.8781118618636335, 0.039914175539256073, 0.039914175539256073, 0.8790943309349184, 0.16307496789703974, 0.8244345599239231, 0.9885483943517257, 0.09739811133059624, 0.6997590498573194, 0.020291273193874217, 0.004638005301456964, 0.028407782471423906, 0.06435232355771538, 0.009276010602913928, 0.07420808482331143, 0.002319002650728482, 0.7451345133230265, 0.7568356632266602, 0.017465438382153697, 0.22122888617394684, 0.22473263299994614, 0.7116533378331628, 0.9341678238933174, 0.9581142592866408, 0.20074555967910696, 0.7886432701679202, 0.9912049966012637, 0.9846947165030645, 0.03772743792161306, 0.9431859480403265, 0.01886371896080653, 0.8868234575379168, 0.9800736917834876, 0.815809676237133, 0.008104069631494699, 0.01350678271915783, 0.1593800360860624, 0.9066051123043224, 0.07110628331798607, 0.9117296249601446, 0.06753552777482554, 0.2972865575183818, 0.09147278692873285, 0.6060072134028551, 0.07270977618662494, 0.3511551690831318, 0.04792235248663917, 0.3767688402397838, 0.021482433873321004, 0.12972085069659223, 0.9460889851435987, 0.9202243624544169, 0.9611296480188681, 0.3262433613392937, 0.1193573273192538, 0.553022283245876, 0.9492404872740261, 0.035596518272775976, 0.9908000771051797, 0.9439860758859354, 0.9953655143711664, 0.2716722789009343, 0.23694725077073972, 0.4881930425362655, 0.9688332642268461, 0.49852756230941897, 0.32938940143388296, 0.07281541163116298, 0.023507337613210097, 0.005446822129890144, 0.02465403700897644, 0.004873472432006971, 0.01662714123861202, 0.001146699395766346, 0.022647313066385337, 0.9798093172672001, 0.0402482235428468, 0.00804964470856936, 0.2656382753827889, 0.01609928941713872, 0.04829786825141616, 0.6198226425598407, 0.7083938544114764, 0.005903282120095637, 0.005903282120095637, 0.24793784904401672, 0.029516410600478184, 0.4171194506815696, 0.42482248762859764, 0.0739491546914694, 0.04467761429276276, 0.0011554555420542094, 0.008088188794379465, 0.017716984978164544, 0.00500697401556824, 0.007703036947028062, 0.6412103793127552, 0.9526090202645061, 0.9688516781985317, 0.41782272796815895, 0.17505616270602706, 0.1651473233075727, 0.19982826120216296, 0.041286830826893176, 0.9306181456068309, 0.5002969814388751, 0.006101182700474088, 0.488094616037927, 0.9833153686002243, 0.9619263201941627, 0.18816353112671078, 0.010691109723108567, 0.022451330418527992, 0.5217261544876981, 0.00962199875079771, 0.13470798251116795, 0.11225665209263996, 0.9789569566179824, 0.979706838399331, 0.9616440170006859, 0.9797334284328566, 0.9836325405751668, 0.8926997310497257, 0.08369059978591177, 0.9589426264011074, 0.79302837059605, 0.17228759225444323, 0.8262394209191579, 0.0009262773777120604, 0.008614529328853888, 0.985885023191056, 0.004785849627141048, 0.9919543764232437, 0.9193018892084059, 0.04760391145280669, 0.09886966224813697, 0.8275756914103317, 0.02563287539766514, 0.7867861537871655, 0.12300462511005957, 0.09225346883254466, 0.7841544850766297, 0.8869489480205919, 0.08513471577859084, 0.026314366695200805, 0.9626331370944703, 0.021273660488275586, 0.014182440325517057, 0.00450992269258881, 0.4915815734921802, 0.04058930423329928, 0.03607938154071048, 0.22098621193685164, 0.1939266757813188, 0.00901984538517762, 0.00901984538517762, 0.11673917152820766, 0.5914784690762521, 0.11284786581060074, 0.01945652858803461, 0.11284786581060074, 0.050586974328889985, 0.7816248705885971, 0.20390214015354705, 0.9571067083008292, 0.023608579833417645, 0.9364736667255665, 0.031478106444556855, 0.4474337647850724, 0.48968072970040116, 0.06337044737299309, 0.9692069181895345, 0.9453015939325784, 0.8988169334391534, 0.9637408022135394, 0.9077783023999604, 0.11691989644432844, 0.03692207256136688, 0.13127848021819336, 0.012307357520455626, 0.08204905013637084, 0.5538310884205032, 0.05743433509545959, 0.008204905013637085, 0.03881438974204792, 0.8539165743250542, 0.09703597435511979, 0.003881438974204792, 0.02729770811131182, 0.9690686379515696, 0.45158408361846314, 0.07761601437192335, 0.46569608623154013, 0.15235761823640276, 0.8379669003002153, 0.11859182656439747, 0.7774353074777167, 0.1036580409970289, 0.008127777169707523, 0.9888795556477487, 0.22401190300872328, 0.18667658584060276, 0.16178637439518906, 0.3982433831266192, 0.01244510572270685, 0.964347653413125, 0.8782994304071968, 0.8076809617705933, 0.014552810121992672, 0.13825169615893038, 0.036382025304981684, 0.007276405060996336, 0.9419461045915914, 0.5296519430258044, 0.1914404613346281, 0.08083041700795408, 0.0999744631414169, 0.09572023066731405, 0.9696084769772124, 0.9598776573886665, 0.9768824344403879, 0.7159529918283132, 0.031820132970147255, 0.0031820132970147253, 0.24819703716714858, 0.0005237113175479974, 0.6695649194851147, 0.10814638707366146, 0.21419792887713093, 0.007070102786897965, 0.006339696980256093, 0.647554762983301, 0.0006792532478845815, 0.011320887464743024, 0.09758604994608486, 0.0011320887464743024, 0.18136061718518323, 0.005434025983076652, 0.048679816098395, 0.7944597435192093, 0.20529552368568998, 0.9728291624823046, 0.30490811296562104, 0.21337565779385487, 0.13564809750045345, 0.0018006384623953998, 0.12274352185328642, 0.004201489745589266, 0.15005320519961665, 0.02460872565273713, 0.039013833351900326, 0.003901383335190033, 0.930276417443479, 0.48820727857691865, 0.10524228759741959, 0.2864928940151978, 0.046774350043297594, 0.011693587510824398, 0.011693587510824398, 0.0496977469210037, 0.8444371416946441, 0.0900453767343154, 0.8824446919962909, 0.9419940744108615, 0.9381565419543787, 0.15716927590842286, 0.07334566209059733, 0.1257354207267383, 0.6391550553609197, 0.9331775560434499, 0.2824986775157313, 0.0757923281139767, 0.06890211646725154, 0.5649973550314626, 0.004543573263056225, 0.42709588672728516, 0.09671320231362536, 0.007788982736667814, 0.09022238336640219, 0.31869921030865805, 0.02077062063111417, 0.03310317663083821, 0.8809170118309925, 0.016889719408759066, 0.9796037257080259, 0.09033795420081094, 0.03011265140027031, 0.8582105649077039, 0.015056325700135155, 0.9287763215902317, 0.9885107807162531, 0.9626822879610243, 0.18026808002880917, 0.8112063601296412, 0.9895400997315257, 0.0016284766936816145, 0.01465629024313453, 0.5862516097253813, 0.003256953387363229, 0.003256953387363229, 0.3582648726099552, 0.030941057179950677, 0.9859911541074861, 0.9372175280595482, 0.9401443145604583, 0.9447708461156588, 0.9864881376454049, 0.1486520352064927, 0.842361532836792, 0.9755749549263327, 0.1430991870580897, 0.6465147887086001, 0.02715215344179138, 0.01614452366809217, 0.055771990853409316, 0.024950627487051538, 0.04623204504953667, 0.009539945803872647, 0.030821363366357782, 0.9907471913549204, 0.9742146164199087, 0.5055772546913203, 0.028753208797610636, 0.07188302199402659, 0.028753208797610636, 0.021564906598207978, 0.021564906598207978, 0.019168805865073756, 0.2444022747796904, 0.05750641759522127, 0.09886205249314736, 0.8897584724383262, 0.1985310206269299, 0.04717115368990492, 0.3045516233377356, 0.02518848012567738, 0.21547599816602198, 0.04923202933655125, 0.05655958719129376, 0.041446499115887325, 0.02518848012567738, 0.03663778927371256, 0.9500995995031495, 0.0448865952521173, 0.7867861537871655, 0.7451345133230265, 0.9692443556220194, 0.9575392156884821, 0.015444180898201324, 0.07443163126750026, 0.7325639498432921, 0.10185381120815826, 0.04309199704960542, 0.007834908554473712, 0.035257088495131705, 0.004731752927121246, 0.2791734227001535, 0.22002651111113794, 0.018927011708484983, 0.13485495842295553, 0.33358858136204783, 0.009463505854242492, 0.26358730534044267, 0.46018169608338094, 0.01999264990606152, 0.007716461367251815, 0.10539984731178047, 0.010522447318979748, 0.10767971089755941, 0.0019291153418129537, 0.02279863585778945, 0.00017537412198299579, 0.9235253503452473, 0.9523838915057747, 0.019092828681118987, 0.7828059759258785, 0.19092828681118987, 0.8566756920489356, 0.9935044493786371, 0.9494381538105193, 0.038752577706551807, 0.4766863500826339, 0.2118606000367262, 0.31022445005377763, 0.928046757397974, 0.2701055558598493, 0.09731744292009276, 0.003972140527350725, 0.13306670766624928, 0.0019860702636753623, 0.0019860702636753623, 0.2164816587406145, 0.27407769638720003, 0.9441305247342702, 0.8865935719940339, 0.320531162358594, 0.43229531765468276, 0.19822321882702526, 0.0021087576470960132, 0.0316313647064402, 0.012652545882576081, 0.9064692740130491, 0.3310527271234047, 0.5288686277248642, 0.016994493178819545, 0.02379229045034736, 0.0333092066304863, 0.004758458090069472, 0.04690480117354194, 0.013595594543055634, 0.0006797797271527817, 0.9690288153583966, 0.9855165365394447, 0.9501555719090451, 0.9288798069238232, 0.05759839035222459, 0.09599731725370764, 0.8255769283818858, 0.0096736523713779, 0.9867125418805459, 0.9411791251255305, 0.039215796880230434, 0.9716262922847082, 0.8238269779651125, 0.17236995231270047, 0.002534852239892654, 0.7667543191678838, 0.005943831931533984, 0.12397135171485166, 0.08915747897300975, 0.007642069626257978, 0.0008491188473619976, 0.005094713084171986, 0.027643686727883945, 0.9537071921119961, 0.18368680954445085, 0.7806689405639161, 0.8070151772093878, 0.14213415032910218, 0.005922256263712592, 0.14687195534007227, 0.6526326402611276, 0.0521158551206708, 0.09187170164419488, 0.08963092843336086, 0.421265363636796, 0.01568541247583815, 0.04929701063834847, 0.315949022727597, 0.01568541247583815, 0.010206059639122607, 0.7246302343777051, 0.0527313081354668, 0.08334948705283463, 0.12587473554917883, 0.0017010099398537678, 0.9536588577012445, 0.006291072352390108, 0.987698359325247, 0.9819971611271461, 0.9314800679414014, 0.7171794705295035, 0.26192641532381866, 0.01870902966598705, 0.6528103407531373, 0.0016477439092449477, 0.0016477439092449477, 0.6475633563332645, 0.12522853710261603, 0.051080061186593376, 0.011534207364714633, 0.16147890310600488, 0.9767640914662967, 0.9590013323337925, 0.9423577528289778, 0.7674070188818705, 0.6503724863418652, 0.7380018150482275, 0.2134715993941154, 0.04269431987882308, 0.08040457329821707, 0.8040457329821706, 0.951906761905841, 0.9825930662095795, 0.987205296707301, 0.9809343869215407, 0.9518951088100466, 0.9612776140900614, 0.969260690093166, 0.08522833780901506, 0.9091022699628274, 0.968149882018762, 0.9738110790272307, 0.9846108591781443, 0.9928586321198563, 0.9431546544322487, 0.9897373389565749, 0.6148181246645834, 0.009222271869968752, 0.06455590308978126, 0.2490013404891563, 0.05533363121981251, 0.0030740906233229174, 0.34906255500714733, 0.17195199754046667, 0.036109919483498, 0.03439039950809333, 0.273403676089342, 0.13240303810615933, 0.0041750830745729646, 0.2964308982946805, 0.6930637903791121, 0.02345800768183571, 0.9617783149552641, 0.8914763787753669, 0.9929217573882967, 0.8443714827779281, 0.9425545604635029, 0.016250940697646602, 0.032501881395293204, 0.0040627351744116505, 0.8769303912080785, 0.051584140659298734, 0.9745417488011371, 0.27703758467633127, 0.1886213342477149, 0.41260916866687636, 0.017683250085723273, 0.08841625042861637, 0.011788833390482182, 0.03734381620833071, 0.00800224633035658, 0.7628808168273273, 0.002667415443452193, 0.005334830886904386, 0.18405166559820135, 0.054124627932691266, 0.9433149439697621, 0.008837543492934983, 0.963292240729913, 0.017675086985869965, 0.08443982731134743, 0.2064084667610715, 0.6755186184907794, 0.01876440606918832, 0.9217440238964285, 0.40265261327529517, 0.4872096620631071, 0.02818568292927066, 0.020132630663764757, 0.06039789199129427, 0.017335341042041957, 0.7280843237657622, 0.034670682084083915, 0.19068875146246153, 0.9627830419726338, 0.6115181342811116, 0.16065306917554625, 0.02591178535089456, 0.19692956866679864, 0.2767173036372943, 0.7071664426286409, 0.937551956671316, 0.06356284452008922, 0.8655807204725868, 0.0196722891016497, 0.0983614455082485, 0.9059767942769087, 0.8844216901998125, 0.09561315569727703, 0.029397179144596334, 0.6114613262076037, 0.10582984492054681, 0.08231210160486974, 0.16462420320973947, 0.25098350076119713, 0.4590356132342947, 0.1486086517664983, 0.049536217255499435, 0.039628973804399545, 0.05283863173919939, 0.31702015032358183, 0.4054015255653076, 0.1479427368176715, 0.12872939437381806, 0.05839867885998263, 0.5320768518353973, 0.0778649051466435, 0.0259549683822145, 0.3049708784910204, 0.47314335109914996, 0.1636659390594544, 0.02083021042574874, 0.0029757443465355344, 0.0773693530099239, 0.008927233039606604, 0.24698678076244937, 0.005951488693071069, 0.9328598695363793, 0.22681913375916904, 0.11340956687958452, 0.6577754879015902, 0.9135229042805081, 0.9659563962683192, 0.8908534646212681, 0.0685271895862514, 0.84247921451676, 0.13163737726824376, 0.1337885437395663, 0.5648849624559467, 0.008919236249304421, 0.28838863872750964, 0.9132814598891085, 0.974023875848323, 0.9816739452892929, 0.9537530018220339, 0.0064267530302537, 0.7262230924186681, 0.257070121210148, 0.042185813555912645, 0.9562117739340199, 0.8424233620619288, 0.9261229169290244, 0.9133756147544847, 0.07117212582502477, 0.8394347199133595, 0.777993497445889, 0.17482999942604247, 0.034965999885208494, 0.9846649255540226, 0.013216978866496948, 0.9580656936625671, 0.01963318123386838, 0.7015590094235634, 0.014397666238170145, 0.0013088787489245587, 0.0013088787489245587, 0.26177574978491175, 0.9194926575317024, 0.9885581085854093, 0.19995717364256044, 0.00183446948295927, 0.7081052204222783, 0.01100681689775562, 0.062371962420615185, 0.01651022534663343, 0.8607393577143367, 0.9862390467646274, 0.832464479502427, 0.6381123335658266, 0.2297204400836976, 0.10209797337053227, 0.8460836838028302, 0.9417073758892901, 0.04280488072224046, 0.04349196809576202, 0.9350773140588835, 0.9755917694954268, 0.01802771121999179, 0.5904075424547311, 0.34703344098484196, 0.045069278049979476, 0.09744322329601494, 0.8878160344748028, 0.010827024810668327, 0.9811581556611143, 0.14223287090626208, 0.07111643545313104, 0.7721212992054227, 0.9341540467407676, 0.9901899176829146, 0.9487151459630282, 0.08272018851399258, 0.6534894892605414, 0.1406243204737874, 0.11580826391958962, 0.6457475452995647, 0.03946877234177565, 0.9472505362026156, 0.12939441502923316, 0.0012092935984040483, 0.041115982345737635, 0.6227862031780849, 0.04474386314094978, 0.0036278807952121444, 0.15599887419412223, 0.9852064868357316, 0.02062245103619704, 0.32171023616467376, 0.15260613766785808, 0.3753286088587861, 0.028871431450675854, 0.10173742511190538, 0.8945921052256804, 0.9844221488756056, 0.3911585159490728, 0.06400775715530282, 0.5049500842251667, 0.03555986508627934, 0.21477549191771453, 0.7517142217120009], \"Term\": [\"Abdomen\", \"Accessory fruit\", \"Action figure\", \"Action film\", \"Action film\", \"Action film\", \"Adaptation\", \"Adaptation\", \"Adaptation\", \"Adaptation\", \"Adaptation\", \"Advertising\", \"Advertising\", \"Advertising\", \"Advertising\", \"Advertising\", \"Advertising\", \"Advertising\", \"Advertising\", \"Aerospace engineering\", \"Aerospace engineering\", \"Afterglow\", \"Air travel\", \"Air travel\", \"Air travel\", \"Aircraft\", \"Aircraft\", \"Aircraft\", \"Alcohol\", \"Alcoholic beverage\", \"Ammunition\", \"Ancient history\", \"Ancient history\", \"Animal figure\", \"Animated cartoon\", \"Animation\", \"Animation\", \"Animation\", \"Annual plant\", \"Annual plant\", \"Apartment\", \"Aqua\", \"Aqua\", \"Aqua\", \"Arch\", \"Arch\", \"Art\", \"Art\", \"Art\", \"Art\", \"Art\", \"Art\", \"Art\", \"Art\", \"Art\", \"Art\", \"Arthropod\", \"Artwork\", \"Asphalt\", \"Asphalt\", \"Asphalt\", \"Astronomy\", \"Astronomy\", \"Atmosphere\", \"Atmospheric phenomenon\", \"Audience\", \"Audio equipment\", \"Audio equipment\", \"Audio equipment\", \"Audio equipment\", \"Audio equipment\", \"Audio equipment\", \"Auto part\", \"Auto part\", \"Auto part\", \"Auto racing\", \"Automotive design\", \"Automotive design\", \"Automotive design\", \"Automotive exterior\", \"Automotive exterior\", \"Automotive exterior\", \"Automotive exterior\", \"Automotive exterior\", \"Automotive lighting\", \"Automotive lighting\", \"Automotive lighting\", \"Automotive lighting\", \"Automotive lighting\", \"Automotive parking light\", \"Automotive tire\", \"Automotive tire\", \"Automotive tire\", \"Automotive tire\", \"Automotive tire\", \"Automotive tire\", \"Automotive wheel system\", \"Automotive wheel system\", \"Automotive wheel system\", \"Automotive wheel system\", \"Automotive window part\", \"Automotive window part\", \"Automotive window part\", \"Aviation\", \"Aviation\", \"Aviation\", \"Azure\", \"Azure\", \"Azure\", \"Azure\", \"Baby\", \"Banknote\", \"Banner\", \"Banner\", \"Banner\", \"Banner\", \"Banner\", \"Barware\", \"Beak\", \"Beak\", \"Beauty\", \"Biome\", \"Biome\", \"Black hair\", \"Blazer\", \"Blue\", \"Blue\", \"Blue\", \"Blue\", \"Boat\", \"Boating\", \"Body jewelry\", \"Book\", \"Book\", \"Book\", \"Book\", \"Book\", \"Book\", \"Book\", \"Book\", \"Book\", \"Book\", \"Book cover\", \"Book cover\", \"Book cover\", \"Book cover\", \"Book cover\", \"Book cover\", \"Book cover\", \"Book cover\", \"Bookcase\", \"Bookcase\", \"Bottle\", \"Brand\", \"Brand\", \"Brand\", \"Brand\", \"Brand\", \"Brand\", \"Brand\", \"Brand\", \"Brand\", \"Brand\", \"Brick\", \"Brick\", \"Brick\", \"Brick\", \"Brickwork\", \"Brickwork\", \"Brickwork\", \"Bridle\", \"Brown\", \"Brown\", \"Building\", \"Building\", \"Building\", \"Building\", \"Building\", \"Building\", \"Bumper\", \"Bumper\", \"Cable\", \"Calligraphy\", \"Calligraphy\", \"Calm\", \"Car\", \"Car\", \"Carbon\", \"Carmine\", \"Carmine\", \"Carmine\", \"Cartoon\", \"Carving\", \"Cash\", \"Cellular network\", \"Cg artwork\", \"Chain-link fencing\", \"Child\", \"Child\", \"Chin\", \"Chin\", \"Chin\", \"Circle\", \"Circle\", \"Circle\", \"Circle\", \"Circle\", \"Circle\", \"Circle\", \"Circle\", \"Circle\", \"Circle\", \"Citrus\", \"City\", \"City\", \"City\", \"City\", \"City\", \"City\", \"City car\", \"Cityscape\", \"Classic car\", \"Classical architecture\", \"Clip art\", \"Cloud\", \"Cloud\", \"Cloud\", \"Coast\", \"Cocktail dress\", \"Coin\", \"Collage\", \"Colorfulness\", \"Column\", \"Comfort food\", \"Comfort food\", \"Comic book\", \"Comics\", \"Commemorative plaque\", \"Commemorative plaque\", \"Commercial building\", \"Commercial building\", \"Communication Device\", \"Community\", \"Compact car\", \"Competition event\", \"Composite material\", \"Composite material\", \"Composite material\", \"Composite material\", \"Computer accessory\", \"Computer icon\", \"Condominium\", \"Conifer\", \"Conversation\", \"Cool\", \"Cosmetics\", \"Costume\", \"Costume design\", \"Crowd\", \"Crowd\", \"Cuisine\", \"Cuisine\", \"Cumulus\", \"Cumulus\", \"Cumulus\", \"Currency\", \"Dairy\", \"Darkness\", \"Darkness\", \"Darkness\", \"Darkness\", \"Darkness\", \"Darkness\", \"Day dress\", \"Diagram\", \"Diagram\", \"Diagram\", \"Diagram\", \"Diagram\", \"Dish\", \"Display device\", \"Display device\", \"Display device\", \"Display device\", \"Display device\", \"Distilled beverage\", \"Document\", \"Document\", \"Document\", \"Dome\", \"Door\", \"Door\", \"Door\", \"Door\", \"Drawing\", \"Drawing\", \"Drawing\", \"Drawing\", \"Drink\", \"Drinkware\", \"Dusk\", \"Earth\", \"Ecoregion\", \"Ecoregion\", \"Elbow\", \"Electric blue\", \"Electric blue\", \"Electric blue\", \"Electric blue\", \"Electric blue\", \"Electric blue\", \"Electric blue\", \"Electric blue\", \"Electric blue\", \"Electronic device\", \"Electronic instrument\", \"Electronic instrument\", \"Electronic signage\", \"Electronics\", \"Electronics\", \"Electronics accessory\", \"Embellishment\", \"Entertainment\", \"Entertainment\", \"Entertainment\", \"Entertainment\", \"Entertainment\", \"Evening\", \"Event\", \"Event\", \"Event\", \"Event\", \"Event\", \"Event\", \"Event\", \"Event\", \"Event\", \"Event\", \"Eye\", \"Eye\", \"Eye\", \"Eye shadow\", \"Eyebrow\", \"Eyebrow\", \"Eyelash\", \"Eyelash\", \"Eyelash\", \"Eyelash\", \"Eyelash\", \"Eyelash\", \"Eyewear\", \"Eyewear\", \"Eyewear\", \"Eyewear\", \"Facade\", \"Facade\", \"Facade\", \"Facade\", \"Facial expression\", \"Facial expression\", \"Facial expression\", \"Facial hair\", \"Facial hair\", \"Facial hair\", \"Family car\", \"Fan\", \"Fashion accessory\", \"Fashion accessory\", \"Fashion accessory\", \"Fashion accessory\", \"Fashion accessory\", \"Fashion accessory\", \"Fashion accessory\", \"Fashion accessory\", \"Fashion model\", \"Fence\", \"Fiction\", \"Fiction\", \"Fiction\", \"Fictional character\", \"Fictional character\", \"Fictional character\", \"Fictional character\", \"Fictional character\", \"Field\", \"Fin\", \"Finger\", \"Finger food\", \"Flat panel display\", \"Floor\", \"Flooring\", \"Flooring\", \"Flooring\", \"Flooring\", \"Flooring\", \"Flooring\", \"Floral design\", \"Floristry\", \"Flower\", \"Flowering plant\", \"Fluid\", \"Fog\", \"Food\", \"Food\", \"Food\", \"Food group\", \"Forehead\", \"Forehead\", \"Forest\", \"Formal wear\", \"Formal wear\", \"Formal wear\", \"Formula racing\", \"Fruit\", \"Fruit\", \"Fruit\", \"Full-size car\", \"Fun\", \"Fun\", \"Fur\", \"Fur\", \"Fur\", \"Fur\", \"Fur\", \"Fur\", \"Gadget\", \"Gadget\", \"Gas\", \"Gas\", \"Gas\", \"Gas\", \"Gas\", \"Gesture\", \"Gesture\", \"Gesture\", \"Gesture\", \"Gesture\", \"Gesture\", \"Glass\", \"Glass\", \"Glass\", \"Glass\", \"Glass\", \"Glass\", \"Glass\", \"Glass bottle\", \"Goggles\", \"Graphic design\", \"Graphic design\", \"Graphic design\", \"Graphic design\", \"Graphic design\", \"Graphics\", \"Graphics\", \"Graphics\", \"Graphics\", \"Graphics\", \"Graphics\", \"Graphics\", \"Graphics\", \"Grass\", \"Grass\", \"Grass\", \"Grass\", \"Grass\", \"Grass\", \"Grass\", \"Grass family\", \"Grassland\", \"Grassland\", \"Grassland\", \"Grave\", \"Grey\", \"Hair coloring\", \"Hair coloring\", \"Handrail\", \"Handwriting\", \"Handwriting\", \"Handwriting\", \"Handwriting\", \"Handwriting\", \"Handwriting\", \"Happy\", \"Happy\", \"Happy\", \"Happy\", \"Happy\", \"Happy\", \"Hardtop\", \"Hardwood\", \"Hardwood\", \"Hat\", \"Hat\", \"Hat\", \"Hat\", \"Haute couture\", \"Haze\", \"Headlamp\", \"Heart\", \"Heat\", \"Heat\", \"Heat\", \"Hero\", \"Hill\", \"Historic site\", \"Historic site\", \"History\", \"History\", \"History\", \"History\", \"History\", \"History\", \"History\", \"History\", \"Holy places\", \"Hood\", \"Horizon\", \"Horizon\", \"Horse\", \"Horse\", \"Horse\", \"Horse supplies\", \"House\", \"House\", \"Human leg\", \"Illustration\", \"Illustration\", \"Illustration\", \"Illustration\", \"Illustration\", \"Illustration\", \"Illustration\", \"Illustration\", \"Illustration\", \"Indycar series\", \"Ingredient\", \"Ingredient\", \"Ingredient\", \"Ink\", \"Ink\", \"Iris\", \"Island\", \"Jaw\", \"Jaw\", \"Jewellery\", \"Job\", \"Jungle\", \"Jungle\", \"Jungle\", \"Kit car\", \"Knee\", \"Label\", \"Label\", \"Label\", \"Label\", \"Lake\", \"Lake\", \"Lake district\", \"Lake district\", \"Landmark\", \"Landmark\", \"Landmark\", \"Landscape\", \"Landscape\", \"Landscape\", \"Landscape\", \"Landscape\", \"Landscape\", \"Laptop\", \"Laptop part\", \"Leg\", \"Leisure\", \"Leisure\", \"Leisure\", \"Letter\", \"Letter\", \"Line art\", \"Lipstick\", \"Liqueur\", \"Liquid\", \"Liquid\", \"Liquid\", \"Local food\", \"Logo\", \"Logo\", \"Logo\", \"Logo\", \"Logo\", \"Logo\", \"Logo\", \"Logo\", \"Logo\", \"Logo\", \"Luxury vehicle\", \"Macro photography\", \"Macro photography\", \"Macro photography\", \"Macro photography\", \"Macro photography\", \"Macro photography\", \"Magazine\", \"Magazine\", \"Magazine\", \"Magazine\", \"Magazine\", \"Magenta\", \"Magenta\", \"Magenta\", \"Magenta\", \"Magenta\", \"Magenta\", \"Magenta\", \"Magenta\", \"Magenta\", \"Major appliance\", \"Marine biology\", \"Marine mammal\", \"Material property\", \"Material property\", \"Material property\", \"Material property\", \"Material property\", \"Meal\", \"Media\", \"Media\", \"Media\", \"Medieval architecture\", \"Menu\", \"Metal\", \"Metal\", \"Metal\", \"Metal\", \"Metal\", \"Metal\", \"Metal\", \"Meteorological phenomenon\", \"Mid-size car\", \"Military person\", \"Mixed-use\", \"Mobile device\", \"Modern art\", \"Modern art\", \"Money\", \"Money handling\", \"Monochrome\", \"Monochrome\", \"Monochrome\", \"Monochrome photography\", \"Monochrome photography\", \"Monochrome photography\", \"Monument\", \"Moths and butterflies\", \"Motor vehicle\", \"Motor vehicle\", \"Motor vehicle\", \"Motor vehicle\", \"Motorsport\", \"Moustache\", \"Moustache\", \"Moustache\", \"Movie\", \"Movie\", \"Movie\", \"Multimedia\", \"Multimedia\", \"Multimedia\", \"Music\", \"Music\", \"Music\", \"Music\", \"Music\", \"Music\", \"Music\", \"Music\", \"Musical instrument\", \"Musical instrument\", \"Musical instrument\", \"Musical instrument\", \"Musical instrument\", \"Musical instrument\", \"Mythology\", \"Mythology\", \"National historic landmark\", \"Natural foods\", \"Natural foods\", \"Natural foods\", \"Natural landscape\", \"Natural landscape\", \"Natural landscape\", \"Natural material\", \"Nature reserve\", \"Necklace\", \"Neon\", \"Neon sign\", \"News\", \"News\", \"News\", \"News\", \"News\", \"News\", \"News\", \"News\", \"Newspaper\", \"Newspaper\", \"Newspaper\", \"Newspaper\", \"Newsprint\", \"Newsprint\", \"Night\", \"Night\", \"Night\", \"Nose\", \"Nose\", \"Number\", \"Number\", \"Number\", \"Ocean\", \"Ocean\", \"Office supplies\", \"Office supplies\", \"Office supplies\", \"Office supplies\", \"Office supplies\", \"Official\", \"Open-wheel car\", \"Orange\", \"Orange\", \"Orange\", \"Orange\", \"Orange\", \"Organ\", \"Organism\", \"Organism\", \"Organism\", \"Organism\", \"Organism\", \"Outer space\", \"Outerwear\", \"Output device\", \"Painting\", \"Painting\", \"Painting\", \"Painting\", \"Paper\", \"Paper\", \"Paper\", \"Paper\", \"Paper\", \"Paper product\", \"Paper product\", \"Paper product\", \"Paper product\", \"Paper product\", \"Paper product\", \"Paper product\", \"Paper product\", \"Paper product\", \"Parallel\", \"Parallel\", \"Pasture\", \"Pattern\", \"Pattern\", \"Pattern\", \"Pattern\", \"Pattern\", \"Pattern\", \"Pattern\", \"Pattern\", \"Pattern\", \"Pattern\", \"Pc game\", \"Peach\", \"Peach\", \"Peach\", \"Peach\", \"Peach\", \"Peach\", \"Peach\", \"Pen\", \"People\", \"People\", \"Personal care\", \"Personal luxury car\", \"Personal protective equipment\", \"Personal protective equipment\", \"Personal protective equipment\", \"Personal protective equipment\", \"Pet supply\", \"Petal\", \"Petal\", \"Petal\", \"Petal\", \"Photo caption\", \"Photo caption\", \"Photo caption\", \"Photo caption\", \"Photo caption\", \"Photo caption\", \"Photo caption\", \"Photo caption\", \"Photo shoot\", \"Photograph\", \"Photograph\", \"Photography\", \"Photography\", \"Photography\", \"Photography\", \"Pianist\", \"Place of worship\", \"Plain\", \"Plan\", \"Plan\", \"Planet\", \"Plant\", \"Plant\", \"Plant\", \"Plant\", \"Plant\", \"Plant\", \"Plant\", \"Play\", \"Plucked string instruments\", \"Plywood\", \"Pollinator\", \"Portable communications device\", \"Portrait\", \"Portrait\", \"Portrait photography\", \"Poster\", \"Poster\", \"Poster\", \"Poster\", \"Poster\", \"Poster\", \"Poster\", \"Poster\", \"Poster\", \"Prairie\", \"Produce\", \"Product\", \"Product\", \"Product\", \"Product\", \"Product\", \"Product\", \"Product\", \"Product\", \"Product\", \"Public event\", \"Public event\", \"Publication\", \"Publication\", \"Publication\", \"Publication\", \"Publication\", \"Publication\", \"Publication\", \"Publication\", \"Publication\", \"Publication\", \"Purple\", \"Purple\", \"Race car\", \"Race track\", \"Rainforest\", \"Real estate\", \"Real estate\", \"Recipe\", \"Recipe\", \"Recipe\", \"Recipe\", \"Recipe\", \"Recipe\", \"Recreation\", \"Recreation\", \"Recreation\", \"Recreation\", \"Recreation\", \"Recreation\", \"Recreation\", \"Rectangle\", \"Rectangle\", \"Rectangle\", \"Rectangle\", \"Rectangle\", \"Rectangle\", \"Rectangle\", \"Rectangle\", \"Rectangle\", \"Rectangle\", \"Red sky at morning\", \"Retail\", \"Rim\", \"Rim\", \"Rim\", \"Ring binder\", \"Road\", \"Road surface\", \"Road surface\", \"Rock\", \"Rock\", \"Rock\", \"Romance\", \"Room\", \"Room\", \"Room\", \"Room\", \"Room\", \"Room\", \"Room\", \"Room\", \"Rose\", \"Schematic\", \"Science\", \"Science\", \"Science\", \"Science\", \"Science\", \"Science\", \"Science book\", \"Screenshot\", \"Screenshot\", \"Screenshot\", \"Screenshot\", \"Screenshot\", \"Screenshot\", \"Screenshot\", \"Screenshot\", \"Screenshot\", \"Sculpture\", \"Sea\", \"Seabird\", \"Sedan\", \"Serveware\", \"Serveware\", \"Serveware\", \"Sharing\", \"Sharing\", \"Shelf\", \"Shelf\", \"Shorts\", \"Sign\", \"Sign\", \"Sign\", \"Signage\", \"Signage\", \"Signage\", \"Signage\", \"Signage\", \"Signage\", \"Signage\", \"Sitting\", \"Sitting\", \"Sketch\", \"Sketch\", \"Sketch pad\", \"Sky\", \"Sky\", \"Sky\", \"Sky\", \"Sky\", \"Sleeve\", \"Sleeve\", \"Sleeve\", \"Sleeve\", \"Sleeve\", \"Sleeve\", \"Sleeve\", \"Slope\", \"Slope\", \"Slope\", \"Slope\", \"Slope\", \"Slope\", \"Smartphone\", \"Smile\", \"Smile\", \"Snapshot\", \"Soft drink\", \"Software\", \"Software\", \"Software\", \"Software engineering\", \"Soil\", \"Soil\", \"Soil\", \"Soil\", \"Soil\", \"Soil\", \"Soil\", \"Soldier\", \"Solution\", \"Sound\", \"Sport utility vehicle\", \"Sports car\", \"Square\", \"Square\", \"Square\", \"Stairs\", \"Stairs\", \"Stationery\", \"Statue\", \"Steppe\", \"Street\", \"String instrument\", \"String instrument accessory\", \"Suburb\", \"Suit\", \"Suit\", \"Sunglasses\", \"Sunrise\", \"Sunset\", \"Superfood\", \"Supernatural creature\", \"Sweetness\", \"Symbol\", \"Symbol\", \"Symbol\", \"Symbol\", \"Symbol\", \"Symbol\", \"Symmetry\", \"Symmetry\", \"Symmetry\", \"Symmetry\", \"Symmetry\", \"Symmetry\", \"T-shirt\", \"T-shirt\", \"T-shirt\", \"Tail\", \"Tail\", \"Tank\", \"Team\", \"Technical drawing\", \"Technology\", \"Technology\", \"Technology\", \"Technology\", \"Temperature\", \"Temperature\", \"Temple\", \"Terrestrial animal\", \"Terrestrial animal\", \"Terrestrial animal\", \"Terrestrial animal\", \"Terrestrial animal\", \"Terrestrial animal\", \"Terrestrial plant\", \"Terrestrial plant\", \"Terrestrial plant\", \"Terrestrial plant\", \"Terrestrial plant\", \"Terrestrial plant\", \"Thigh\", \"Thigh\", \"Thumb\", \"Thumb\", \"Thumb\", \"Tie\", \"Tie\", \"Tie\", \"Tie\", \"Tin\", \"Tints and shades\", \"Tints and shades\", \"Tints and shades\", \"Tints and shades\", \"Tints and shades\", \"Tire\", \"Tire\", \"Tire\", \"Tire\", \"Toddler\", \"Tourism\", \"Tourism\", \"Tourism\", \"Tourism\", \"Tourist attraction\", \"Tourist attraction\", \"Tower block\", \"Tower block\", \"Toy\", \"Toy\", \"Toy\", \"Toy block\", \"Trademark\", \"Trademark\", \"Transparency\", \"Transparency\", \"Transparency\", \"Transparency\", \"Transparency\", \"Transport\", \"Transport\", \"Transport\", \"Transport\", \"Transport\", \"Transport\", \"Travel\", \"Travel\", \"Travel\", \"Travel\", \"Tree\", \"Tree\", \"Tree\", \"Tree\", \"Tree\", \"Triangle\", \"Triangle\", \"Triangle\", \"Triangle\", \"Triangle\", \"Triangle\", \"Triangle\", \"Triangle\", \"Trigger\", \"Twig\", \"Twig\", \"Twig\", \"Typesetting\", \"Unesco world heritage site\", \"Uniform\", \"Uniform\", \"Universe\", \"Universe\", \"Urban design\", \"Urban design\", \"Urban design\", \"Urban design\", \"Varnish\", \"Vegan nutrition\", \"Vegetable\", \"Vegetation\", \"Vehicle\", \"Vehicle\", \"Vehicle\", \"Vehicle door\", \"Vehicle door\", \"Vehicle registration plate\", \"Video game software\", \"Vintage advertisement\", \"Vintage advertisement\", \"Vintage car\", \"Vintage clothing\", \"Vintage clothing\", \"Vintage clothing\", \"Violet\", \"Violet\", \"Vision care\", \"Visual arts\", \"Visual arts\", \"Visual arts\", \"Visual arts\", \"Visual arts\", \"Visual arts\", \"Visual effect lighting\", \"Waist\", \"Water\", \"Water\", \"Water\", \"Water\", \"Water\", \"Water\", \"Water sport\", \"Wave\", \"Wax\", \"Web page\", \"Web page\", \"Web page\", \"Wedding dress\", \"Wetland\", \"Wetland\", \"White-collar worker\", \"White-collar worker\", \"Wildflower\", \"Wildlife\", \"Wildlife\", \"Wildlife\", \"Wildlife\", \"Wind\", \"Wind\", \"Wind\", \"Wind wave\", \"Window\", \"Window\", \"Window\", \"Windscreen wiper\", \"Windshield\", \"Wine\", \"Wing\", \"Wing\", \"Wing\", \"Wing\", \"Wire fencing\", \"Wonders of the world\", \"Wonders of the world\", \"Wood\", \"Wood\", \"Wood\", \"Wood\", \"Wood\", \"Wood\", \"Wood\", \"Wood stain\", \"World\", \"World\", \"World\", \"World\", \"World\", \"World\", \"Woven fabric\", \"Wrist\", \"Writing\", \"Writing\", \"Writing\", \"Writing\", \"Writing implement\", \"Writing implement\"]}, \"R\": 30, \"lambda.step\": 0.01, \"plot.opts\": {\"xlab\": \"PC1\", \"ylab\": \"PC2\"}, \"topic.order\": [1, 3, 4, 10, 9, 5, 2, 8, 6, 7]};\n",
       "\n",
       "function LDAvis_load_lib(url, callback){\n",
       "  var s = document.createElement('script');\n",
       "  s.src = url;\n",
       "  s.async = true;\n",
       "  s.onreadystatechange = s.onload = callback;\n",
       "  s.onerror = function(){console.warn(\"failed to load library \" + url);};\n",
       "  document.getElementsByTagName(\"head\")[0].appendChild(s);\n",
       "}\n",
       "\n",
       "if(typeof(LDAvis) !== \"undefined\"){\n",
       "   // already loaded: just create the visualization\n",
       "   !function(LDAvis){\n",
       "       new LDAvis(\"#\" + \"ldavis_el1101404896749483046115468445\", ldavis_el1101404896749483046115468445_data);\n",
       "   }(LDAvis);\n",
       "}else if(typeof define === \"function\" && define.amd){\n",
       "   // require.js is available: use it to load d3/LDAvis\n",
       "   require.config({paths: {d3: \"https://d3js.org/d3.v5\"}});\n",
       "   require([\"d3\"], function(d3){\n",
       "      window.d3 = d3;\n",
       "      LDAvis_load_lib(\"https://cdn.jsdelivr.net/gh/bmabey/pyLDAvis@3.3.1/pyLDAvis/js/ldavis.v3.0.0.js\", function(){\n",
       "        new LDAvis(\"#\" + \"ldavis_el1101404896749483046115468445\", ldavis_el1101404896749483046115468445_data);\n",
       "      });\n",
       "    });\n",
       "}else{\n",
       "    // require.js not available: dynamically load d3 & LDAvis\n",
       "    LDAvis_load_lib(\"https://d3js.org/d3.v5.js\", function(){\n",
       "         LDAvis_load_lib(\"https://cdn.jsdelivr.net/gh/bmabey/pyLDAvis@3.3.1/pyLDAvis/js/ldavis.v3.0.0.js\", function(){\n",
       "                 new LDAvis(\"#\" + \"ldavis_el1101404896749483046115468445\", ldavis_el1101404896749483046115468445_data);\n",
       "            })\n",
       "         });\n",
       "}\n",
       "</script>"
      ],
      "text/plain": [
       "PreparedData(topic_coordinates=              x         y  topics  cluster       Freq\n",
       "topic                                                \n",
       "0     -0.086903  0.057510       1        1  19.923718\n",
       "2     -0.335402 -0.057862       2        1  17.750096\n",
       "3      0.069197  0.115260       3        1  15.200938\n",
       "9      0.243904 -0.193358       4        1   7.991455\n",
       "8     -0.067230 -0.004937       5        1   7.968383\n",
       "4      0.190889 -0.053050       6        1   7.102810\n",
       "1     -0.292080 -0.093797       7        1   6.998840\n",
       "7      0.133301  0.161658       8        1   6.473817\n",
       "5      0.114783 -0.192397       9        1   6.232938\n",
       "6      0.029540  0.260975      10        1   4.357006, topic_info=                       Term         Freq        Total Category  logprob  \\\n",
       "5                     Paper  3818.000000  3818.000000  Default  30.0000   \n",
       "2                  Document  3030.000000  3030.000000  Default  29.0000   \n",
       "6             Paper product  4416.000000  4416.000000  Default  28.0000   \n",
       "7                  Parallel  2357.000000  2357.000000  Default  27.0000   \n",
       "4    Monochrome photography  1044.000000  1044.000000  Default  26.0000   \n",
       "..                      ...          ...          ...      ...      ...   \n",
       "1                    Circle   136.164124  4031.534447  Topic10  -3.8446   \n",
       "152                   Label    58.651916   370.184381  Topic10  -4.6868   \n",
       "24                     Logo    79.287451  3488.272528  Topic10  -4.3854   \n",
       "16               Book cover    64.000707  2676.539151  Topic10  -4.5996   \n",
       "0                       Art    53.335701  3123.161295  Topic10  -4.7819   \n",
       "\n",
       "     loglift  \n",
       "5    30.0000  \n",
       "2    29.0000  \n",
       "6    28.0000  \n",
       "7    27.0000  \n",
       "4    26.0000  \n",
       "..       ...  \n",
       "1    -0.2547  \n",
       "152   1.2910  \n",
       "24   -0.6507  \n",
       "16   -0.6000  \n",
       "0    -0.9366  \n",
       "\n",
       "[657 rows x 6 columns], token_table=      Topic      Freq               Term\n",
       "term                                    \n",
       "500       8  0.974815            Abdomen\n",
       "1229      1  0.910819    Accessory fruit\n",
       "414       3  0.934550      Action figure\n",
       "133       3  0.953600        Action film\n",
       "133       6  0.007224        Action film\n",
       "...     ...       ...                ...\n",
       "189       6  0.064008            Writing\n",
       "189       7  0.504950            Writing\n",
       "189       8  0.035560            Writing\n",
       "984       1  0.214775  Writing implement\n",
       "984       7  0.751714  Writing implement\n",
       "\n",
       "[1219 rows x 3 columns], R=30, lambda_step=0.01, plot_opts={'xlab': 'PC1', 'ylab': 'PC2'}, topic_order=[1, 3, 4, 10, 9, 5, 2, 8, 6, 7])"
      ]
     },
     "execution_count": 98,
     "metadata": {},
     "output_type": "execute_result"
    }
   ],
   "source": [
    "pyLDAvis.enable_notebook()\n",
    "p = pyLDAvis.gensim_models.prepare(ldamodel, bow_corpus, dictionary)\n",
    "p"
   ]
  }
 ],
 "metadata": {
  "kernelspec": {
   "display_name": "Python 3",
   "language": "python",
   "name": "python3"
  },
  "language_info": {
   "codemirror_mode": {
    "name": "ipython",
    "version": 3
   },
   "file_extension": ".py",
   "mimetype": "text/x-python",
   "name": "python",
   "nbconvert_exporter": "python",
   "pygments_lexer": "ipython3",
   "version": "3.7.6"
  }
 },
 "nbformat": 4,
 "nbformat_minor": 4
}
